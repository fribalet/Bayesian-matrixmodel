{
 "cells": [
  {
   "cell_type": "markdown",
   "metadata": {},
   "source": [
    "Load the required packages"
   ]
  },
  {
   "cell_type": "code",
   "execution_count": 2,
   "metadata": {},
   "outputs": [],
   "source": [
    "library(ncdf4)\n",
    "library(viridis)\n",
    "library(fields)\n",
    "library(rstan)\n",
    "options(mc.cores = parallel::detectCores())"
   ]
  },
  {
   "cell_type": "markdown",
   "metadata": {},
   "source": [
    "Load the netcdf file"
   ]
  },
  {
   "cell_type": "code",
   "execution_count": 4,
   "metadata": {},
   "outputs": [],
   "source": [
    "nc <- nc_open('data/SeaFlow_SizeDist_regrid-15-5.nc')"
   ]
  },
  {
   "cell_type": "markdown",
   "metadata": {},
   "source": [
    "Organize the data for R"
   ]
  },
  {
   "cell_type": "code",
   "execution_count": 6,
   "metadata": {},
   "outputs": [],
   "source": [
    "data             <- list()\n",
    "data$w_obs       <- ncvar_get(nc,'w_obs')\n",
    "data$PAR         <- ncvar_get(nc,'PAR')\n",
    "data$m           <- ncvar_get(nc,'m')\n",
    "data$delta_v_inv <- ncvar_get(nc,'delta_v_inv')\n",
    "data$v_min       <- ncvar_get(nc,'v_min')\n",
    "data$time        <- ncvar_get(nc,'time')\n",
    "\n",
    "data$dt     <- 20\n",
    "data$nt     <- 2*1440/data$dt\n",
    "data$nt_obs <- length(data$time)\n",
    "\n",
    "t                 <- (0:data$nt)*data$dt\n",
    "data$E            <- approx(data$time,data$PAR,xout=t)$y\n",
    "data$return_prior <- 0\n",
    "data$obs          <- t(data$w_obs)\n",
    "data$t_obs        <- data$time\n",
    "data$w_ini        <- data$w_obs[1,]\n",
    "\n",
    "delta_v <- 1/data$delta_v_inv\n",
    "v       <- data$v_min*2^(0:14*delta_v)"
   ]
  },
  {
   "cell_type": "markdown",
   "metadata": {},
   "source": [
    "Limit the amount of data we are fitting to"
   ]
  },
  {
   "cell_type": "code",
   "execution_count": 7,
   "metadata": {},
   "outputs": [],
   "source": [
    "limit_to_numdays <- 2.0\n",
    "stride_t_obs     <- 20\n",
    "\n",
    "ind_obs    <- data$t_obs > 3\n",
    "data$t_obs <- data$t_obs[ind_obs]\n",
    "data$obs   <- data$obs[,ind_obs]\n",
    "\n",
    "if(limit_to_numdays > 0){\n",
    "    thresh     <- limit_to_numdays*1440\n",
    "    ind_obs    <- data$t_obs < thresh\n",
    "    data$t_obs <- data$t_obs[ind_obs]\n",
    "    data$obs   <- data$obs[,ind_obs]\n",
    "\n",
    "    data$nt    <- thresh/data$dt\n",
    "    data$E     <- data$E[t < thresh]\n",
    "}\n",
    "\n",
    "if(stride_t_obs > 0){\n",
    "    data$t_obs <- data$t_obs[seq(1,length(data$t_obs),stride_t_obs)]\n",
    "    data$obs   <- data$obs[,seq(1,ncol(data$obs),stride_t_obs)]\n",
    "}\n",
    "\n",
    "data$nt_obs <- dim(data$obs)[2]"
   ]
  },
  {
   "cell_type": "markdown",
   "metadata": {},
   "source": [
    "Separate training and test data"
   ]
  },
  {
   "cell_type": "code",
   "execution_count": 103,
   "metadata": {},
   "outputs": [],
   "source": [
    "i_test_1 <- c(rep(0,31),rep(1,15))\n",
    "i_test_2 <- rbinom(n=46,size=1,p=0.2)\n",
    "i_test_3 <- c(rep(0,10),rep(1,5),rep(0,10),rep(1,5),rep(0,16))"
   ]
  },
  {
   "cell_type": "markdown",
   "metadata": {},
   "source": [
    "Make three datasets with different i_test divisions"
   ]
  },
  {
   "cell_type": "code",
   "execution_count": 104,
   "metadata": {},
   "outputs": [],
   "source": [
    "data_1        <- data\n",
    "data_1$i_test <- i_test_1\n",
    "data_2        <- data\n",
    "data_2$i_test <- i_test_2\n",
    "data_3        <- data\n",
    "data_3$i_test <- i_test_3"
   ]
  },
  {
   "cell_type": "markdown",
   "metadata": {},
   "source": [
    "Visualize the test and training separations"
   ]
  },
  {
   "cell_type": "code",
   "execution_count": 105,
   "metadata": {},
   "outputs": [
    {
     "data": {
      "image/png": "[encoded data removed]",
      "text/plain": [
       "plot without title"
      ]
     },
     "metadata": {},
     "output_type": "display_data"
    }
   ],
   "source": [
    "options(repr.plot.width=6, repr.plot.height=5)\n",
    "par(mfrow=c(3,1),mar=c(3,5,3,3))\n",
    "plot(i_test_1)\n",
    "plot(i_test_2)\n",
    "plot(i_test_3)"
   ]
  },
  {
   "cell_type": "code",
   "execution_count": null,
   "metadata": {},
   "outputs": [],
   "source": [
    "data$i_test = c(rep(0,35),rep(1,11))"
   ]
  },
  {
   "cell_type": "markdown",
   "metadata": {},
   "source": [
    "The original allometric parameterization follows\n",
    "$$ \\delta(v) = \\delta_{max}\\frac{v^b}{1 + v^b} $$\n",
    "\n",
    "Compile the allometric model:"
   ]
  },
  {
   "cell_type": "code",
   "execution_count": 34,
   "metadata": {},
   "outputs": [],
   "source": [
    "mod_orig <- stan_model('matrixmodel_orig_CV.stan')"
   ]
  },
  {
   "cell_type": "markdown",
   "metadata": {},
   "source": [
    "The size-specific Gaussian model follows\n",
    "$$ \\delta(v) \\sim N(\\mu,\\sigma^2_{\\delta}) $$\n",
    "\n",
    "Compile the Gaussian model"
   ]
  },
  {
   "cell_type": "code",
   "execution_count": 33,
   "metadata": {},
   "outputs": [],
   "source": [
    "mod_free <- stan_model('matrixmodel_freedelta_CV.stan')"
   ]
  },
  {
   "cell_type": "markdown",
   "metadata": {},
   "source": [
    "The sigmoidal model follows\n",
    "$$ \\delta(v) = \\delta_{max} \\frac{1}{1 + e^{\\phi (v-v_0)}} $$\n",
    "\n",
    "Compile the model:"
   ]
  },
  {
   "cell_type": "code",
   "execution_count": 35,
   "metadata": {},
   "outputs": [],
   "source": [
    "mod_sig  <- stan_model('matrixmodel_sigmoidaldelta_CV.stan')"
   ]
  },
  {
   "cell_type": "markdown",
   "metadata": {},
   "source": [
    "The freeest of them all, i.e. no hyper-prior on $\\delta(v)$"
   ]
  },
  {
   "cell_type": "code",
   "execution_count": 126,
   "metadata": {},
   "outputs": [],
   "source": [
    "mod_free_np <- stan_model('matrixmodel_freedelta_no_prior_CV.stan')"
   ]
  },
  {
   "cell_type": "markdown",
   "metadata": {},
   "source": [
    "Fit the size-specific Gaussian model using the three training/test divisions"
   ]
  },
  {
   "cell_type": "code",
   "execution_count": 100,
   "metadata": {},
   "outputs": [],
   "source": [
    "mcmc_free_1 <- sampling(mod_free, data=data_1, open_progress=TRUE, chains=4)"
   ]
  },
  {
   "cell_type": "code",
   "execution_count": 101,
   "metadata": {},
   "outputs": [],
   "source": [
    "mcmc_free_2 <- sampling(mod_free, data=data_2, open_progress=TRUE, chains=4)"
   ]
  },
  {
   "cell_type": "code",
   "execution_count": 106,
   "metadata": {},
   "outputs": [],
   "source": [
    "mcmc_free_3 <- sampling(mod_free, data=data_3, open_progress=TRUE, chains=4)"
   ]
  },
  {
   "cell_type": "code",
   "execution_count": 107,
   "metadata": {},
   "outputs": [],
   "source": [
    "post_free_1 <- extract(mcmc_free_1)\n",
    "post_free_2 <- extract(mcmc_free_2)\n",
    "post_free_3 <- extract(mcmc_free_3)"
   ]
  },
  {
   "cell_type": "code",
   "execution_count": 108,
   "metadata": {},
   "outputs": [
    {
     "data": {
      "text/html": [
       "<table>\n",
       "<caption>A matrix: 16 × 10 of type dbl</caption>\n",
       "<thead>\n",
       "\t<tr><th></th><th scope=col>mean</th><th scope=col>se_mean</th><th scope=col>sd</th><th scope=col>2.5%</th><th scope=col>25%</th><th scope=col>50%</th><th scope=col>75%</th><th scope=col>97.5%</th><th scope=col>n_eff</th><th scope=col>Rhat</th></tr>\n",
       "</thead>\n",
       "<tbody>\n",
       "\t<tr><th scope=row>delta_mu</th><td>   3.35018532</td><td>1.183784e-02</td><td> 0.826579708</td><td>   1.80717587</td><td>   2.75940739</td><td>   3.3349529</td><td>   3.9129593</td><td>   5.0077788</td><td>4875.563</td><td>0.9996073</td></tr>\n",
       "\t<tr><th scope=row>delta_sigma</th><td>   4.29878926</td><td>1.700590e-02</td><td> 0.977481928</td><td>   2.41389537</td><td>   3.63251482</td><td>   4.3013943</td><td>   4.9585557</td><td>   6.2742608</td><td>3303.835</td><td>0.9999067</td></tr>\n",
       "\t<tr><th scope=row>delta_max[1]</th><td>   0.45252706</td><td>2.119528e-03</td><td> 0.118235064</td><td>   0.26880110</td><td>   0.36329423</td><td>   0.4376103</td><td>   0.5234443</td><td>   0.7294423</td><td>3111.817</td><td>1.0002562</td></tr>\n",
       "\t<tr><th scope=row>delta_max[2]</th><td>   1.41169676</td><td>2.749020e-03</td><td> 0.168507241</td><td>   1.09968107</td><td>   1.30362134</td><td>   1.4002415</td><td>   1.5100911</td><td>   1.7881228</td><td>3757.348</td><td>0.9998912</td></tr>\n",
       "\t<tr><th scope=row>delta_max[3]</th><td>   2.02778867</td><td>6.253344e-03</td><td> 0.375390523</td><td>   1.34549458</td><td>   1.76654294</td><td>   2.0218749</td><td>   2.2678180</td><td>   2.8047365</td><td>3603.645</td><td>1.0008940</td></tr>\n",
       "\t<tr><th scope=row>delta_max[4]</th><td>   2.53298130</td><td>8.869765e-03</td><td> 0.551712197</td><td>   1.56589674</td><td>   2.14798346</td><td>   2.4976383</td><td>   2.8745143</td><td>   3.7479971</td><td>3869.020</td><td>0.9995215</td></tr>\n",
       "\t<tr><th scope=row>delta_max[5]</th><td>   2.37366557</td><td>9.826116e-03</td><td> 0.587122088</td><td>   1.33303379</td><td>   1.96547027</td><td>   2.3324102</td><td>   2.7432355</td><td>   3.6489360</td><td>3570.205</td><td>0.9998596</td></tr>\n",
       "\t<tr><th scope=row>delta_max[6]</th><td>   2.69489357</td><td>1.580950e-02</td><td> 0.899818398</td><td>   1.09109839</td><td>   2.07386397</td><td>   2.6572340</td><td>   3.2413964</td><td>   4.6034281</td><td>3239.466</td><td>1.0003248</td></tr>\n",
       "\t<tr><th scope=row>delta_max[7]</th><td>   6.75145472</td><td>3.191691e-02</td><td> 2.233925250</td><td>   3.26006995</td><td>   5.23427421</td><td>   6.4147165</td><td>   7.9717136</td><td>  12.1745038</td><td>4898.865</td><td>0.9997344</td></tr>\n",
       "\t<tr><th scope=row>delta_max[8]</th><td>   9.00609414</td><td>5.078676e-02</td><td> 3.311099050</td><td>   3.37917242</td><td>   6.64929064</td><td>   8.6706856</td><td>  11.0119298</td><td>  16.3616369</td><td>4250.532</td><td>0.9997726</td></tr>\n",
       "\t<tr><th scope=row>delta_max[9]</th><td>   7.12351541</td><td>5.765890e-02</td><td> 3.538653189</td><td>   1.31430797</td><td>   4.54060607</td><td>   6.7698920</td><td>   9.3391954</td><td>  15.0295443</td><td>3766.546</td><td>0.9996206</td></tr>\n",
       "\t<tr><th scope=row>delta_max[10]</th><td>   6.18022195</td><td>6.472964e-02</td><td> 3.404226633</td><td>   0.68560528</td><td>   3.72254734</td><td>   5.7999833</td><td>   8.2088671</td><td>  13.9598547</td><td>2765.862</td><td>0.9996069</td></tr>\n",
       "\t<tr><th scope=row>gamma_max</th><td>  26.22857335</td><td>5.335816e-02</td><td> 2.459424891</td><td>  21.62705818</td><td>  24.53650650</td><td>  26.1321111</td><td>  27.8030354</td><td>  31.3091775</td><td>2124.542</td><td>1.0014540</td></tr>\n",
       "\t<tr><th scope=row>E_star</th><td>3000.06530174</td><td>1.431733e-01</td><td>10.339657732</td><td>2980.13056166</td><td>2992.98202724</td><td>3000.3723191</td><td>3007.1549286</td><td>3020.2866747</td><td>5215.408</td><td>0.9994802</td></tr>\n",
       "\t<tr><th scope=row>sigma</th><td>   0.09904832</td><td>8.716631e-05</td><td> 0.005851387</td><td>   0.08831844</td><td>   0.09505917</td><td>   0.0988369</td><td>   0.1028725</td><td>   0.1113213</td><td>4506.303</td><td>0.9993499</td></tr>\n",
       "\t<tr><th scope=row>log_like_test</th><td>  -2.43498616</td><td>4.183134e-03</td><td> 0.291546481</td><td>  -3.07095858</td><td>  -2.61703776</td><td>  -2.4071464</td><td>  -2.2299477</td><td>  -1.9410701</td><td>4857.491</td><td>0.9997849</td></tr>\n",
       "</tbody>\n",
       "</table>\n"
      ],
      "text/latex": [
       "A matrix: 16 × 10 of type dbl\n",
       "\\begin{tabular}{r|llllllllll}\n",
       "  & mean & se\\_mean & sd & 2.5\\% & 25\\% & 50\\% & 75\\% & 97.5\\% & n\\_eff & Rhat\\\\\n",
       "\\hline\n",
       "\tdelta\\_mu &    3.35018532 & 1.183784e-02 &  0.826579708 &    1.80717587 &    2.75940739 &    3.3349529 &    3.9129593 &    5.0077788 & 4875.563 & 0.9996073\\\\\n",
       "\tdelta\\_sigma &    4.29878926 & 1.700590e-02 &  0.977481928 &    2.41389537 &    3.63251482 &    4.3013943 &    4.9585557 &    6.2742608 & 3303.835 & 0.9999067\\\\\n",
       "\tdelta\\_max{[}1{]} &    0.45252706 & 2.119528e-03 &  0.118235064 &    0.26880110 &    0.36329423 &    0.4376103 &    0.5234443 &    0.7294423 & 3111.817 & 1.0002562\\\\\n",
       "\tdelta\\_max{[}2{]} &    1.41169676 & 2.749020e-03 &  0.168507241 &    1.09968107 &    1.30362134 &    1.4002415 &    1.5100911 &    1.7881228 & 3757.348 & 0.9998912\\\\\n",
       "\tdelta\\_max{[}3{]} &    2.02778867 & 6.253344e-03 &  0.375390523 &    1.34549458 &    1.76654294 &    2.0218749 &    2.2678180 &    2.8047365 & 3603.645 & 1.0008940\\\\\n",
       "\tdelta\\_max{[}4{]} &    2.53298130 & 8.869765e-03 &  0.551712197 &    1.56589674 &    2.14798346 &    2.4976383 &    2.8745143 &    3.7479971 & 3869.020 & 0.9995215\\\\\n",
       "\tdelta\\_max{[}5{]} &    2.37366557 & 9.826116e-03 &  0.587122088 &    1.33303379 &    1.96547027 &    2.3324102 &    2.7432355 &    3.6489360 & 3570.205 & 0.9998596\\\\\n",
       "\tdelta\\_max{[}6{]} &    2.69489357 & 1.580950e-02 &  0.899818398 &    1.09109839 &    2.07386397 &    2.6572340 &    3.2413964 &    4.6034281 & 3239.466 & 1.0003248\\\\\n",
       "\tdelta\\_max{[}7{]} &    6.75145472 & 3.191691e-02 &  2.233925250 &    3.26006995 &    5.23427421 &    6.4147165 &    7.9717136 &   12.1745038 & 4898.865 & 0.9997344\\\\\n",
       "\tdelta\\_max{[}8{]} &    9.00609414 & 5.078676e-02 &  3.311099050 &    3.37917242 &    6.64929064 &    8.6706856 &   11.0119298 &   16.3616369 & 4250.532 & 0.9997726\\\\\n",
       "\tdelta\\_max{[}9{]} &    7.12351541 & 5.765890e-02 &  3.538653189 &    1.31430797 &    4.54060607 &    6.7698920 &    9.3391954 &   15.0295443 & 3766.546 & 0.9996206\\\\\n",
       "\tdelta\\_max{[}10{]} &    6.18022195 & 6.472964e-02 &  3.404226633 &    0.68560528 &    3.72254734 &    5.7999833 &    8.2088671 &   13.9598547 & 2765.862 & 0.9996069\\\\\n",
       "\tgamma\\_max &   26.22857335 & 5.335816e-02 &  2.459424891 &   21.62705818 &   24.53650650 &   26.1321111 &   27.8030354 &   31.3091775 & 2124.542 & 1.0014540\\\\\n",
       "\tE\\_star & 3000.06530174 & 1.431733e-01 & 10.339657732 & 2980.13056166 & 2992.98202724 & 3000.3723191 & 3007.1549286 & 3020.2866747 & 5215.408 & 0.9994802\\\\\n",
       "\tsigma &    0.09904832 & 8.716631e-05 &  0.005851387 &    0.08831844 &    0.09505917 &    0.0988369 &    0.1028725 &    0.1113213 & 4506.303 & 0.9993499\\\\\n",
       "\tlog\\_like\\_test &   -2.43498616 & 4.183134e-03 &  0.291546481 &   -3.07095858 &   -2.61703776 &   -2.4071464 &   -2.2299477 &   -1.9410701 & 4857.491 & 0.9997849\\\\\n",
       "\\end{tabular}\n"
      ],
      "text/markdown": [
       "\n",
       "A matrix: 16 × 10 of type dbl\n",
       "\n",
       "| <!--/--> | mean | se_mean | sd | 2.5% | 25% | 50% | 75% | 97.5% | n_eff | Rhat |\n",
       "|---|---|---|---|---|---|---|---|---|---|---|\n",
       "| delta_mu |    3.35018532 | 1.183784e-02 |  0.826579708 |    1.80717587 |    2.75940739 |    3.3349529 |    3.9129593 |    5.0077788 | 4875.563 | 0.9996073 |\n",
       "| delta_sigma |    4.29878926 | 1.700590e-02 |  0.977481928 |    2.41389537 |    3.63251482 |    4.3013943 |    4.9585557 |    6.2742608 | 3303.835 | 0.9999067 |\n",
       "| delta_max[1] |    0.45252706 | 2.119528e-03 |  0.118235064 |    0.26880110 |    0.36329423 |    0.4376103 |    0.5234443 |    0.7294423 | 3111.817 | 1.0002562 |\n",
       "| delta_max[2] |    1.41169676 | 2.749020e-03 |  0.168507241 |    1.09968107 |    1.30362134 |    1.4002415 |    1.5100911 |    1.7881228 | 3757.348 | 0.9998912 |\n",
       "| delta_max[3] |    2.02778867 | 6.253344e-03 |  0.375390523 |    1.34549458 |    1.76654294 |    2.0218749 |    2.2678180 |    2.8047365 | 3603.645 | 1.0008940 |\n",
       "| delta_max[4] |    2.53298130 | 8.869765e-03 |  0.551712197 |    1.56589674 |    2.14798346 |    2.4976383 |    2.8745143 |    3.7479971 | 3869.020 | 0.9995215 |\n",
       "| delta_max[5] |    2.37366557 | 9.826116e-03 |  0.587122088 |    1.33303379 |    1.96547027 |    2.3324102 |    2.7432355 |    3.6489360 | 3570.205 | 0.9998596 |\n",
       "| delta_max[6] |    2.69489357 | 1.580950e-02 |  0.899818398 |    1.09109839 |    2.07386397 |    2.6572340 |    3.2413964 |    4.6034281 | 3239.466 | 1.0003248 |\n",
       "| delta_max[7] |    6.75145472 | 3.191691e-02 |  2.233925250 |    3.26006995 |    5.23427421 |    6.4147165 |    7.9717136 |   12.1745038 | 4898.865 | 0.9997344 |\n",
       "| delta_max[8] |    9.00609414 | 5.078676e-02 |  3.311099050 |    3.37917242 |    6.64929064 |    8.6706856 |   11.0119298 |   16.3616369 | 4250.532 | 0.9997726 |\n",
       "| delta_max[9] |    7.12351541 | 5.765890e-02 |  3.538653189 |    1.31430797 |    4.54060607 |    6.7698920 |    9.3391954 |   15.0295443 | 3766.546 | 0.9996206 |\n",
       "| delta_max[10] |    6.18022195 | 6.472964e-02 |  3.404226633 |    0.68560528 |    3.72254734 |    5.7999833 |    8.2088671 |   13.9598547 | 2765.862 | 0.9996069 |\n",
       "| gamma_max |   26.22857335 | 5.335816e-02 |  2.459424891 |   21.62705818 |   24.53650650 |   26.1321111 |   27.8030354 |   31.3091775 | 2124.542 | 1.0014540 |\n",
       "| E_star | 3000.06530174 | 1.431733e-01 | 10.339657732 | 2980.13056166 | 2992.98202724 | 3000.3723191 | 3007.1549286 | 3020.2866747 | 5215.408 | 0.9994802 |\n",
       "| sigma |    0.09904832 | 8.716631e-05 |  0.005851387 |    0.08831844 |    0.09505917 |    0.0988369 |    0.1028725 |    0.1113213 | 4506.303 | 0.9993499 |\n",
       "| log_like_test |   -2.43498616 | 4.183134e-03 |  0.291546481 |   -3.07095858 |   -2.61703776 |   -2.4071464 |   -2.2299477 |   -1.9410701 | 4857.491 | 0.9997849 |\n",
       "\n"
      ],
      "text/plain": [
       "              mean          se_mean      sd           2.5%         \n",
       "delta_mu         3.35018532 1.183784e-02  0.826579708    1.80717587\n",
       "delta_sigma      4.29878926 1.700590e-02  0.977481928    2.41389537\n",
       "delta_max[1]     0.45252706 2.119528e-03  0.118235064    0.26880110\n",
       "delta_max[2]     1.41169676 2.749020e-03  0.168507241    1.09968107\n",
       "delta_max[3]     2.02778867 6.253344e-03  0.375390523    1.34549458\n",
       "delta_max[4]     2.53298130 8.869765e-03  0.551712197    1.56589674\n",
       "delta_max[5]     2.37366557 9.826116e-03  0.587122088    1.33303379\n",
       "delta_max[6]     2.69489357 1.580950e-02  0.899818398    1.09109839\n",
       "delta_max[7]     6.75145472 3.191691e-02  2.233925250    3.26006995\n",
       "delta_max[8]     9.00609414 5.078676e-02  3.311099050    3.37917242\n",
       "delta_max[9]     7.12351541 5.765890e-02  3.538653189    1.31430797\n",
       "delta_max[10]    6.18022195 6.472964e-02  3.404226633    0.68560528\n",
       "gamma_max       26.22857335 5.335816e-02  2.459424891   21.62705818\n",
       "E_star        3000.06530174 1.431733e-01 10.339657732 2980.13056166\n",
       "sigma            0.09904832 8.716631e-05  0.005851387    0.08831844\n",
       "log_like_test   -2.43498616 4.183134e-03  0.291546481   -3.07095858\n",
       "              25%           50%          75%          97.5%        n_eff   \n",
       "delta_mu         2.75940739    3.3349529    3.9129593    5.0077788 4875.563\n",
       "delta_sigma      3.63251482    4.3013943    4.9585557    6.2742608 3303.835\n",
       "delta_max[1]     0.36329423    0.4376103    0.5234443    0.7294423 3111.817\n",
       "delta_max[2]     1.30362134    1.4002415    1.5100911    1.7881228 3757.348\n",
       "delta_max[3]     1.76654294    2.0218749    2.2678180    2.8047365 3603.645\n",
       "delta_max[4]     2.14798346    2.4976383    2.8745143    3.7479971 3869.020\n",
       "delta_max[5]     1.96547027    2.3324102    2.7432355    3.6489360 3570.205\n",
       "delta_max[6]     2.07386397    2.6572340    3.2413964    4.6034281 3239.466\n",
       "delta_max[7]     5.23427421    6.4147165    7.9717136   12.1745038 4898.865\n",
       "delta_max[8]     6.64929064    8.6706856   11.0119298   16.3616369 4250.532\n",
       "delta_max[9]     4.54060607    6.7698920    9.3391954   15.0295443 3766.546\n",
       "delta_max[10]    3.72254734    5.7999833    8.2088671   13.9598547 2765.862\n",
       "gamma_max       24.53650650   26.1321111   27.8030354   31.3091775 2124.542\n",
       "E_star        2992.98202724 3000.3723191 3007.1549286 3020.2866747 5215.408\n",
       "sigma            0.09505917    0.0988369    0.1028725    0.1113213 4506.303\n",
       "log_like_test   -2.61703776   -2.4071464   -2.2299477   -1.9410701 4857.491\n",
       "              Rhat     \n",
       "delta_mu      0.9996073\n",
       "delta_sigma   0.9999067\n",
       "delta_max[1]  1.0002562\n",
       "delta_max[2]  0.9998912\n",
       "delta_max[3]  1.0008940\n",
       "delta_max[4]  0.9995215\n",
       "delta_max[5]  0.9998596\n",
       "delta_max[6]  1.0003248\n",
       "delta_max[7]  0.9997344\n",
       "delta_max[8]  0.9997726\n",
       "delta_max[9]  0.9996206\n",
       "delta_max[10] 0.9996069\n",
       "gamma_max     1.0014540\n",
       "E_star        0.9994802\n",
       "sigma         0.9993499\n",
       "log_like_test 0.9997849"
      ]
     },
     "metadata": {},
     "output_type": "display_data"
    }
   ],
   "source": [
    "summary(mcmc_free_1, pars = c('delta_mu','delta_sigma','delta_max','gamma_max','E_star','sigma','log_like_test'))$summary"
   ]
  },
  {
   "cell_type": "markdown",
   "metadata": {},
   "source": [
    "Fit the original model with allometric parameterization"
   ]
  },
  {
   "cell_type": "code",
   "execution_count": 116,
   "metadata": {},
   "outputs": [],
   "source": [
    "mcmc_orig_1 <- sampling(mod_orig, data=data_1, open_progress=TRUE,chains=4)"
   ]
  },
  {
   "cell_type": "code",
   "execution_count": 112,
   "metadata": {},
   "outputs": [],
   "source": [
    "mcmc_orig_2 <- sampling(mod_orig, data=data_2, open_progress=TRUE,chains=4)"
   ]
  },
  {
   "cell_type": "code",
   "execution_count": 114,
   "metadata": {},
   "outputs": [],
   "source": [
    "mcmc_orig_3 <- sampling(mod_orig, data=data_3, open_progress=TRUE,chains=4)"
   ]
  },
  {
   "cell_type": "code",
   "execution_count": 117,
   "metadata": {},
   "outputs": [],
   "source": [
    "post_orig_1 <- extract(mcmc_orig_1)\n",
    "post_orig_2 <- extract(mcmc_orig_2)\n",
    "post_orig_3 <- extract(mcmc_orig_3)"
   ]
  },
  {
   "cell_type": "code",
   "execution_count": 118,
   "metadata": {},
   "outputs": [
    {
     "data": {
      "text/html": [
       "<table>\n",
       "<caption>A matrix: 6 × 10 of type dbl</caption>\n",
       "<thead>\n",
       "\t<tr><th></th><th scope=col>mean</th><th scope=col>se_mean</th><th scope=col>sd</th><th scope=col>2.5%</th><th scope=col>25%</th><th scope=col>50%</th><th scope=col>75%</th><th scope=col>97.5%</th><th scope=col>n_eff</th><th scope=col>Rhat</th></tr>\n",
       "</thead>\n",
       "<tbody>\n",
       "\t<tr><th scope=row>delta_max</th><td>  64.6886981</td><td>4.753866e-01</td><td>6.645829e+00</td><td>  47.7362971</td><td>  61.3630075</td><td>  66.5201923</td><td>  69.8524515</td><td>  71.8288402</td><td>195.4359</td><td>1.023319</td></tr>\n",
       "\t<tr><th scope=row>b</th><td>   1.1595689</td><td>3.000663e-03</td><td>4.886004e-02</td><td>   1.0577204</td><td>   1.1288089</td><td>   1.1617107</td><td>   1.1914669</td><td>   1.2574617</td><td>265.1387</td><td>1.015832</td></tr>\n",
       "\t<tr><th scope=row>gamma_max</th><td>  23.6960940</td><td>4.086670e-01</td><td>5.811225e+00</td><td>  13.0397328</td><td>  19.3993955</td><td>  23.4310455</td><td>  27.7354330</td><td>  35.1900962</td><td>202.2070</td><td>1.015930</td></tr>\n",
       "\t<tr><th scope=row>E_star</th><td>3238.2910899</td><td>6.924246e+01</td><td>9.253136e+02</td><td>1369.9421060</td><td>2590.7447469</td><td>3249.7657954</td><td>3920.9799800</td><td>4875.4844773</td><td>178.5800</td><td>1.016718</td></tr>\n",
       "\t<tr><th scope=row>sigma</th><td>   0.1144534</td><td>3.878961e-04</td><td>6.528574e-03</td><td>   0.1024888</td><td>   0.1101295</td><td>   0.1139212</td><td>   0.1187898</td><td>   0.1275678</td><td>283.2735</td><td>1.020363</td></tr>\n",
       "\t<tr><th scope=row>log_like_test</th><td>  -3.4947860</td><td>1.780454e-02</td><td>2.945633e-01</td><td>  -4.1045650</td><td>  -3.6748164</td><td>  -3.4908526</td><td>  -3.2918130</td><td>  -2.9718214</td><td>273.7132</td><td>1.019363</td></tr>\n",
       "</tbody>\n",
       "</table>\n"
      ],
      "text/latex": [
       "A matrix: 6 × 10 of type dbl\n",
       "\\begin{tabular}{r|llllllllll}\n",
       "  & mean & se\\_mean & sd & 2.5\\% & 25\\% & 50\\% & 75\\% & 97.5\\% & n\\_eff & Rhat\\\\\n",
       "\\hline\n",
       "\tdelta\\_max &   64.6886981 & 4.753866e-01 & 6.645829e+00 &   47.7362971 &   61.3630075 &   66.5201923 &   69.8524515 &   71.8288402 & 195.4359 & 1.023319\\\\\n",
       "\tb &    1.1595689 & 3.000663e-03 & 4.886004e-02 &    1.0577204 &    1.1288089 &    1.1617107 &    1.1914669 &    1.2574617 & 265.1387 & 1.015832\\\\\n",
       "\tgamma\\_max &   23.6960940 & 4.086670e-01 & 5.811225e+00 &   13.0397328 &   19.3993955 &   23.4310455 &   27.7354330 &   35.1900962 & 202.2070 & 1.015930\\\\\n",
       "\tE\\_star & 3238.2910899 & 6.924246e+01 & 9.253136e+02 & 1369.9421060 & 2590.7447469 & 3249.7657954 & 3920.9799800 & 4875.4844773 & 178.5800 & 1.016718\\\\\n",
       "\tsigma &    0.1144534 & 3.878961e-04 & 6.528574e-03 &    0.1024888 &    0.1101295 &    0.1139212 &    0.1187898 &    0.1275678 & 283.2735 & 1.020363\\\\\n",
       "\tlog\\_like\\_test &   -3.4947860 & 1.780454e-02 & 2.945633e-01 &   -4.1045650 &   -3.6748164 &   -3.4908526 &   -3.2918130 &   -2.9718214 & 273.7132 & 1.019363\\\\\n",
       "\\end{tabular}\n"
      ],
      "text/markdown": [
       "\n",
       "A matrix: 6 × 10 of type dbl\n",
       "\n",
       "| <!--/--> | mean | se_mean | sd | 2.5% | 25% | 50% | 75% | 97.5% | n_eff | Rhat |\n",
       "|---|---|---|---|---|---|---|---|---|---|---|\n",
       "| delta_max |   64.6886981 | 4.753866e-01 | 6.645829e+00 |   47.7362971 |   61.3630075 |   66.5201923 |   69.8524515 |   71.8288402 | 195.4359 | 1.023319 |\n",
       "| b |    1.1595689 | 3.000663e-03 | 4.886004e-02 |    1.0577204 |    1.1288089 |    1.1617107 |    1.1914669 |    1.2574617 | 265.1387 | 1.015832 |\n",
       "| gamma_max |   23.6960940 | 4.086670e-01 | 5.811225e+00 |   13.0397328 |   19.3993955 |   23.4310455 |   27.7354330 |   35.1900962 | 202.2070 | 1.015930 |\n",
       "| E_star | 3238.2910899 | 6.924246e+01 | 9.253136e+02 | 1369.9421060 | 2590.7447469 | 3249.7657954 | 3920.9799800 | 4875.4844773 | 178.5800 | 1.016718 |\n",
       "| sigma |    0.1144534 | 3.878961e-04 | 6.528574e-03 |    0.1024888 |    0.1101295 |    0.1139212 |    0.1187898 |    0.1275678 | 283.2735 | 1.020363 |\n",
       "| log_like_test |   -3.4947860 | 1.780454e-02 | 2.945633e-01 |   -4.1045650 |   -3.6748164 |   -3.4908526 |   -3.2918130 |   -2.9718214 | 273.7132 | 1.019363 |\n",
       "\n"
      ],
      "text/plain": [
       "              mean         se_mean      sd           2.5%         25%         \n",
       "delta_max       64.6886981 4.753866e-01 6.645829e+00   47.7362971   61.3630075\n",
       "b                1.1595689 3.000663e-03 4.886004e-02    1.0577204    1.1288089\n",
       "gamma_max       23.6960940 4.086670e-01 5.811225e+00   13.0397328   19.3993955\n",
       "E_star        3238.2910899 6.924246e+01 9.253136e+02 1369.9421060 2590.7447469\n",
       "sigma            0.1144534 3.878961e-04 6.528574e-03    0.1024888    0.1101295\n",
       "log_like_test   -3.4947860 1.780454e-02 2.945633e-01   -4.1045650   -3.6748164\n",
       "              50%          75%          97.5%        n_eff    Rhat    \n",
       "delta_max       66.5201923   69.8524515   71.8288402 195.4359 1.023319\n",
       "b                1.1617107    1.1914669    1.2574617 265.1387 1.015832\n",
       "gamma_max       23.4310455   27.7354330   35.1900962 202.2070 1.015930\n",
       "E_star        3249.7657954 3920.9799800 4875.4844773 178.5800 1.016718\n",
       "sigma            0.1139212    0.1187898    0.1275678 283.2735 1.020363\n",
       "log_like_test   -3.4908526   -3.2918130   -2.9718214 273.7132 1.019363"
      ]
     },
     "metadata": {},
     "output_type": "display_data"
    }
   ],
   "source": [
    "summary(mcmc_orig_1, pars = c('delta_max','b','gamma_max','E_star','sigma','log_like_test'))$summary"
   ]
  },
  {
   "cell_type": "markdown",
   "metadata": {},
   "source": [
    "Fit the sigmoidal model"
   ]
  },
  {
   "cell_type": "code",
   "execution_count": 119,
   "metadata": {},
   "outputs": [],
   "source": [
    "mcmc_sig_1 <- sampling(mod_sig, data=data_1, open_progress=TRUE,chains=4)"
   ]
  },
  {
   "cell_type": "code",
   "execution_count": 120,
   "metadata": {},
   "outputs": [],
   "source": [
    "mcmc_sig_2 <- sampling(mod_sig, data=data_2, open_progress=TRUE, chains=4)"
   ]
  },
  {
   "cell_type": "code",
   "execution_count": 121,
   "metadata": {},
   "outputs": [],
   "source": [
    "mcmc_sig_3 <- sampling(mod_sig, data=data_3, open_progress=TRUE, chains=4)"
   ]
  },
  {
   "cell_type": "code",
   "execution_count": 123,
   "metadata": {},
   "outputs": [],
   "source": [
    "post_sig_1 <- extract(mcmc_sig_1)\n",
    "post_sig_2 <- extract(mcmc_sig_2)\n",
    "post_sig_3 <- extract(mcmc_sig_3)"
   ]
  },
  {
   "cell_type": "code",
   "execution_count": 39,
   "metadata": {},
   "outputs": [
    {
     "data": {
      "text/html": [
       "<table>\n",
       "<caption>A matrix: 7 × 10 of type dbl</caption>\n",
       "<thead>\n",
       "\t<tr><th></th><th scope=col>mean</th><th scope=col>se_mean</th><th scope=col>sd</th><th scope=col>2.5%</th><th scope=col>25%</th><th scope=col>50%</th><th scope=col>75%</th><th scope=col>97.5%</th><th scope=col>n_eff</th><th scope=col>Rhat</th></tr>\n",
       "</thead>\n",
       "<tbody>\n",
       "\t<tr><th scope=row>delta_max</th><td>   4.50167054</td><td>0.0334553422</td><td> 1.213787127</td><td>   2.64042639</td><td>   3.5991137</td><td>   4.32974996</td><td>   5.23480181</td><td>   7.26232037</td><td>1316.298</td><td>1.0008448</td></tr>\n",
       "\t<tr><th scope=row>gamma_max</th><td>  26.72548011</td><td>0.0569676585</td><td> 2.737458296</td><td>  21.35978443</td><td>  24.8880546</td><td>  26.75864897</td><td>  28.63396795</td><td>  31.91400202</td><td>2309.076</td><td>0.9997962</td></tr>\n",
       "\t<tr><th scope=row>sig_offset</th><td>   0.03872078</td><td>0.0001225914</td><td> 0.004457953</td><td>   0.03231439</td><td>   0.0353256</td><td>   0.03794459</td><td>   0.04133968</td><td>   0.04909522</td><td>1322.365</td><td>1.0016030</td></tr>\n",
       "\t<tr><th scope=row>sig_steepness</th><td> 167.01025611</td><td>1.6510576874</td><td>61.676496390</td><td>  89.98414593</td><td> 123.0551677</td><td> 152.87322547</td><td> 196.13991822</td><td> 323.65023560</td><td>1395.452</td><td>1.0014607</td></tr>\n",
       "\t<tr><th scope=row>E_star</th><td>2999.52401376</td><td>0.1759863705</td><td> 9.598416413</td><td>2980.55028938</td><td>2993.0989441</td><td>2999.54070144</td><td>3005.80726015</td><td>3018.75066612</td><td>2974.686</td><td>1.0005712</td></tr>\n",
       "\t<tr><th scope=row>sigma</th><td>   0.10900412</td><td>0.0001281812</td><td> 0.006148930</td><td>   0.09757286</td><td>   0.1047865</td><td>   0.10877725</td><td>   0.11306423</td><td>   0.12183388</td><td>2301.178</td><td>0.9997874</td></tr>\n",
       "\t<tr><th scope=row>log_like_test</th><td>  -1.98075843</td><td>0.0048315830</td><td> 0.214670462</td><td>  -2.41847315</td><td>  -2.1241563</td><td>  -1.97413264</td><td>  -1.82421925</td><td>  -1.60299161</td><td>1974.084</td><td>1.0023072</td></tr>\n",
       "</tbody>\n",
       "</table>\n"
      ],
      "text/latex": [
       "A matrix: 7 × 10 of type dbl\n",
       "\\begin{tabular}{r|llllllllll}\n",
       "  & mean & se\\_mean & sd & 2.5\\% & 25\\% & 50\\% & 75\\% & 97.5\\% & n\\_eff & Rhat\\\\\n",
       "\\hline\n",
       "\tdelta\\_max &    4.50167054 & 0.0334553422 &  1.213787127 &    2.64042639 &    3.5991137 &    4.32974996 &    5.23480181 &    7.26232037 & 1316.298 & 1.0008448\\\\\n",
       "\tgamma\\_max &   26.72548011 & 0.0569676585 &  2.737458296 &   21.35978443 &   24.8880546 &   26.75864897 &   28.63396795 &   31.91400202 & 2309.076 & 0.9997962\\\\\n",
       "\tsig\\_offset &    0.03872078 & 0.0001225914 &  0.004457953 &    0.03231439 &    0.0353256 &    0.03794459 &    0.04133968 &    0.04909522 & 1322.365 & 1.0016030\\\\\n",
       "\tsig\\_steepness &  167.01025611 & 1.6510576874 & 61.676496390 &   89.98414593 &  123.0551677 &  152.87322547 &  196.13991822 &  323.65023560 & 1395.452 & 1.0014607\\\\\n",
       "\tE\\_star & 2999.52401376 & 0.1759863705 &  9.598416413 & 2980.55028938 & 2993.0989441 & 2999.54070144 & 3005.80726015 & 3018.75066612 & 2974.686 & 1.0005712\\\\\n",
       "\tsigma &    0.10900412 & 0.0001281812 &  0.006148930 &    0.09757286 &    0.1047865 &    0.10877725 &    0.11306423 &    0.12183388 & 2301.178 & 0.9997874\\\\\n",
       "\tlog\\_like\\_test &   -1.98075843 & 0.0048315830 &  0.214670462 &   -2.41847315 &   -2.1241563 &   -1.97413264 &   -1.82421925 &   -1.60299161 & 1974.084 & 1.0023072\\\\\n",
       "\\end{tabular}\n"
      ],
      "text/markdown": [
       "\n",
       "A matrix: 7 × 10 of type dbl\n",
       "\n",
       "| <!--/--> | mean | se_mean | sd | 2.5% | 25% | 50% | 75% | 97.5% | n_eff | Rhat |\n",
       "|---|---|---|---|---|---|---|---|---|---|---|\n",
       "| delta_max |    4.50167054 | 0.0334553422 |  1.213787127 |    2.64042639 |    3.5991137 |    4.32974996 |    5.23480181 |    7.26232037 | 1316.298 | 1.0008448 |\n",
       "| gamma_max |   26.72548011 | 0.0569676585 |  2.737458296 |   21.35978443 |   24.8880546 |   26.75864897 |   28.63396795 |   31.91400202 | 2309.076 | 0.9997962 |\n",
       "| sig_offset |    0.03872078 | 0.0001225914 |  0.004457953 |    0.03231439 |    0.0353256 |    0.03794459 |    0.04133968 |    0.04909522 | 1322.365 | 1.0016030 |\n",
       "| sig_steepness |  167.01025611 | 1.6510576874 | 61.676496390 |   89.98414593 |  123.0551677 |  152.87322547 |  196.13991822 |  323.65023560 | 1395.452 | 1.0014607 |\n",
       "| E_star | 2999.52401376 | 0.1759863705 |  9.598416413 | 2980.55028938 | 2993.0989441 | 2999.54070144 | 3005.80726015 | 3018.75066612 | 2974.686 | 1.0005712 |\n",
       "| sigma |    0.10900412 | 0.0001281812 |  0.006148930 |    0.09757286 |    0.1047865 |    0.10877725 |    0.11306423 |    0.12183388 | 2301.178 | 0.9997874 |\n",
       "| log_like_test |   -1.98075843 | 0.0048315830 |  0.214670462 |   -2.41847315 |   -2.1241563 |   -1.97413264 |   -1.82421925 |   -1.60299161 | 1974.084 | 1.0023072 |\n",
       "\n"
      ],
      "text/plain": [
       "              mean          se_mean      sd           2.5%         \n",
       "delta_max        4.50167054 0.0334553422  1.213787127    2.64042639\n",
       "gamma_max       26.72548011 0.0569676585  2.737458296   21.35978443\n",
       "sig_offset       0.03872078 0.0001225914  0.004457953    0.03231439\n",
       "sig_steepness  167.01025611 1.6510576874 61.676496390   89.98414593\n",
       "E_star        2999.52401376 0.1759863705  9.598416413 2980.55028938\n",
       "sigma            0.10900412 0.0001281812  0.006148930    0.09757286\n",
       "log_like_test   -1.98075843 0.0048315830  0.214670462   -2.41847315\n",
       "              25%          50%           75%           97.5%         n_eff   \n",
       "delta_max        3.5991137    4.32974996    5.23480181    7.26232037 1316.298\n",
       "gamma_max       24.8880546   26.75864897   28.63396795   31.91400202 2309.076\n",
       "sig_offset       0.0353256    0.03794459    0.04133968    0.04909522 1322.365\n",
       "sig_steepness  123.0551677  152.87322547  196.13991822  323.65023560 1395.452\n",
       "E_star        2993.0989441 2999.54070144 3005.80726015 3018.75066612 2974.686\n",
       "sigma            0.1047865    0.10877725    0.11306423    0.12183388 2301.178\n",
       "log_like_test   -2.1241563   -1.97413264   -1.82421925   -1.60299161 1974.084\n",
       "              Rhat     \n",
       "delta_max     1.0008448\n",
       "gamma_max     0.9997962\n",
       "sig_offset    1.0016030\n",
       "sig_steepness 1.0014607\n",
       "E_star        1.0005712\n",
       "sigma         0.9997874\n",
       "log_like_test 1.0023072"
      ]
     },
     "metadata": {},
     "output_type": "display_data"
    }
   ],
   "source": [
    "summary(mcmc_sig_`, pars = c('delta_max','gamma_max','sig_offset','sig_steepness','E_star','sigma','log_like_test'))$summary"
   ]
  },
  {
   "cell_type": "code",
   "execution_count": 127,
   "metadata": {},
   "outputs": [
    {
     "name": "stderr",
     "output_type": "stream",
     "text": [
      "Warning message:\n",
      "\"There were 3976 divergent transitions after warmup. Increasing adapt_delta above 0.8 may help. See\n",
      "http://mc-stan.org/misc/warnings.html#divergent-transitions-after-warmup\"Warning message:\n",
      "\"Examine the pairs() plot to diagnose sampling problems\n",
      "\"Warning message:\n",
      "\"The largest R-hat is 1.14, indicating chains have not mixed.\n",
      "Running the chains for more iterations may help. See\n",
      "http://mc-stan.org/misc/warnings.html#r-hat\"Warning message:\n",
      "\"Bulk Effective Samples Size (ESS) is too low, indicating posterior means and medians may be unreliable.\n",
      "Running the chains for more iterations may help. See\n",
      "http://mc-stan.org/misc/warnings.html#bulk-ess\"Warning message:\n",
      "\"Tail Effective Samples Size (ESS) is too low, indicating posterior variances and tail quantiles may be unreliable.\n",
      "Running the chains for more iterations may help. See\n",
      "http://mc-stan.org/misc/warnings.html#tail-ess\""
     ]
    }
   ],
   "source": [
    "mcmc_free_np_1 <- sampling(mod_free_np,data=data_1,open_progress=TRUE,chains=4)"
   ]
  },
  {
   "cell_type": "code",
   "execution_count": 130,
   "metadata": {},
   "outputs": [
    {
     "data": {
      "text/html": [
       "<table>\n",
       "<caption>A matrix: 14 × 10 of type dbl</caption>\n",
       "<thead>\n",
       "\t<tr><th></th><th scope=col>mean</th><th scope=col>se_mean</th><th scope=col>sd</th><th scope=col>2.5%</th><th scope=col>25%</th><th scope=col>50%</th><th scope=col>75%</th><th scope=col>97.5%</th><th scope=col>n_eff</th><th scope=col>Rhat</th></tr>\n",
       "</thead>\n",
       "<tbody>\n",
       "\t<tr><th scope=row>delta_max[1]</th><td>   0.49041705</td><td>0.0152267289</td><td> 0.1278405</td><td>   0.28112174</td><td>   0.40112567</td><td>   0.47198762</td><td>   0.5693099</td><td>   0.7851965</td><td> 70.48939</td><td>1.062780</td></tr>\n",
       "\t<tr><th scope=row>delta_max[2]</th><td>   1.43261235</td><td>0.0227910704</td><td> 0.1725666</td><td>   1.10493452</td><td>   1.32298437</td><td>   1.42346399</td><td>   1.5335221</td><td>   1.8134249</td><td> 57.33027</td><td>1.093713</td></tr>\n",
       "\t<tr><th scope=row>delta_max[3]</th><td>   2.11613892</td><td>0.0357090347</td><td> 0.3537062</td><td>   1.49889894</td><td>   1.84438482</td><td>   2.09572950</td><td>   2.3513912</td><td>   2.8363784</td><td> 98.11360</td><td>1.062510</td></tr>\n",
       "\t<tr><th scope=row>delta_max[4]</th><td>   2.51266495</td><td>0.0637658881</td><td> 0.5627990</td><td>   1.51735693</td><td>   2.12750671</td><td>   2.48669912</td><td>   2.8021366</td><td>   3.8880896</td><td> 77.89864</td><td>1.060467</td></tr>\n",
       "\t<tr><th scope=row>delta_max[5]</th><td>   2.49754011</td><td>0.0684172929</td><td> 0.6149830</td><td>   1.44780533</td><td>   2.05115121</td><td>   2.45227387</td><td>   2.8610577</td><td>   3.8694195</td><td> 80.79686</td><td>1.070513</td></tr>\n",
       "\t<tr><th scope=row>delta_max[6]</th><td>   2.99757407</td><td>0.1152835735</td><td> 0.9112443</td><td>   1.38221666</td><td>   2.38370120</td><td>   2.95797211</td><td>   3.5326029</td><td>   4.9072125</td><td> 62.47910</td><td>1.062903</td></tr>\n",
       "\t<tr><th scope=row>delta_max[7]</th><td>   8.25417316</td><td>0.3641958925</td><td> 4.4205864</td><td>   3.49873296</td><td>   5.78481341</td><td>   7.17596386</td><td>   9.5548662</td><td>  17.7085098</td><td>147.32949</td><td>1.024472</td></tr>\n",
       "\t<tr><th scope=row>delta_max[8]</th><td>  36.71871482</td><td>1.7061175556</td><td>18.8190535</td><td>   7.68255157</td><td>  20.55505089</td><td>  34.73064925</td><td>  53.0719781</td><td>  69.9089628</td><td>121.66836</td><td>1.036496</td></tr>\n",
       "\t<tr><th scope=row>delta_max[9]</th><td>  34.90454388</td><td>1.9274684491</td><td>21.0586032</td><td>   1.71690865</td><td>  16.25614741</td><td>  33.66238186</td><td>  53.6146716</td><td>  69.8509445</td><td>119.36708</td><td>1.022675</td></tr>\n",
       "\t<tr><th scope=row>delta_max[10]</th><td>  34.39360782</td><td>1.9862962061</td><td>21.6926674</td><td>   0.90657942</td><td>  15.62247282</td><td>  33.23783384</td><td>  52.8026805</td><td>  70.5294538</td><td>119.27183</td><td>1.029257</td></tr>\n",
       "\t<tr><th scope=row>gamma_max</th><td>  27.34658016</td><td>0.5048534878</td><td> 2.9371065</td><td>  22.79031373</td><td>  25.29538386</td><td>  26.99224390</td><td>  28.9615210</td><td>  33.7349181</td><td> 33.84610</td><td>1.137250</td></tr>\n",
       "\t<tr><th scope=row>E_star</th><td>2999.89173507</td><td>0.6731088792</td><td> 9.6704970</td><td>2981.26940872</td><td>2993.09189378</td><td>2999.83792159</td><td>3006.4095696</td><td>3019.3616170</td><td>206.40820</td><td>1.017334</td></tr>\n",
       "\t<tr><th scope=row>sigma</th><td>   0.09780639</td><td>0.0006530996</td><td> 0.0057372</td><td>   0.08730233</td><td>   0.09405873</td><td>   0.09750632</td><td>   0.1012813</td><td>   0.1098579</td><td> 77.16870</td><td>1.053770</td></tr>\n",
       "\t<tr><th scope=row>log_like_test</th><td>  -2.47747538</td><td>0.0190879260</td><td> 0.3127554</td><td>  -3.16751898</td><td>  -2.66134845</td><td>  -2.44415312</td><td>  -2.2520255</td><td>  -1.9760434</td><td>268.46781</td><td>1.014145</td></tr>\n",
       "</tbody>\n",
       "</table>\n"
      ],
      "text/latex": [
       "A matrix: 14 × 10 of type dbl\n",
       "\\begin{tabular}{r|llllllllll}\n",
       "  & mean & se\\_mean & sd & 2.5\\% & 25\\% & 50\\% & 75\\% & 97.5\\% & n\\_eff & Rhat\\\\\n",
       "\\hline\n",
       "\tdelta\\_max{[}1{]} &    0.49041705 & 0.0152267289 &  0.1278405 &    0.28112174 &    0.40112567 &    0.47198762 &    0.5693099 &    0.7851965 &  70.48939 & 1.062780\\\\\n",
       "\tdelta\\_max{[}2{]} &    1.43261235 & 0.0227910704 &  0.1725666 &    1.10493452 &    1.32298437 &    1.42346399 &    1.5335221 &    1.8134249 &  57.33027 & 1.093713\\\\\n",
       "\tdelta\\_max{[}3{]} &    2.11613892 & 0.0357090347 &  0.3537062 &    1.49889894 &    1.84438482 &    2.09572950 &    2.3513912 &    2.8363784 &  98.11360 & 1.062510\\\\\n",
       "\tdelta\\_max{[}4{]} &    2.51266495 & 0.0637658881 &  0.5627990 &    1.51735693 &    2.12750671 &    2.48669912 &    2.8021366 &    3.8880896 &  77.89864 & 1.060467\\\\\n",
       "\tdelta\\_max{[}5{]} &    2.49754011 & 0.0684172929 &  0.6149830 &    1.44780533 &    2.05115121 &    2.45227387 &    2.8610577 &    3.8694195 &  80.79686 & 1.070513\\\\\n",
       "\tdelta\\_max{[}6{]} &    2.99757407 & 0.1152835735 &  0.9112443 &    1.38221666 &    2.38370120 &    2.95797211 &    3.5326029 &    4.9072125 &  62.47910 & 1.062903\\\\\n",
       "\tdelta\\_max{[}7{]} &    8.25417316 & 0.3641958925 &  4.4205864 &    3.49873296 &    5.78481341 &    7.17596386 &    9.5548662 &   17.7085098 & 147.32949 & 1.024472\\\\\n",
       "\tdelta\\_max{[}8{]} &   36.71871482 & 1.7061175556 & 18.8190535 &    7.68255157 &   20.55505089 &   34.73064925 &   53.0719781 &   69.9089628 & 121.66836 & 1.036496\\\\\n",
       "\tdelta\\_max{[}9{]} &   34.90454388 & 1.9274684491 & 21.0586032 &    1.71690865 &   16.25614741 &   33.66238186 &   53.6146716 &   69.8509445 & 119.36708 & 1.022675\\\\\n",
       "\tdelta\\_max{[}10{]} &   34.39360782 & 1.9862962061 & 21.6926674 &    0.90657942 &   15.62247282 &   33.23783384 &   52.8026805 &   70.5294538 & 119.27183 & 1.029257\\\\\n",
       "\tgamma\\_max &   27.34658016 & 0.5048534878 &  2.9371065 &   22.79031373 &   25.29538386 &   26.99224390 &   28.9615210 &   33.7349181 &  33.84610 & 1.137250\\\\\n",
       "\tE\\_star & 2999.89173507 & 0.6731088792 &  9.6704970 & 2981.26940872 & 2993.09189378 & 2999.83792159 & 3006.4095696 & 3019.3616170 & 206.40820 & 1.017334\\\\\n",
       "\tsigma &    0.09780639 & 0.0006530996 &  0.0057372 &    0.08730233 &    0.09405873 &    0.09750632 &    0.1012813 &    0.1098579 &  77.16870 & 1.053770\\\\\n",
       "\tlog\\_like\\_test &   -2.47747538 & 0.0190879260 &  0.3127554 &   -3.16751898 &   -2.66134845 &   -2.44415312 &   -2.2520255 &   -1.9760434 & 268.46781 & 1.014145\\\\\n",
       "\\end{tabular}\n"
      ],
      "text/markdown": [
       "\n",
       "A matrix: 14 × 10 of type dbl\n",
       "\n",
       "| <!--/--> | mean | se_mean | sd | 2.5% | 25% | 50% | 75% | 97.5% | n_eff | Rhat |\n",
       "|---|---|---|---|---|---|---|---|---|---|---|\n",
       "| delta_max[1] |    0.49041705 | 0.0152267289 |  0.1278405 |    0.28112174 |    0.40112567 |    0.47198762 |    0.5693099 |    0.7851965 |  70.48939 | 1.062780 |\n",
       "| delta_max[2] |    1.43261235 | 0.0227910704 |  0.1725666 |    1.10493452 |    1.32298437 |    1.42346399 |    1.5335221 |    1.8134249 |  57.33027 | 1.093713 |\n",
       "| delta_max[3] |    2.11613892 | 0.0357090347 |  0.3537062 |    1.49889894 |    1.84438482 |    2.09572950 |    2.3513912 |    2.8363784 |  98.11360 | 1.062510 |\n",
       "| delta_max[4] |    2.51266495 | 0.0637658881 |  0.5627990 |    1.51735693 |    2.12750671 |    2.48669912 |    2.8021366 |    3.8880896 |  77.89864 | 1.060467 |\n",
       "| delta_max[5] |    2.49754011 | 0.0684172929 |  0.6149830 |    1.44780533 |    2.05115121 |    2.45227387 |    2.8610577 |    3.8694195 |  80.79686 | 1.070513 |\n",
       "| delta_max[6] |    2.99757407 | 0.1152835735 |  0.9112443 |    1.38221666 |    2.38370120 |    2.95797211 |    3.5326029 |    4.9072125 |  62.47910 | 1.062903 |\n",
       "| delta_max[7] |    8.25417316 | 0.3641958925 |  4.4205864 |    3.49873296 |    5.78481341 |    7.17596386 |    9.5548662 |   17.7085098 | 147.32949 | 1.024472 |\n",
       "| delta_max[8] |   36.71871482 | 1.7061175556 | 18.8190535 |    7.68255157 |   20.55505089 |   34.73064925 |   53.0719781 |   69.9089628 | 121.66836 | 1.036496 |\n",
       "| delta_max[9] |   34.90454388 | 1.9274684491 | 21.0586032 |    1.71690865 |   16.25614741 |   33.66238186 |   53.6146716 |   69.8509445 | 119.36708 | 1.022675 |\n",
       "| delta_max[10] |   34.39360782 | 1.9862962061 | 21.6926674 |    0.90657942 |   15.62247282 |   33.23783384 |   52.8026805 |   70.5294538 | 119.27183 | 1.029257 |\n",
       "| gamma_max |   27.34658016 | 0.5048534878 |  2.9371065 |   22.79031373 |   25.29538386 |   26.99224390 |   28.9615210 |   33.7349181 |  33.84610 | 1.137250 |\n",
       "| E_star | 2999.89173507 | 0.6731088792 |  9.6704970 | 2981.26940872 | 2993.09189378 | 2999.83792159 | 3006.4095696 | 3019.3616170 | 206.40820 | 1.017334 |\n",
       "| sigma |    0.09780639 | 0.0006530996 |  0.0057372 |    0.08730233 |    0.09405873 |    0.09750632 |    0.1012813 |    0.1098579 |  77.16870 | 1.053770 |\n",
       "| log_like_test |   -2.47747538 | 0.0190879260 |  0.3127554 |   -3.16751898 |   -2.66134845 |   -2.44415312 |   -2.2520255 |   -1.9760434 | 268.46781 | 1.014145 |\n",
       "\n"
      ],
      "text/plain": [
       "              mean          se_mean      sd         2.5%          25%          \n",
       "delta_max[1]     0.49041705 0.0152267289  0.1278405    0.28112174    0.40112567\n",
       "delta_max[2]     1.43261235 0.0227910704  0.1725666    1.10493452    1.32298437\n",
       "delta_max[3]     2.11613892 0.0357090347  0.3537062    1.49889894    1.84438482\n",
       "delta_max[4]     2.51266495 0.0637658881  0.5627990    1.51735693    2.12750671\n",
       "delta_max[5]     2.49754011 0.0684172929  0.6149830    1.44780533    2.05115121\n",
       "delta_max[6]     2.99757407 0.1152835735  0.9112443    1.38221666    2.38370120\n",
       "delta_max[7]     8.25417316 0.3641958925  4.4205864    3.49873296    5.78481341\n",
       "delta_max[8]    36.71871482 1.7061175556 18.8190535    7.68255157   20.55505089\n",
       "delta_max[9]    34.90454388 1.9274684491 21.0586032    1.71690865   16.25614741\n",
       "delta_max[10]   34.39360782 1.9862962061 21.6926674    0.90657942   15.62247282\n",
       "gamma_max       27.34658016 0.5048534878  2.9371065   22.79031373   25.29538386\n",
       "E_star        2999.89173507 0.6731088792  9.6704970 2981.26940872 2993.09189378\n",
       "sigma            0.09780639 0.0006530996  0.0057372    0.08730233    0.09405873\n",
       "log_like_test   -2.47747538 0.0190879260  0.3127554   -3.16751898   -2.66134845\n",
       "              50%           75%          97.5%        n_eff     Rhat    \n",
       "delta_max[1]     0.47198762    0.5693099    0.7851965  70.48939 1.062780\n",
       "delta_max[2]     1.42346399    1.5335221    1.8134249  57.33027 1.093713\n",
       "delta_max[3]     2.09572950    2.3513912    2.8363784  98.11360 1.062510\n",
       "delta_max[4]     2.48669912    2.8021366    3.8880896  77.89864 1.060467\n",
       "delta_max[5]     2.45227387    2.8610577    3.8694195  80.79686 1.070513\n",
       "delta_max[6]     2.95797211    3.5326029    4.9072125  62.47910 1.062903\n",
       "delta_max[7]     7.17596386    9.5548662   17.7085098 147.32949 1.024472\n",
       "delta_max[8]    34.73064925   53.0719781   69.9089628 121.66836 1.036496\n",
       "delta_max[9]    33.66238186   53.6146716   69.8509445 119.36708 1.022675\n",
       "delta_max[10]   33.23783384   52.8026805   70.5294538 119.27183 1.029257\n",
       "gamma_max       26.99224390   28.9615210   33.7349181  33.84610 1.137250\n",
       "E_star        2999.83792159 3006.4095696 3019.3616170 206.40820 1.017334\n",
       "sigma            0.09750632    0.1012813    0.1098579  77.16870 1.053770\n",
       "log_like_test   -2.44415312   -2.2520255   -1.9760434 268.46781 1.014145"
      ]
     },
     "metadata": {},
     "output_type": "display_data"
    }
   ],
   "source": [
    "summary(mcmc_free_np_1, pars = c('delta_max','gamma_max','E_star','sigma','log_like_test'))$summary"
   ]
  },
  {
   "cell_type": "code",
   "execution_count": 135,
   "metadata": {},
   "outputs": [],
   "source": [
    "mcmc_free_np_2 <- sampling(mod_free_np, data=data_2, open_progress=TRUE, chains=4)"
   ]
  },
  {
   "cell_type": "code",
   "execution_count": 142,
   "metadata": {},
   "outputs": [],
   "source": [
    "mcmc_free_np_3 <- sampling(mod_free_np, data=data_3, open_progress=TRUE, chains=4)"
   ]
  },
  {
   "cell_type": "code",
   "execution_count": 143,
   "metadata": {},
   "outputs": [],
   "source": [
    "post_free_np_1 <- extract(mcmc_free_np_1)\n",
    "post_free_np_2 <- extract(mcmc_free_np_2)\n",
    "post_free_np_3 <- extract(mcmc_free_np_3)"
   ]
  },
  {
   "cell_type": "code",
   "execution_count": 144,
   "metadata": {},
   "outputs": [
    {
     "data": {
      "image/png": "[encoded data removed]",
      "text/plain": [
       "Plot with title \"\""
      ]
     },
     "metadata": {},
     "output_type": "display_data"
    }
   ],
   "source": [
    "options(repr.plot.width=8, repr.plot.height=8)\n",
    "par(mfrow=c(3,2))\n",
    "\n",
    "##--i_test_1---####################\n",
    "hist(post_orig_1$sigma,main='',col=adjustcolor('black',alpha.f=0.5),xlim=c(0.075,0.15),freq=FALSE,ylim=c(0,70),breaks=25)\n",
    "    abline(v=mean(post_orig_1$sigma),lwd=2)\n",
    "hist(post_free_1$sigma,main='',col=adjustcolor('blue',alpha.f=0.5),freq=FALSE,add=TRUE,breaks=25)\n",
    "    abline(v=mean(post_free_1$sigma),lwd=2,col='blue')\n",
    "hist(post_sig_1$sigma,main='',col=adjustcolor('red',alpha.f=0.5),freq=FALSE,add=TRUE,breaks=25)\n",
    "    abline(v=mean(post_sig_1$sigma),lwd=2,col='red')\n",
    "hist(post_free_np_1$sigma,main='',col=adjustcolor('orange',alpha.f=0.5),freq=FALSE,add=TRUE,breaks=25)\n",
    "    abline(v=mean(post_free_np_1$sigma),lwd=2,col='orange')\n",
    "\n",
    "hist(post_orig_1$log_like_test,main='',col=adjustcolor('black',alpha.f=0.5),freq=FALSE,breaks=30,xlim=c(-4,-1),ylim=c(0,2))\n",
    "    abline(v=mean(post_orig_1$log_like_test),lwd=2)\n",
    "hist(post_free_1$log_like_test,main='',col=adjustcolor('blue',alpha.f=0.5),freq=FALSE,breaks=30,add=TRUE)\n",
    "    abline(v=mean(post_free_1$log_like_test),lwd=2,col='blue')\n",
    "hist(post_sig_1$log_like_test,main='',col=adjustcolor('red',alpha.f=0.5),freq=FALSE,breaks=30,add=TRUE)\n",
    "    abline(v=mean(post_sig_1$log_like_test),lwd=2,col='red')\n",
    "hist(post_free_np_1$log_like_test,main='',col=adjustcolor('orange',alpha.f=0.5),freq=FALSE,breaks=30,add=TRUE)\n",
    "    abline(v=mean(post_free_np_1$log_like_test),lwd=2,col='orange')\n",
    "\n",
    "##--i_test_2---####################\n",
    "hist(post_orig_2$sigma,main='',col=adjustcolor('black',alpha.f=0.5),xlim=c(0.075,0.15),freq=FALSE,ylim=c(0,70),breaks=25)\n",
    "    abline(v=mean(post_orig_2$sigma),lwd=2)\n",
    "hist(post_free_2$sigma,main='',col=adjustcolor('blue',alpha.f=0.5),freq=FALSE,add=TRUE,breaks=25)\n",
    "    abline(v=mean(post_free_2$sigma),lwd=2,col='blue')\n",
    "hist(post_sig_2$sigma,main='',col=adjustcolor('red',alpha.f=0.5),freq=FALSE,add=TRUE,breaks=25)\n",
    "    abline(v=mean(post_sig_2$sigma),lwd=2,col='red')\n",
    "hist(post_free_np_2$sigma,main='',col=adjustcolor('orange',alpha.f=0.5),freq=FALSE,add=TRUE,breaks=25)\n",
    "    abline(v=mean(post_free_np_2$sigma),lwd=2,col='orange')\n",
    "\n",
    "hist(post_orig_2$log_like_test,main='',col=adjustcolor('black',alpha.f=0.5),freq=FALSE,breaks=30,xlim=c(-4,-1),ylim=c(0,2))\n",
    "    abline(v=mean(post_orig_2$log_like_test),lwd=2)\n",
    "hist(post_free_2$log_like_test,main='',col=adjustcolor('blue',alpha.f=0.5),freq=FALSE,breaks=30,add=TRUE)\n",
    "    abline(v=mean(post_free_2$log_like_test),lwd=2,col='blue')\n",
    "hist(post_sig_2$log_like_test,main='',col=adjustcolor('red',alpha.f=0.5),freq=FALSE,breaks=30,add=TRUE)\n",
    "    abline(v=mean(post_sig_2$log_like_test),lwd=2,col='red')\n",
    "hist(post_free_np_2$log_like_test,main='',col=adjustcolor('orange',alpha.f=0.5),freq=FALSE,breaks=30,add=TRUE)\n",
    "    abline(v=mean(post_free_np_2$log_like_test),lwd=2,col='orange')\n",
    "\n",
    "##--i_test_3---####################\n",
    "hist(post_orig_3$sigma,main='',col=adjustcolor('black',alpha.f=0.5),xlim=c(0.075,0.15),freq=FALSE,ylim=c(0,70),breaks=25)\n",
    "    abline(v=mean(post_orig_3$sigma),lwd=2)\n",
    "hist(post_free_3$sigma,main='',col=adjustcolor('blue',alpha.f=0.5),freq=FALSE,add=TRUE,breaks=25)\n",
    "    abline(v=mean(post_free_3$sigma),lwd=2,col='blue')\n",
    "hist(post_sig_3$sigma,main='',col=adjustcolor('red',alpha.f=0.5),freq=FALSE,add=TRUE,breaks=25)\n",
    "    abline(v=mean(post_sig_3$sigma),lwd=2,col='red')\n",
    "hist(post_free_np_3$sigma,main='',col=adjustcolor('orange',alpha.f=0.5),freq=FALSE,add=TRUE,breaks=25)\n",
    "    abline(v=mean(post_free_np_3$sigma),lwd=2,col='orange')\n",
    "\n",
    "hist(post_orig_3$log_like_test,main='',col=adjustcolor('black',alpha.f=0.5),freq=FALSE,breaks=30,xlim=c(-4,-1),ylim=c(0,2))\n",
    "    abline(v=mean(post_orig_3$log_like_test),lwd=2)\n",
    "hist(post_free_3$log_like_test,main='',col=adjustcolor('blue',alpha.f=0.5),freq=FALSE,breaks=30,add=TRUE)\n",
    "    abline(v=mean(post_free_3$log_like_test),lwd=2,col='blue')\n",
    "hist(post_sig_3$log_like_test,main='',col=adjustcolor('red',alpha.f=0.5),freq=FALSE,breaks=30,add=TRUE)\n",
    "    abline(v=mean(post_sig_3$log_like_test),lwd=2,col='red')\n",
    "hist(post_free_np_3$log_like_test,main='',col=adjustcolor('orange',alpha.f=0.5),freq=FALSE,breaks=30,add=TRUE)\n",
    "    abline(v=mean(post_free_np_3$log_like_test),lwd=2,col='orange')\n"
   ]
  }
 ],
 "metadata": {
  "kernelspec": {
   "display_name": "R",
   "language": "R",
   "name": "ir"
  },
  "language_info": {
   "codemirror_mode": "r",
   "file_extension": ".r",
   "mimetype": "text/x-r-source",
   "name": "R",
   "pygments_lexer": "r",
   "version": "3.6.1"
  }
 },
 "nbformat": 4,
 "nbformat_minor": 2
}
