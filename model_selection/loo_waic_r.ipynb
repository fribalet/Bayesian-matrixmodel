{
 "cells": [
  {
   "cell_type": "code",
   "execution_count": 42,
   "metadata": {},
   "outputs": [],
   "source": [
    "library(rstan)\n",
    "library(loo)"
   ]
  },
  {
   "cell_type": "code",
   "execution_count": 43,
   "metadata": {},
   "outputs": [],
   "source": [
    "models <- c('m1','m2','m3','m4','m5','m6','m7','m8','m9','m10','m11','m12','m13','m14')"
   ]
  },
  {
   "cell_type": "code",
   "execution_count": 44,
   "metadata": {},
   "outputs": [],
   "source": [
    "sf=zn <- list()\n",
    "for(i in 1:length(models)){\n",
    "    sf[[models[i]]] <- as.matrix(read.csv(paste('log_lik_',models[i],'_seaflow','_summary.csv',sep='')))\n",
    "    zn[[models[i]]] <- as.matrix(read.csv(paste('log_lik_',models[i],'_zinser','_summary.csv',sep='')))\n",
    "}\n",
    "#sf_m5 <- as.matrix(read.csv('log_lik_m5_log_lik_seaflow_summary.csv'))\n",
    "#zn_m5 <- as.matrix(read.csv('log_lik_m5_log_lik_zinser_summary.csv'))\n",
    "#sf_m7 <- as.matrix(read.csv('log_lik_m7_log_lik_seaflow_summary.csv'))\n",
    "#zn_m7 <- as.matrix(read.csv('log_lik_m7_log_lik_zinser_summary.csv'))"
   ]
  },
  {
   "cell_type": "code",
   "execution_count": null,
   "metadata": {},
   "outputs": [],
   "source": []
  },
  {
   "cell_type": "code",
   "execution_count": 47,
   "metadata": {},
   "outputs": [],
   "source": [
    "sfloo=znloo <- list()\n",
    "for(i in 1:length(models)){\n",
    "    sfloo[[models[i]]] <- loo(sf[[models[i]]],r_eff=NA)\n",
    "    znloo[[models[i]]] <- loo(zn[[models[i]]],r_eff=NA)\n",
    "}"
   ]
  },
  {
   "cell_type": "code",
   "execution_count": 37,
   "metadata": {},
   "outputs": [],
   "source": [
    "sfwaic=znwaic <- list()\n",
    "for(i in 1:length(models)){\n",
    "    sfwaic[[models[i]]] <- loo(sf[[models[i]]],r_eff=NA)\n",
    "    znwaic[[models[i]]] <- loo(zn[[models[i]]],r_eff=NA)\n",
    "}"
   ]
  },
  {
   "cell_type": "code",
   "execution_count": null,
   "metadata": {},
   "outputs": [],
   "source": []
  },
  {
   "cell_type": "code",
   "execution_count": null,
   "metadata": {},
   "outputs": [],
   "source": []
  },
  {
   "cell_type": "code",
   "execution_count": 46,
   "metadata": {},
   "outputs": [
    {
     "data": {
      "text/html": [
       "<table>\n",
       "<caption>A data.frame: 14 × 3</caption>\n",
       "<thead>\n",
       "\t<tr><th></th><th scope=col>model</th><th scope=col>seaflow</th><th scope=col>zinser</th></tr>\n",
       "\t<tr><th></th><th scope=col>&lt;fct&gt;</th><th scope=col>&lt;dbl&gt;</th><th scope=col>&lt;dbl&gt;</th></tr>\n",
       "</thead>\n",
       "<tbody>\n",
       "\t<tr><th scope=row>14</th><td>m14</td><td>2886.622</td><td>3374.935</td></tr>\n",
       "\t<tr><th scope=row>9</th><td>m9 </td><td>2891.138</td><td>3382.805</td></tr>\n",
       "\t<tr><th scope=row>8</th><td>m8 </td><td>2911.583</td><td>3261.832</td></tr>\n",
       "\t<tr><th scope=row>10</th><td>m10</td><td>2913.237</td><td>3444.957</td></tr>\n",
       "\t<tr><th scope=row>13</th><td>m13</td><td>2917.413</td><td>3269.440</td></tr>\n",
       "\t<tr><th scope=row>4</th><td>m4 </td><td>3046.345</td><td>3457.994</td></tr>\n",
       "\t<tr><th scope=row>12</th><td>m12</td><td>3046.706</td><td>3428.012</td></tr>\n",
       "\t<tr><th scope=row>7</th><td>m7 </td><td>3046.756</td><td>3435.076</td></tr>\n",
       "\t<tr><th scope=row>5</th><td>m5 </td><td>3063.000</td><td>3369.832</td></tr>\n",
       "\t<tr><th scope=row>11</th><td>m11</td><td>3066.754</td><td>3272.436</td></tr>\n",
       "\t<tr><th scope=row>3</th><td>m3 </td><td>3071.778</td><td>3521.181</td></tr>\n",
       "\t<tr><th scope=row>6</th><td>m6 </td><td>3076.037</td><td>3251.601</td></tr>\n",
       "\t<tr><th scope=row>2</th><td>m2 </td><td>3076.397</td><td>3537.361</td></tr>\n",
       "\t<tr><th scope=row>1</th><td>m1 </td><td>3086.984</td><td>3530.712</td></tr>\n",
       "</tbody>\n",
       "</table>\n"
      ],
      "text/latex": [
       "A data.frame: 14 × 3\n",
       "\\begin{tabular}{r|lll}\n",
       "  & model & seaflow & zinser\\\\\n",
       "  & <fct> & <dbl> & <dbl>\\\\\n",
       "\\hline\n",
       "\t14 & m14 & 2886.622 & 3374.935\\\\\n",
       "\t9 & m9  & 2891.138 & 3382.805\\\\\n",
       "\t8 & m8  & 2911.583 & 3261.832\\\\\n",
       "\t10 & m10 & 2913.237 & 3444.957\\\\\n",
       "\t13 & m13 & 2917.413 & 3269.440\\\\\n",
       "\t4 & m4  & 3046.345 & 3457.994\\\\\n",
       "\t12 & m12 & 3046.706 & 3428.012\\\\\n",
       "\t7 & m7  & 3046.756 & 3435.076\\\\\n",
       "\t5 & m5  & 3063.000 & 3369.832\\\\\n",
       "\t11 & m11 & 3066.754 & 3272.436\\\\\n",
       "\t3 & m3  & 3071.778 & 3521.181\\\\\n",
       "\t6 & m6  & 3076.037 & 3251.601\\\\\n",
       "\t2 & m2  & 3076.397 & 3537.361\\\\\n",
       "\t1 & m1  & 3086.984 & 3530.712\\\\\n",
       "\\end{tabular}\n"
      ],
      "text/markdown": [
       "\n",
       "A data.frame: 14 × 3\n",
       "\n",
       "| <!--/--> | model &lt;fct&gt; | seaflow &lt;dbl&gt; | zinser &lt;dbl&gt; |\n",
       "|---|---|---|---|\n",
       "| 14 | m14 | 2886.622 | 3374.935 |\n",
       "| 9 | m9  | 2891.138 | 3382.805 |\n",
       "| 8 | m8  | 2911.583 | 3261.832 |\n",
       "| 10 | m10 | 2913.237 | 3444.957 |\n",
       "| 13 | m13 | 2917.413 | 3269.440 |\n",
       "| 4 | m4  | 3046.345 | 3457.994 |\n",
       "| 12 | m12 | 3046.706 | 3428.012 |\n",
       "| 7 | m7  | 3046.756 | 3435.076 |\n",
       "| 5 | m5  | 3063.000 | 3369.832 |\n",
       "| 11 | m11 | 3066.754 | 3272.436 |\n",
       "| 3 | m3  | 3071.778 | 3521.181 |\n",
       "| 6 | m6  | 3076.037 | 3251.601 |\n",
       "| 2 | m2  | 3076.397 | 3537.361 |\n",
       "| 1 | m1  | 3086.984 | 3530.712 |\n",
       "\n"
      ],
      "text/plain": [
       "   model seaflow  zinser  \n",
       "14 m14   2886.622 3374.935\n",
       "9  m9    2891.138 3382.805\n",
       "8  m8    2911.583 3261.832\n",
       "10 m10   2913.237 3444.957\n",
       "13 m13   2917.413 3269.440\n",
       "4  m4    3046.345 3457.994\n",
       "12 m12   3046.706 3428.012\n",
       "7  m7    3046.756 3435.076\n",
       "5  m5    3063.000 3369.832\n",
       "11 m11   3066.754 3272.436\n",
       "3  m3    3071.778 3521.181\n",
       "6  m6    3076.037 3251.601\n",
       "2  m2    3076.397 3537.361\n",
       "1  m1    3086.984 3530.712"
      ]
     },
     "metadata": {},
     "output_type": "display_data"
    },
    {
     "data": {
      "text/html": [
       "<table>\n",
       "<caption>A data.frame: 14 × 3</caption>\n",
       "<thead>\n",
       "\t<tr><th></th><th scope=col>model</th><th scope=col>seaflow</th><th scope=col>zinser</th></tr>\n",
       "\t<tr><th></th><th scope=col>&lt;fct&gt;</th><th scope=col>&lt;dbl&gt;</th><th scope=col>&lt;dbl&gt;</th></tr>\n",
       "</thead>\n",
       "<tbody>\n",
       "\t<tr><th scope=row>6</th><td>m6 </td><td>3076.037</td><td>3251.601</td></tr>\n",
       "\t<tr><th scope=row>8</th><td>m8 </td><td>2911.583</td><td>3261.832</td></tr>\n",
       "\t<tr><th scope=row>13</th><td>m13</td><td>2917.413</td><td>3269.440</td></tr>\n",
       "\t<tr><th scope=row>11</th><td>m11</td><td>3066.754</td><td>3272.436</td></tr>\n",
       "\t<tr><th scope=row>5</th><td>m5 </td><td>3063.000</td><td>3369.832</td></tr>\n",
       "\t<tr><th scope=row>14</th><td>m14</td><td>2886.622</td><td>3374.935</td></tr>\n",
       "\t<tr><th scope=row>9</th><td>m9 </td><td>2891.138</td><td>3382.805</td></tr>\n",
       "\t<tr><th scope=row>12</th><td>m12</td><td>3046.706</td><td>3428.012</td></tr>\n",
       "\t<tr><th scope=row>7</th><td>m7 </td><td>3046.756</td><td>3435.076</td></tr>\n",
       "\t<tr><th scope=row>10</th><td>m10</td><td>2913.237</td><td>3444.957</td></tr>\n",
       "\t<tr><th scope=row>4</th><td>m4 </td><td>3046.345</td><td>3457.994</td></tr>\n",
       "\t<tr><th scope=row>3</th><td>m3 </td><td>3071.778</td><td>3521.181</td></tr>\n",
       "\t<tr><th scope=row>1</th><td>m1 </td><td>3086.984</td><td>3530.712</td></tr>\n",
       "\t<tr><th scope=row>2</th><td>m2 </td><td>3076.397</td><td>3537.361</td></tr>\n",
       "</tbody>\n",
       "</table>\n"
      ],
      "text/latex": [
       "A data.frame: 14 × 3\n",
       "\\begin{tabular}{r|lll}\n",
       "  & model & seaflow & zinser\\\\\n",
       "  & <fct> & <dbl> & <dbl>\\\\\n",
       "\\hline\n",
       "\t6 & m6  & 3076.037 & 3251.601\\\\\n",
       "\t8 & m8  & 2911.583 & 3261.832\\\\\n",
       "\t13 & m13 & 2917.413 & 3269.440\\\\\n",
       "\t11 & m11 & 3066.754 & 3272.436\\\\\n",
       "\t5 & m5  & 3063.000 & 3369.832\\\\\n",
       "\t14 & m14 & 2886.622 & 3374.935\\\\\n",
       "\t9 & m9  & 2891.138 & 3382.805\\\\\n",
       "\t12 & m12 & 3046.706 & 3428.012\\\\\n",
       "\t7 & m7  & 3046.756 & 3435.076\\\\\n",
       "\t10 & m10 & 2913.237 & 3444.957\\\\\n",
       "\t4 & m4  & 3046.345 & 3457.994\\\\\n",
       "\t3 & m3  & 3071.778 & 3521.181\\\\\n",
       "\t1 & m1  & 3086.984 & 3530.712\\\\\n",
       "\t2 & m2  & 3076.397 & 3537.361\\\\\n",
       "\\end{tabular}\n"
      ],
      "text/markdown": [
       "\n",
       "A data.frame: 14 × 3\n",
       "\n",
       "| <!--/--> | model &lt;fct&gt; | seaflow &lt;dbl&gt; | zinser &lt;dbl&gt; |\n",
       "|---|---|---|---|\n",
       "| 6 | m6  | 3076.037 | 3251.601 |\n",
       "| 8 | m8  | 2911.583 | 3261.832 |\n",
       "| 13 | m13 | 2917.413 | 3269.440 |\n",
       "| 11 | m11 | 3066.754 | 3272.436 |\n",
       "| 5 | m5  | 3063.000 | 3369.832 |\n",
       "| 14 | m14 | 2886.622 | 3374.935 |\n",
       "| 9 | m9  | 2891.138 | 3382.805 |\n",
       "| 12 | m12 | 3046.706 | 3428.012 |\n",
       "| 7 | m7  | 3046.756 | 3435.076 |\n",
       "| 10 | m10 | 2913.237 | 3444.957 |\n",
       "| 4 | m4  | 3046.345 | 3457.994 |\n",
       "| 3 | m3  | 3071.778 | 3521.181 |\n",
       "| 1 | m1  | 3086.984 | 3530.712 |\n",
       "| 2 | m2  | 3076.397 | 3537.361 |\n",
       "\n"
      ],
      "text/plain": [
       "   model seaflow  zinser  \n",
       "6  m6    3076.037 3251.601\n",
       "8  m8    2911.583 3261.832\n",
       "13 m13   2917.413 3269.440\n",
       "11 m11   3066.754 3272.436\n",
       "5  m5    3063.000 3369.832\n",
       "14 m14   2886.622 3374.935\n",
       "9  m9    2891.138 3382.805\n",
       "12 m12   3046.706 3428.012\n",
       "7  m7    3046.756 3435.076\n",
       "10 m10   2913.237 3444.957\n",
       "4  m4    3046.345 3457.994\n",
       "3  m3    3071.778 3521.181\n",
       "1  m1    3086.984 3530.712\n",
       "2  m2    3076.397 3537.361"
      ]
     },
     "metadata": {},
     "output_type": "display_data"
    }
   ],
   "source": [
    "dfloo <- data.frame(model=character(),seaflow=numeric(),zinser=numeric())\n",
    "for(i in 1:length(models)){\n",
    "    dfloo <- rbind(dfloo,data.frame(model=models[i],seaflow=sfloo[[models[i]]]$estimate[3],zinser=znloo[[models[i]]]$estimate[3]))\n",
    "}\n",
    "dfloo[order(dfloo$seaflow),]\n",
    "dfloo[order(dfloo$zinser),]"
   ]
  },
  {
   "cell_type": "code",
   "execution_count": 41,
   "metadata": {},
   "outputs": [],
   "source": [
    "#dfwaic <- data.frame(model=character(),seaflow=numeric(),zinser=numeric())\n",
    "#for(i in 1:length(models)){\n",
    "#    dfwaic <- rbind(dfwaic,data.frame(model=models[i],seaflow=sfwaic[[models[i]]]$estimate[3],zinser=znwaic[[models[i]]]$estimate[3]))\n",
    "#}\n",
    "#dfwaic[order(dfwaic$seaflow),]\n",
    "#dfwaic[order(dfwaic$zinser),]"
   ]
  },
  {
   "cell_type": "code",
   "execution_count": null,
   "metadata": {},
   "outputs": [],
   "source": []
  },
  {
   "cell_type": "code",
   "execution_count": null,
   "metadata": {},
   "outputs": [],
   "source": []
  },
  {
   "cell_type": "code",
   "execution_count": null,
   "metadata": {},
   "outputs": [],
   "source": []
  },
  {
   "cell_type": "code",
   "execution_count": null,
   "metadata": {},
   "outputs": [],
   "source": []
  },
  {
   "cell_type": "code",
   "execution_count": null,
   "metadata": {},
   "outputs": [],
   "source": []
  },
  {
   "cell_type": "code",
   "execution_count": null,
   "metadata": {},
   "outputs": [],
   "source": []
  },
  {
   "cell_type": "code",
   "execution_count": null,
   "metadata": {},
   "outputs": [],
   "source": []
  },
  {
   "cell_type": "code",
   "execution_count": null,
   "metadata": {},
   "outputs": [],
   "source": []
  }
 ],
 "metadata": {
  "@webio": {
   "lastCommId": null,
   "lastKernelId": null
  },
  "kernelspec": {
   "display_name": "R",
   "language": "R",
   "name": "ir"
  },
  "language_info": {
   "codemirror_mode": "r",
   "file_extension": ".r",
   "mimetype": "text/x-r-source",
   "name": "R",
   "pygments_lexer": "r",
   "version": "3.6.1"
  }
 },
 "nbformat": 4,
 "nbformat_minor": 2
}
