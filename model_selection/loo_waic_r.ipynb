{
 "cells": [
  {
   "cell_type": "code",
   "execution_count": 3,
   "metadata": {},
   "outputs": [],
   "source": [
    "library(rstan)\n",
    "library(loo)"
   ]
  },
  {
   "cell_type": "code",
   "execution_count": 70,
   "metadata": {},
   "outputs": [],
   "source": [
    "sf_m5 <- as.matrix(read.csv('log_lik_m5_log_lik_seaflow_summary.csv'))\n",
    "zn_m5 <- as.matrix(read.csv('log_lik_m5_log_lik_zinser_summary.csv'))\n",
    "sf_m7 <- as.matrix(read.csv('log_lik_m7_log_lik_seaflow_summary.csv'))\n",
    "zn_m7 <- as.matrix(read.csv('log_lik_m7_log_lik_zinser_summary.csv'))"
   ]
  },
  {
   "cell_type": "code",
   "execution_count": 26,
   "metadata": {},
   "outputs": [],
   "source": [
    "#dim(sf_m5)"
   ]
  },
  {
   "cell_type": "code",
   "execution_count": 71,
   "metadata": {},
   "outputs": [
    {
     "name": "stderr",
     "output_type": "stream",
     "text": [
      "Warning message:\n",
      "\"\n",
      "25 (100.0%) p_waic estimates greater than 0.4. We recommend trying loo instead.\"Warning message:\n",
      "\"\n",
      "25 (100.0%) p_waic estimates greater than 0.4. We recommend trying loo instead.\"Warning message:\n",
      "\"\n",
      "25 (100.0%) p_waic estimates greater than 0.4. We recommend trying loo instead.\"Warning message:\n",
      "\"\n",
      "25 (100.0%) p_waic estimates greater than 0.4. We recommend trying loo instead.\""
     ]
    }
   ],
   "source": [
    "sf_m5_waic <- waic(sf_m5)\n",
    "sf_m7_waic <- waic(sf_m7)\n",
    "zn_m5_waic <- waic(zn_m5)\n",
    "zn_m7_waic <- waic(zn_m7)"
   ]
  },
  {
   "cell_type": "code",
   "execution_count": 78,
   "metadata": {},
   "outputs": [
    {
     "name": "stderr",
     "output_type": "stream",
     "text": [
      "Warning message:\n",
      "\"Some Pareto k diagnostic values are too high. See help('pareto-k-diagnostic') for details.\n",
      "\"Warning message in rnorm(n_samples, mean = E_epd[i], sd = sd_epd_i):\n",
      "\"NAs produced\"Warning message:\n",
      "\"Some Pareto k diagnostic values are too high. See help('pareto-k-diagnostic') for details.\n",
      "\"Warning message in rnorm(n_samples, mean = E_epd[i], sd = sd_epd_i):\n",
      "\"NAs produced\"Warning message:\n",
      "\"Some Pareto k diagnostic values are too high. See help('pareto-k-diagnostic') for details.\n",
      "\"Warning message in rnorm(n_samples, mean = E_epd[i], sd = sd_epd_i):\n",
      "\"NAs produced\"Warning message:\n",
      "\"Some Pareto k diagnostic values are too high. See help('pareto-k-diagnostic') for details.\n",
      "\"Warning message in rnorm(n_samples, mean = E_epd[i], sd = sd_epd_i):\n",
      "\"NAs produced\""
     ]
    }
   ],
   "source": [
    "sf_m5_loo <- loo(sf_m5,r_eff=NA)\n",
    "sf_m7_loo <- loo(sf_m7,r_eff=NA)\n",
    "zn_m5_loo <- loo(zn_m5,r_eff=NA)\n",
    "zn_m7_loo <- loo(zn_m7,r_eff=NA)"
   ]
  },
  {
   "cell_type": "code",
   "execution_count": 73,
   "metadata": {},
   "outputs": [
    {
     "data": {
      "text/html": [
       "2662537.55650421"
      ],
      "text/latex": [
       "2662537.55650421"
      ],
      "text/markdown": [
       "2662537.55650421"
      ],
      "text/plain": [
       "[1] 2662538"
      ]
     },
     "metadata": {},
     "output_type": "display_data"
    },
    {
     "data": {
      "text/html": [
       "2662493.71380965"
      ],
      "text/latex": [
       "2662493.71380965"
      ],
      "text/markdown": [
       "2662493.71380965"
      ],
      "text/plain": [
       "[1] 2662494"
      ]
     },
     "metadata": {},
     "output_type": "display_data"
    }
   ],
   "source": [
    "sf_m5_waic$estimates[3]\n",
    "sf_m7_waic$estimates[3]"
   ]
  },
  {
   "cell_type": "code",
   "execution_count": 74,
   "metadata": {},
   "outputs": [
    {
     "data": {
      "text/html": [
       "2662992.52789154"
      ],
      "text/latex": [
       "2662992.52789154"
      ],
      "text/markdown": [
       "2662992.52789154"
      ],
      "text/plain": [
       "[1] 2662993"
      ]
     },
     "metadata": {},
     "output_type": "display_data"
    },
    {
     "data": {
      "text/html": [
       "2662885.73271393"
      ],
      "text/latex": [
       "2662885.73271393"
      ],
      "text/markdown": [
       "2662885.73271393"
      ],
      "text/plain": [
       "[1] 2662886"
      ]
     },
     "metadata": {},
     "output_type": "display_data"
    }
   ],
   "source": [
    "zn_m5_waic$estimates[3]\n",
    "zn_m7_waic$estimates[3]"
   ]
  },
  {
   "cell_type": "code",
   "execution_count": 75,
   "metadata": {},
   "outputs": [
    {
     "data": {
      "text/html": [
       "3078.5103680054"
      ],
      "text/latex": [
       "3078.5103680054"
      ],
      "text/markdown": [
       "3078.5103680054"
      ],
      "text/plain": [
       "[1] 3078.51"
      ]
     },
     "metadata": {},
     "output_type": "display_data"
    },
    {
     "data": {
      "text/html": [
       "3048.08518978153"
      ],
      "text/latex": [
       "3048.08518978153"
      ],
      "text/markdown": [
       "3048.08518978153"
      ],
      "text/plain": [
       "[1] 3048.085"
      ]
     },
     "metadata": {},
     "output_type": "display_data"
    }
   ],
   "source": [
    "sf_m5_loo$estimates[3]\n",
    "sf_m7_loo$estimates[3]"
   ]
  },
  {
   "cell_type": "code",
   "execution_count": 76,
   "metadata": {},
   "outputs": [
    {
     "data": {
      "text/html": [
       "3531.57818578386"
      ],
      "text/latex": [
       "3531.57818578386"
      ],
      "text/markdown": [
       "3531.57818578386"
      ],
      "text/plain": [
       "[1] 3531.578"
      ]
     },
     "metadata": {},
     "output_type": "display_data"
    },
    {
     "data": {
      "text/html": [
       "3439.11976864778"
      ],
      "text/latex": [
       "3439.11976864778"
      ],
      "text/markdown": [
       "3439.11976864778"
      ],
      "text/plain": [
       "[1] 3439.12"
      ]
     },
     "metadata": {},
     "output_type": "display_data"
    }
   ],
   "source": [
    "zn_m5_loo$estimates[3]\n",
    "zn_m7_loo$estimates[3]"
   ]
  },
  {
   "cell_type": "code",
   "execution_count": 79,
   "metadata": {},
   "outputs": [
    {
     "data": {
      "text/html": [
       "-1539.2551840027"
      ],
      "text/latex": [
       "-1539.2551840027"
      ],
      "text/markdown": [
       "-1539.2551840027"
      ],
      "text/plain": [
       "[1] -1539.255"
      ]
     },
     "metadata": {},
     "output_type": "display_data"
    },
    {
     "data": {
      "text/html": [
       "-1524.04259489077"
      ],
      "text/latex": [
       "-1524.04259489077"
      ],
      "text/markdown": [
       "-1524.04259489077"
      ],
      "text/plain": [
       "[1] -1524.043"
      ]
     },
     "metadata": {},
     "output_type": "display_data"
    }
   ],
   "source": [
    "sf_m5_loo$estimates[1]\n",
    "sf_m7_loo$estimates[1]"
   ]
  },
  {
   "cell_type": "code",
   "execution_count": 81,
   "metadata": {},
   "outputs": [
    {
     "data": {
      "text/plain": [
       "\n",
       "Computed from 4000 by 25 log-likelihood matrix\n",
       "\n",
       "         Estimate     SE\n",
       "elpd_loo  -1539.3  114.1\n",
       "p_loo      4142.7 3940.0\n",
       "looic      3078.5  228.2\n",
       "------\n",
       "Monte Carlo SE of elpd_loo is NA.\n",
       "\n",
       "Pareto k diagnostic values:\n",
       "                         Count Pct.    Min. n_eff\n",
       "(-Inf, 0.5]   (good)      0     0.0%   <NA>      \n",
       " (0.5, 0.7]   (ok)        0     0.0%   <NA>      \n",
       "   (0.7, 1]   (bad)       4    16.0%   11        \n",
       "   (1, Inf)   (very bad) 21    84.0%   2         \n",
       "See help('pareto-k-diagnostic') for details."
      ]
     },
     "metadata": {},
     "output_type": "display_data"
    }
   ],
   "source": [
    "\n",
    "sf_m5_loo\n"
   ]
  }
 ],
 "metadata": {
  "kernelspec": {
   "display_name": "R",
   "language": "R",
   "name": "ir"
  },
  "language_info": {
   "codemirror_mode": "r",
   "file_extension": ".r",
   "mimetype": "text/x-r-source",
   "name": "R",
   "pygments_lexer": "r",
   "version": "3.6.1"
  }
 },
 "nbformat": 4,
 "nbformat_minor": 2
}
