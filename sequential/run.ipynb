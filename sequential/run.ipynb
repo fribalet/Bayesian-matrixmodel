{
 "cells": [
  {
   "cell_type": "code",
   "execution_count": 14,
   "metadata": {},
   "outputs": [],
   "source": [
    "library(ncdf4)\n",
    "library(viridis)\n",
    "library(fields)\n",
    "library(rstan)\n",
    "options(mc.cores = parallel::detectCores())"
   ]
  },
  {
   "cell_type": "code",
   "execution_count": 18,
   "metadata": {},
   "outputs": [],
   "source": [
    "setwd('d:/dropbox/working/bayesian_matrix_model/Bayesian-matrixmodel/')"
   ]
  },
  {
   "cell_type": "code",
   "execution_count": 19,
   "metadata": {},
   "outputs": [],
   "source": [
    "nc <- nc_open('data/SeaFlow_SizeDist_regrid-15-5.nc')"
   ]
  },
  {
   "cell_type": "code",
   "execution_count": 20,
   "metadata": {},
   "outputs": [],
   "source": [
    "data              <- list()\n",
    "data$w_obs        <- ncvar_get(nc,'w_obs')\n",
    "data$PAR          <- ncvar_get(nc,'PAR')\n",
    "data$m            <- ncvar_get(nc,'m')\n",
    "data$delta_v_inv  <- ncvar_get(nc,'delta_v_inv')\n",
    "data$v_min        <- ncvar_get(nc,'v_min')\n",
    "data$time         <- ncvar_get(nc,'time')\n",
    "data$dt           <- 15\n",
    "data$nt           <- 1440/data$dt\n",
    "data$nt_obs       <- length(data$time)\n",
    "data$return_prior <- 0\n",
    "data$obs          <- t(data$w_obs)\n",
    "data$t_obs        <- data$time\n",
    "\n",
    "delta_v <- 1/data$delta_v_inv\n",
    "v       <- data$v_min*2^(0:14*delta_v)"
   ]
  },
  {
   "cell_type": "markdown",
   "metadata": {},
   "source": [
    "Interpolate missing values - we can do this more accurately than what is implemented"
   ]
  },
  {
   "cell_type": "code",
   "execution_count": 21,
   "metadata": {},
   "outputs": [],
   "source": [
    "t_int <- seq(0,tail(data$time,1),3)\n",
    "data$OBS <- matrix(NA,nrow=15,ncol=length(t_int))\n",
    "\n",
    "for(i in 1:data$m){\n",
    "    data$OBS[i,] <- approx(data$t_obs,data$obs[i,],xout=t_int)$y\n",
    "}\n",
    "data$obs   <- data$OBS\n",
    "data$t_obs <- t_int"
   ]
  },
  {
   "cell_type": "code",
   "execution_count": 22,
   "metadata": {},
   "outputs": [],
   "source": [
    "stride_t_obs     <- 15\n",
    "\n",
    "DATA <- list()\n",
    "for(i in 0:3){\n",
    "    ind       <- data$t_obs > i*1440 & data$t_obs < (i+1)*1440 \n",
    "    tmp       <- data\n",
    "    tmp$t_obs <- data$t_obs[ind]\n",
    "    tmp$obs   <- data$obs[,ind]\n",
    "    tmp$E     <- approx(data$time,data$PAR,xout=seq(min(tmp$t_obs),max(tmp$t_obs),length.out=tmp$nt))$y\n",
    "\n",
    "    if(stride_t_obs > 0){\n",
    "        tmp$t_obs <- tmp$t_obs[seq(1,length(tmp$t_obs),stride_t_obs)]\n",
    "        tmp$obs   <- tmp$obs[,seq(1,ncol(tmp$obs),stride_t_obs)]\n",
    "    }\n",
    "    tmp$nt_obs <- dim(tmp$obs)[2]\n",
    "\n",
    "    DATA[[i+1]] <- tmp\n",
    "}"
   ]
  },
  {
   "cell_type": "code",
   "execution_count": 23,
   "metadata": {},
   "outputs": [],
   "source": [
    "mod_static     <- stan_model('sequential/stan_static.stan')"
   ]
  },
  {
   "cell_type": "code",
   "execution_count": 24,
   "metadata": {},
   "outputs": [],
   "source": [
    "mod_sequential <- stan_model('sequential/stan_sequential.stan')"
   ]
  },
  {
   "cell_type": "code",
   "execution_count": 25,
   "metadata": {},
   "outputs": [
    {
     "name": "stderr",
     "output_type": "stream",
     "text": [
      "Warning message:\n",
      "\"There were 3250 divergent transitions after warmup. Increasing adapt_delta above 0.8 may help. See\n",
      "http://mc-stan.org/misc/warnings.html#divergent-transitions-after-warmup\"Warning message:\n",
      "\"Examine the pairs() plot to diagnose sampling problems\n",
      "\"Warning message:\n",
      "\"Bulk Effective Samples Size (ESS) is too low, indicating posterior means and medians may be unreliable.\n",
      "Running the chains for more iterations may help. See\n",
      "http://mc-stan.org/misc/warnings.html#bulk-ess\"Warning message:\n",
      "\"Tail Effective Samples Size (ESS) is too low, indicating posterior variances and tail quantiles may be unreliable.\n",
      "Running the chains for more iterations may help. See\n",
      "http://mc-stan.org/misc/warnings.html#tail-ess\""
     ]
    }
   ],
   "source": [
    "MCMC=POST <- list()\n",
    "\n",
    "##--FIRST DAY--###################\n",
    "dat       <- DATA[[1]]\n",
    "dat$w_ini <- data$w_obs[1,]\n",
    "MCMC[[1]] <- sampling(mod_static,data=dat,open_progress=TRUE)\n",
    "\tPOST[[1]] <- extract(MCMC[[1]])"
   ]
  },
  {
   "cell_type": "code",
   "execution_count": 26,
   "metadata": {},
   "outputs": [
    {
     "name": "stdout",
     "output_type": "stream",
     "text": [
      "[1] 2\n",
      "[1] 3\n",
      "[1] 4\n"
     ]
    }
   ],
   "source": [
    "##--SUCCESSIVE DAYS--###################\n",
    "for(i in 2:length(DATA)){\n",
    "\tdat       <- DATA[[i]]\n",
    "\tdat$t_obs <- DATA[[1]]$t_obs\n",
    "\t\n",
    "\tdat$w_ini   <- apply(POST[[i-1]]$mod_obspos,c(2,3),mean)[,dim(POST[[i-1]]$mod_obspos)[3]]\n",
    "\tdat$theta_t <- c(mean(POST[[i-1]]$b),         sd(POST[[i-1]]$b),\n",
    "   \t\t\t\t     mean(POST[[i-1]]$delta_max), sd(POST[[i-1]]$delta_max),\n",
    "\t\t\t\t     mean(POST[[i-1]]$gamma_max), sd(POST[[i-1]]$gamma_max),\n",
    "\t\t\t\t     mean(POST[[i-1]]$E_star),    sd(POST[[i-1]]$E_star))\n",
    "\n",
    "\tMCMC[[i]] <- sampling(mod_sequential,data=dat,open_progress=TRUE)\n",
    "\tPOST[[i]] <- extract(MCMC[[i]])\n",
    "}"
   ]
  },
  {
   "cell_type": "code",
   "execution_count": 34,
   "metadata": {},
   "outputs": [
    {
     "data": {
      "image/png": "[encoded data removed]",
      "text/plain": [
       "plot without title"
      ]
     },
     "metadata": {},
     "output_type": "display_data"
    }
   ],
   "source": [
    "cols <- colorRampPalette(c('blue','red'))\n",
    "\n",
    "par(mfrow=c(4,4),mar=c(2,2,2,2))\n",
    "for(i in 1:length(DATA)){\n",
    "\tmu <- t(apply(POST[[i]]$mod_obspos,c(2,3),mean))\n",
    "\timage(mu); box()\n",
    "\timage(t(DATA[[i]]$obs)); box()\n",
    "\timage(mu - t(DATA[[i]]$obs),zlim=c(-0.1,0.1),col=cols(10)); box()\n",
    "\t\t#image.plot(matrix(c(-0.1,0.1)),legend.only=TRUE,col=cols(10),side=3,line=-1)\n",
    "\timage((mu - t(DATA[[i]]$obs))^2,col=viridis(10),zlim=c(-5E-3,5E-3)); box()\n",
    "}"
   ]
  },
  {
   "cell_type": "code",
   "execution_count": 38,
   "metadata": {},
   "outputs": [
    {
     "data": {
      "image/png": "[encoded data removed]",
      "text/plain": [
       "Plot with title \"\""
      ]
     },
     "metadata": {},
     "output_type": "display_data"
    }
   ],
   "source": [
    "par(mfrow=c(5,4),mar=c(2,2,2,2),oma=c(2,2,2,2))\n",
    "plot(seq(1,1.5,0.01),dnorm(seq(1,1.5,0.01),mean=1,sd=0.8),type='l',bty='n')\n",
    "\tmtext(expression(italic(b)))\n",
    "plot(seq(40,150,0.1),dunif(seq(40,150,0.1),0,96),type='l',bty='n')\n",
    "\tmtext(expression(italic(delta['max'])))\n",
    "plot(seq(5,40,0.1),dunif(seq(5,40,0.1),5,40),type='l',bty='n')\n",
    "\tmtext(expression(italic(gamma['max'])))\n",
    "plot(seq(0,5000,1),dnorm(seq(0,5000,1),mean=3000,sd=1000),type='l',bty='n')\n",
    "\tmtext(expression(italic(E*'*')))\n",
    "\n",
    "for(i in 1:length(DATA)){\n",
    "\thist(POST[[i]]$b,main='',xlim=c(1,1.5),breaks=seq(0.5,2,length.out=90),freq=FALSE,ylim=c(0,15))\n",
    "\t\tabline(v=quantile(POST[[i]]$b,probs=c(0.05,0.5,0.95)),lty=c(2,1,2),lwd=c(1,2,1))\n",
    "        mtext(paste('Day ',i),cex=0.8,line=0.5)\n",
    "\thist(POST[[i]]$delta_max,main='',xlim=c(40,150),breaks=seq(20,200,length.out=70),freq=FALSE,ylim=c(0,0.08))\n",
    "\t\tabline(v=quantile(POST[[i]]$delta_max,probs=c(0.05,0.5,0.95)),lty=c(2,1,2),lwd=c(1,2,1))\n",
    "\thist(POST[[i]]$gamma_max,main='',xlim=c(5,40),breaks=seq(0,50,length.out=50),freq=FALSE,ylim=c(0,0.12))\n",
    "\t\tabline(v=quantile(POST[[i]]$gamma_max,probs=c(0.05,0.5,0.95)),lty=c(2,1,2),lwd=c(1,2,1))\n",
    "\thist(POST[[i]]$E_star,main='',xlim=c(0,5000),breaks=seq(0,5000,length.out=50),freq=FALSE,ylim=c(0,0.001))\n",
    "\t\tabline(v=quantile(POST[[i]]$E_star,probs=c(0.05,0.5,0.95)),lty=c(2,1,2),lwd=c(1,2,1))\n",
    "}"
   ]
  }
 ],
 "metadata": {
  "kernelspec": {
   "display_name": "R",
   "language": "R",
   "name": "ir"
  },
  "language_info": {
   "codemirror_mode": "r",
   "file_extension": ".r",
   "mimetype": "text/x-r-source",
   "name": "R",
   "pygments_lexer": "r",
   "version": "3.6.1"
  }
 },
 "nbformat": 4,
 "nbformat_minor": 2
}
