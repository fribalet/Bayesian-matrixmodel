{
 "cells": [
  {
   "cell_type": "markdown",
   "metadata": {},
   "source": [
    "# SeaFlow data (regridded)"
   ]
  },
  {
   "cell_type": "code",
   "execution_count": 1,
   "metadata": {},
   "outputs": [],
   "source": [
    "#%matplotlib notebook\n",
    "import netCDF4 as nc4\n",
    "import numpy as np\n",
    "\n",
    "# load data\n",
    "datafile = 'data/Zinser_SizeDist_regrid-30-15.nc'\n",
    "\n",
    "data_seaflow = {}\n",
    "with nc4.Dataset(datafile) as nc:\n",
    "    for var in nc.variables:\n",
    "        data_seaflow[var] = nc.variables[var][:]"
   ]
  },
  {
   "cell_type": "code",
   "execution_count": 2,
   "metadata": {},
   "outputs": [],
   "source": [
    "v_min = data_seaflow['v_min']\n",
    "delta_v = 1.0/data_seaflow['delta_v_inv']\n",
    "v = v_min * 2**(np.arange(data_seaflow['m'])*delta_v) "
   ]
  },
  {
   "cell_type": "code",
   "execution_count": 3,
   "metadata": {},
   "outputs": [],
   "source": [
    "import matplotlib.pyplot as plt\n",
    "import matplotlib as mpl\n",
    "from mpl_toolkits.axes_grid1.inset_locator import inset_axes\n",
    "\n",
    "def add_colorbar(ax, **cbarargs):\n",
    "    axins_cbar = inset_axes(ax, width='3%', height='90%', loc=5, bbox_to_anchor=(0.05,0.0,1,1), bbox_transform=ax.transAxes)\n",
    "    mpl.colorbar.ColorbarBase(axins_cbar, orientation='vertical', **cbarargs)\n",
    "\n",
    "fig,axs = plt.subplots(nrows=2, sharex=True, figsize=(12,10))\n",
    "\n",
    "ax = axs[0]\n",
    "ax.plot(data_seaflow['time'], data_seaflow['PAR'], color='gold')\n",
    "ax.set(ylabel='PAR')\n",
    "\n",
    "ax = axs[1]\n",
    "pc = ax.pcolormesh(data_seaflow['time'],v,data_seaflow['w_obs'])\n",
    "ax.set(ylabel='size ($\\mu$m$^3$)', xlabel='time (minutes)')\n",
    "add_colorbar(ax, norm=pc.norm, cmap=pc.cmap, label='size class proportion')\n",
    "None"
   ]
  },
  {
   "cell_type": "markdown",
   "metadata": {},
   "source": [
    "# The model\n",
    "\n",
    "modified from *Sosik et al. (2003), Growth rates of coastal phytoplankton from time-series measurements with a submersible flow cytometer, Limnol. Oceanogr.*"
   ]
  },
  {
   "cell_type": "code",
   "execution_count": 4,
   "metadata": {},
   "outputs": [
    {
     "name": "stdout",
     "output_type": "stream",
     "text": [
      "[   0  120  240  360  480  600  720  840  960 1080 1200 1320 1440 1560\n",
      " 1680 1800 1920 2040 2160 2280 2400 2520 2640 2760]\n"
     ]
    }
   ],
   "source": [
    "# prepare data for Stan model\n",
    "\n",
    "dt = 20 # in units of minutes\n",
    "\n",
    "data = {'dt':dt}\n",
    "for k in ('m','v_min','delta_v_inv'):\n",
    "    data[k] = data_seaflow[k]\n",
    "\n",
    "data['obs'] = data_seaflow['w_obs']\n",
    "data['t_obs'] = data_seaflow['time']\n",
    "data['E'] = data_seaflow['PAR']\n",
    "# use first measurements as initial conditions\n",
    "data['w_ini'] = data_seaflow['w_obs'][:,0]\n",
    "\n",
    "# limit the data\n",
    "\n",
    "limit_days = 2\n",
    "stride_t_obs = 1 # keep everything\n",
    "\n",
    "if limit_days > 0:\n",
    "    limit_minutes = limit_days*1440\n",
    "    \n",
    "    ind_obs = data['t_obs'] < limit_minutes\n",
    "    data['t_obs'] = data['t_obs'][ind_obs]\n",
    "    data['obs'] = data['obs'][:,ind_obs]\n",
    "\n",
    "    data['nt'] = int(limit_minutes//data['dt'])\n",
    "    \n",
    "if stride_t_obs > 0:\n",
    "    data['t_obs'] = data['t_obs'][::stride_t_obs]\n",
    "    data['obs'] = data['obs'][:,::stride_t_obs]\n",
    "\n",
    "data['nt_obs'] = data['obs'].shape[1]\n",
    "    \n",
    "# finally, add light data\n",
    "t = np.arange(data['nt'])*data['dt']\n",
    "data['E'] = np.interp(t, xp=data_seaflow['time'], fp=data_seaflow['PAR'])\n",
    "\n",
    "print(data['t_obs'])"
   ]
  },
  {
   "cell_type": "markdown",
   "metadata": {},
   "source": [
    "### load various models and modify prior for some of them"
   ]
  },
  {
   "cell_type": "code",
   "execution_count": 5,
   "metadata": {},
   "outputs": [],
   "source": [
    "import re\n",
    "\n",
    "stan_files = {\n",
    "    #'freedelta':'stancode/matrixmodel_freedelta_normparam_trackgrowth.stan',\n",
    "    #'resp':'stancode/matrixmodel_freedelta_resp_normparam_trackgrowth.stan',\n",
    "    #'resp_gammai':'stancode/matrixmodel_freedelta_resp_gammai_normparam_trackgrowth.stan',\n",
    "    'respi_gammai':'stancode/matrixmodel_freedelta_respi_gammai_normparam_trackgrowth.stan',\n",
    "    'gammai':'stancode/matrixmodel_freedelta_gammai_normparam_trackgrowth.stan',\n",
    "}\n",
    "desc = {\n",
    "    'freedelta':'basic model with \"free\" deltas',\n",
    "    'resp':'model with respiration and \"free\" deltas',\n",
    "    'resp_gammai':'model with respiration, size-dep. growth and \"free\" deltas',\n",
    "    'respi_gammai':'model with size-dep. respiration, size-dep. growth and \"free\" deltas',\n",
    "    'gammai':'model with size-dep. growth and \"free\" deltas',\n",
    "}\n",
    "\n",
    "stan_codes = {}\n",
    "for name in stan_files:\n",
    "    with open(stan_files[name]) as f:\n",
    "        stan_codes[name] = f.read()\n",
    "\n",
    "for name in ('respi_gammai',):\n",
    "    name_new = name+'_enforceresp'\n",
    "    code_split = stan_codes[name].split('\\n')\n",
    "    code_split_new = []\n",
    "    for line in code_split:\n",
    "        m = re.match('^( *respiration *\\~)',line)\n",
    "        if m:\n",
    "            code_split_new.append(m.groups(0)[0]+' uniform(0.1,10.0); // enforce respiration')\n",
    "        else:\n",
    "            code_split_new.append(line)\n",
    "    stan_codes[name_new] = '\\n'.join(code_split_new)\n",
    "    desc[name_new] = desc[name] + ' with enforced respiration'\n",
    "    \n",
    "for name in ('respi_gammai','gammai'):\n",
    "    name_new = name+'_enforcediv'\n",
    "    code_split = stan_codes[name].split('\\n')\n",
    "    code_split_new = []\n",
    "    for line in code_split:\n",
    "        m = re.match('^( *real)<lower=0>  *delta_mu',line)\n",
    "        if m:\n",
    "            code_split_new.append(m.groups(0)[0]+'<lower=0.5> delta_mu; // enforce division')\n",
    "        else:\n",
    "            code_split_new.append(line)\n",
    "    stan_codes[name_new] = '\\n'.join(code_split_new)\n",
    "    desc[name_new] = desc[name] + ' with enforced division'\n",
    "None"
   ]
  },
  {
   "cell_type": "code",
   "execution_count": 6,
   "metadata": {},
   "outputs": [
    {
     "name": "stderr",
     "output_type": "stream",
     "text": [
      "INFO:pystan:COMPILING THE C++ CODE FOR MODEL respi_gammai NOW.\n",
      "INFO:pystan:COMPILING THE C++ CODE FOR MODEL gammai NOW.\n",
      "INFO:pystan:COMPILING THE C++ CODE FOR MODEL respi_gammai_enforceresp NOW.\n",
      "INFO:pystan:COMPILING THE C++ CODE FOR MODEL respi_gammai_enforcediv NOW.\n",
      "INFO:pystan:COMPILING THE C++ CODE FOR MODEL gammai_enforcediv NOW.\n"
     ]
    }
   ],
   "source": [
    "import pystan\n",
    "\n",
    "models = {name:pystan.StanModel(model_code=stan_codes[name], model_name=name, obfuscate_model_name=False) for name in stan_codes}"
   ]
  },
  {
   "cell_type": "code",
   "execution_count": null,
   "metadata": {},
   "outputs": [
    {
     "name": "stderr",
     "output_type": "stream",
     "text": [
      "WARNING:pystan:n_eff / iter below 0.001 indicates that the effective sample size has likely been overestimated\n",
      "WARNING:pystan:Rhat above 1.1 or below 0.9 indicates that the chains very likely have not mixed\n",
      "WARNING:pystan:514 of 4000 iterations ended with a divergence (12.8 %).\n",
      "WARNING:pystan:Try running with adapt_delta larger than 0.8 to remove the divergences.\n",
      "WARNING:pystan:80 of 4000 iterations saturated the maximum tree depth of 10 (2 %)\n",
      "WARNING:pystan:Run again with max_treedepth larger than 10 to avoid saturation\n",
      "WARNING:pystan:Chain 1: E-BFMI = 0.125\n",
      "WARNING:pystan:Chain 2: E-BFMI = 0.119\n",
      "WARNING:pystan:Chain 3: E-BFMI = 0.135\n",
      "WARNING:pystan:Chain 4: E-BFMI = 0.119\n",
      "WARNING:pystan:E-BFMI below 0.2 indicates you may need to reparameterize your model\n"
     ]
    },
    {
     "name": "stdout",
     "output_type": "stream",
     "text": [
      "Inference for Stan model: respi_gammai.\n",
      "4 chains, each with iter=2000; warmup=1000; thin=1; \n",
      "post-warmup draws per chain=1000, total post-warmup draws=4000.\n",
      "\n",
      "                     mean se_mean      sd    2.5%    25%     50%    75%  97.5%  n_eff   Rhat\n",
      "delta_mu             0.02  6.7e-4    0.01  5.5e-3   0.01    0.02   0.03   0.05    309   1.01\n",
      "delta_sigma        8.1e-3  5.0e-4  7.3e-3  4.7e-4 2.8e-3  6.2e-3   0.01   0.03    210   1.02\n",
      "delta_max[1]         0.02  5.9e-4    0.01  3.3e-3   0.01    0.02   0.03   0.05    498   1.01\n",
      "delta_max[2]         0.02  6.2e-4    0.01  3.4e-3   0.01    0.02   0.03   0.05    481    1.0\n",
      "delta_max[3]         0.02  6.4e-4    0.01  2.5e-3   0.01    0.02   0.03   0.05    456   1.01\n",
      "delta_max[4]         0.02  5.7e-4    0.01  3.3e-3   0.01    0.02   0.03   0.05    578    1.0\n",
      "delta_max[5]         0.02  6.7e-4    0.01  3.5e-3   0.01    0.02   0.03   0.06    460   1.01\n",
      "delta_max[6]         0.02  6.5e-4    0.01  3.4e-3   0.01    0.02   0.03   0.06    479   1.01\n",
      "delta_max[7]         0.02  7.4e-4    0.01  3.5e-3   0.01    0.02   0.03   0.06    400   1.01\n",
      "delta_max[8]         0.02  7.3e-4    0.02  3.1e-3   0.01    0.02   0.03   0.06    438   1.01\n",
      "delta_max[9]         0.02  7.3e-4    0.02  3.8e-3   0.01    0.02   0.03   0.06    435   1.01\n",
      "delta_max[10]        0.02  7.3e-4    0.02  3.2e-3   0.01    0.02   0.03   0.06    449   1.01\n",
      "delta_max[11]        0.02  7.5e-4    0.02  3.3e-3   0.01    0.02   0.03   0.07    447   1.01\n",
      "delta_max[12]        0.02  6.7e-4    0.01  3.6e-3   0.01    0.02   0.03   0.06    506   1.01\n",
      "delta_max[13]        0.02  7.0e-4    0.02  4.0e-3   0.01    0.02   0.03   0.06    489   1.01\n",
      "delta_max[14]        0.02  7.7e-4    0.02  3.5e-3   0.01    0.02   0.03   0.06    415   1.01\n",
      "delta_max[15]        0.02  7.3e-4    0.02  3.6e-3   0.01    0.02   0.03   0.06    456   1.01\n",
      "gamma_max           33.52    0.62   16.29    5.81  21.02   33.21  45.62  64.48    697    1.0\n",
      "xi                  -0.43  1.8e-3    0.07   -0.57  -0.48   -0.43  -0.38  -0.31   1410    1.0\n",
      "respiration          1.84  4.2e-3    0.13    1.61   1.75    1.84   1.92    2.1    903    1.0\n",
      "xir                  0.51  1.9e-3    0.06    0.39   0.46     0.5   0.55   0.63   1072    1.0\n",
      "E_star             1497.7   29.75  787.06  139.96 898.84  1492.6 2074.1 2986.3    700    1.0\n",
      "sigma                 0.1  1.6e-4  6.5e-3    0.09    0.1     0.1   0.11   0.12   1702    1.0\n",
      "lp__               -155.7    1.33   12.95  -174.4 -164.8  -158.5 -149.1 -123.0     95   1.02\n",
      "\n",
      "Samples were drawn using NUTS at Thu Feb 27 08:19:03 2020.\n",
      "For each parameter, n_eff is a crude measure of effective sample size,\n",
      "and Rhat is the potential scale reduction factor on split chains (at \n",
      "convergence, Rhat=1).\n"
     ]
    },
    {
     "name": "stderr",
     "output_type": "stream",
     "text": [
      "WARNING:pystan:n_eff / iter below 0.001 indicates that the effective sample size has likely been overestimated\n",
      "WARNING:pystan:Rhat above 1.1 or below 0.9 indicates that the chains very likely have not mixed\n",
      "WARNING:pystan:352 of 4000 iterations ended with a divergence (8.8 %).\n",
      "WARNING:pystan:Try running with adapt_delta larger than 0.8 to remove the divergences.\n",
      "WARNING:pystan:Chain 2: E-BFMI = 0.121\n",
      "WARNING:pystan:E-BFMI below 0.2 indicates you may need to reparameterize your model\n"
     ]
    },
    {
     "name": "stdout",
     "output_type": "stream",
     "text": [
      "Inference for Stan model: gammai.\n",
      "4 chains, each with iter=2000; warmup=1000; thin=1; \n",
      "post-warmup draws per chain=1000, total post-warmup draws=4000.\n",
      "\n",
      "                    mean se_mean      sd    2.5%    25%     50%     75%   97.5%  n_eff   Rhat\n",
      "delta_mu            1.64    0.66    1.04    0.03   0.61    1.89    2.37    3.35      3   2.15\n",
      "delta_sigma         1.71     0.7    1.11  2.3e-3   0.92    1.94    2.46    3.52      3   2.16\n",
      "delta_max[1]        0.09    0.02    0.08  4.9e-3   0.03    0.07    0.13     0.3     18   1.07\n",
      "delta_max[2]         0.1    0.02    0.09  4.0e-3   0.03    0.07    0.14    0.32     17   1.08\n",
      "delta_max[3]        0.11    0.03     0.1  5.0e-3   0.03    0.08    0.16     0.4     17   1.08\n",
      "delta_max[4]        0.15    0.04    0.14  5.2e-3   0.04    0.09    0.21     0.5     13   1.11\n",
      "delta_max[5]        0.24    0.08    0.21  8.7e-3   0.06    0.18    0.37    0.74      7   1.17\n",
      "delta_max[6]        0.34    0.12    0.28    0.02   0.08    0.28    0.53    0.98      6   1.24\n",
      "delta_max[7]        0.48    0.18    0.37    0.03   0.11    0.47    0.73     1.3      4   1.35\n",
      "delta_max[8]        0.63    0.24    0.47    0.03   0.17    0.63    0.94    1.64      4   1.42\n",
      "delta_max[9]        0.92    0.36    0.67    0.03   0.23    0.96    1.34    2.33      3   1.51\n",
      "delta_max[10]       1.26    0.51    0.93    0.03   0.38    1.29    1.85     3.2      3   1.54\n",
      "delta_max[11]       2.04    0.83    1.45    0.03   0.57    2.13    3.02    4.91      3   1.67\n",
      "delta_max[12]        2.8    1.15     2.0    0.03   0.73    2.97    4.13    6.79      3   1.68\n",
      "delta_max[13]       3.46    1.43     2.4    0.03   0.84    3.77    5.11    7.89      3   1.81\n",
      "delta_max[14]        3.9    1.61    2.77    0.03   0.94    4.21    5.78    9.14      3   1.73\n",
      "delta_max[15]       4.79    1.97    3.23    0.03   1.89    5.33     7.0   10.58      3   1.95\n",
      "gamma_max           5.92    1.48    5.49    0.88   1.29    3.44    9.83   18.55     14   1.12\n",
      "xi                 -0.07    0.01    0.08   -0.23  -0.12   -0.06   -0.02    0.08     59   1.04\n",
      "E_star            1222.1   68.59  947.59    2.31 254.86  1267.1  1886.7  3167.5    191   1.02\n",
      "sigma               0.18  6.2e-3    0.01    0.16   0.17    0.17    0.19     0.2      3   1.54\n",
      "lp__              -264.1    1.38    7.75  -284.1 -267.2  -263.4  -260.3  -249.4     31   1.01\n",
      "\n",
      "Samples were drawn using NUTS at Thu Feb 27 08:41:25 2020.\n",
      "For each parameter, n_eff is a crude measure of effective sample size,\n",
      "and Rhat is the potential scale reduction factor on split chains (at \n",
      "convergence, Rhat=1).\n"
     ]
    }
   ],
   "source": [
    "mcmcs = {}\n",
    "for name in models:\n",
    "    mcmcs[name] = models[name].sampling(data=data, iter=2000)\n",
    "    print('\\n'.join(x for x in mcmcs[name].__str__().split('\\n') if 'mod_obspos' not in x))"
   ]
  },
  {
   "cell_type": "markdown",
   "metadata": {},
   "source": [
    "## Plot the results"
   ]
  },
  {
   "cell_type": "code",
   "execution_count": null,
   "metadata": {
    "scrolled": false
   },
   "outputs": [],
   "source": [
    "for name,mcmc in mcmcs.items():\n",
    "    paramnames = [v for v in mcmc.flatnames if not v.startswith('mod_obspos') and not v.startswith('delta_max')]\n",
    "    num_params = len(paramnames)\n",
    "\n",
    "    fig,axs = plt.subplots(num_params-1,num_params-1,sharex='col',sharey='row',figsize=(12,12), squeeze=False)\n",
    "    fig.suptitle(desc[name], size=20)\n",
    "    for ax in axs.flat:\n",
    "        ax.set_visible(False)\n",
    "    for irow in range(1,num_params):\n",
    "        for icol in range(irow):\n",
    "            ax = axs[irow-1,icol]\n",
    "            ax.set_visible(True)\n",
    "            xname = paramnames[icol]\n",
    "            yname = paramnames[irow]\n",
    "            ax.hist2d(mcmc[xname],mcmc[yname],bins=50,cmap=mpl.cm.gray_r)\n",
    "            if icol == 0:\n",
    "                ax.set_ylabel(yname)\n",
    "            if irow == num_params-1:\n",
    "                ax.set_xlabel(xname)"
   ]
  },
  {
   "cell_type": "code",
   "execution_count": null,
   "metadata": {},
   "outputs": [],
   "source": [
    "for name,mcmc in mcmcs.items():\n",
    "    j = data_seaflow['delta_v_inv'] + 1\n",
    "    m = data_seaflow['m']\n",
    "    \n",
    "    fig, ax = plt.subplots()\n",
    "    fig.suptitle(desc[name], size=16)\n",
    "    ax.boxplot(mcmc['delta_max'])\n",
    "    xlabels = [str(x) for x in range(j,m+1)]\n",
    "    xlabels[0] = 'j='+xlabels[0]\n",
    "    xlabels[-1] = 'm='+xlabels[-1]\n",
    "    ax.set_xticklabels(xlabels)\n",
    "    None"
   ]
  },
  {
   "cell_type": "code",
   "execution_count": null,
   "metadata": {
    "scrolled": false
   },
   "outputs": [],
   "source": [
    "colors = {'model':'darkred', 'obs':'0.1'}\n",
    "\n",
    "t = data['dt']*np.arange(data['nt'])\n",
    "slice_indices = [1,6]\n",
    "v_ext = data['v_min'] * 2**(np.arange(data['m']+1)*delta_v) \n",
    "v_width = v_ext[1:] - v_ext[:-1]\n",
    "\n",
    "norm = mpl.colors.Normalize(0.0,0.2)\n",
    "norm_diff = mpl.colors.Normalize(-0.1,0.1)\n",
    "\n",
    "for name,mcmc in mcmcs.items():\n",
    "    res = {'model':np.mean(mcmc['mod_obspos'], axis=0), 'obs':data['obs']}\n",
    "    res_sum1 = res['model']/np.sum(res['model'], axis=0)[None,:]\n",
    "    diff = res_sum1-res['obs']\n",
    "\n",
    "    fig,axs = plt.subplots(7,1,sharex=True,figsize=(12,16))\n",
    "    fig.suptitle(desc[name], size=20, y=0.9)\n",
    "    \n",
    "    ax = axs[0]\n",
    "    ax.plot(t, data['E'], color='gold')\n",
    "    ax.set(xlim=(data['t_obs'][0],t[-1]), ylabel='E ($\\mu$mol photons/m$^{2}$/s)')\n",
    "\n",
    "    ax = axs[1]\n",
    "    pc = ax.pcolormesh(data['t_obs'],v,res['obs'],norm=norm)\n",
    "    ax.set(ylabel='size ($\\mu$m$^3$)')\n",
    "    add_colorbar(ax, norm=pc.norm, cmap=pc.cmap, label='size class proportion')\n",
    "\n",
    "    ax = axs[2]\n",
    "    ax.set(ylabel='size ($\\mu$m$^3$)')\n",
    "    pc = ax.pcolormesh(data['t_obs'],v,res_sum1,norm=norm)\n",
    "\n",
    "    ax = axs[3]\n",
    "    pc = ax.pcolormesh(data['t_obs'],v,diff,norm=norm_diff, cmap='PiYG')\n",
    "    ax.set(ylabel='size ($\\mu$m$^3$)')\n",
    "    add_colorbar(ax, norm=pc.norm, cmap=pc.cmap, label='difference in size class proportion')\n",
    "\n",
    "    ax = axs[4]\n",
    "    ax.set(ylabel='size ($\\mu$m$^3$)')\n",
    "    pc = ax.pcolormesh(data['t_obs'],v,res['model'])\n",
    "\n",
    "    ax = axs[5]\n",
    "    ax.plot(data['t_obs'], np.sum(res['model'],axis=0))\n",
    "    ax.plot(data['t_obs'], np.sum(mcmc['mod_obspos'][:30,...], axis=1).T, color='k', alpha=0.3)\n",
    "    ax.set(ylabel='sum across size classes')\n",
    "\n",
    "    ax = axs[6]\n",
    "    prop = np.mean(np.abs(diff),axis=0)\n",
    "    ax.plot(data['t_obs'], prop, label='mean(abs(diff)), avg: {:.6f}'.format(np.mean(prop)))\n",
    "    prop = np.sum(diff**2,axis=0)\n",
    "    ax.plot(data['t_obs'], prop, label='sum(diff$^2$), avg: {:.6f}'.format(np.mean(prop)))\n",
    "    ax.set(xlabel='time (days)', ylabel='model-observation misfit')\n",
    "    ax.legend()\n",
    "\n",
    "    for ax in axs.flat:\n",
    "        for i in slice_indices:\n",
    "            ax.axvline(data['t_obs'][i], color='.3')\n",
    "\n",
    "    # plot slices\n",
    "\n",
    "    plotdata_y = np.zeros(2*(data['m']+1))\n",
    "\n",
    "    fig,axs = plt.subplots(nrows=len(slice_indices), sharex=True, figsize=(12,len(slice_indices)*3))\n",
    "    for i,ax in zip(slice_indices,axs.flat):\n",
    "        for name in ('obs','model'):\n",
    "            color = colors[name]\n",
    "            cdata = res[name][:,i]\n",
    "            plotdata_y[1:-1] = np.repeat(cdata/v_width,2)\n",
    "            ax.plot(np.repeat(v_ext,2), plotdata_y, color=color, alpha=0.5, label='{} pdf'.format(name))\n",
    "            ax.text(0.01, 0.95, 'minute {}'.format(data['t_obs'][i]), transform=ax.transAxes, va='top', ha='left')\n",
    "            ax.set_ylabel('density')\n",
    "            ax.set_ylim(bottom=0.0)\n",
    "    axs[0].legend()\n",
    "    None"
   ]
  },
  {
   "cell_type": "code",
   "execution_count": null,
   "metadata": {
    "scrolled": false
   },
   "outputs": [],
   "source": [
    "dt_obs = data['t_obs'][1]-data['t_obs'][0]\n",
    "\n",
    "ndt = {'day':9, 'dt_obs':1}\n",
    "\n",
    "for name,mcmc in mcmcs.items():\n",
    "    sum_pop = np.sum(mcmc['mod_obspos'], axis=1)\n",
    "\n",
    "    fig,axs = plt.subplots(nrows=2,sharex=True,figsize=(12,12))\n",
    "    fig.suptitle(desc[name], size=20)\n",
    "    for ax,key in zip(axs,ndt):\n",
    "        t = data['t_obs'][::ndt[key]]\n",
    "        tmp = sum_pop[:,::ndt[key]]\n",
    "        tmp = tmp[:,1:] / tmp[:,:-1]\n",
    "        k = np.log(tmp)/((t[1:]-t[:-1])/1440.0)\n",
    "\n",
    "        q = np.percentile(k, q=(5,25,50,75,95), axis=0)\n",
    "\n",
    "        t_mid = 0.5*(t[1:]+t[:-1])\n",
    "\n",
    "        ax.fill_between(t_mid, q[0,:], q[-1,:], color='C0', alpha=0.25)\n",
    "        ax.fill_between(t_mid, q[1,:], q[-2,:], color='C0', alpha=0.5)\n",
    "        ax.plot(t_mid, q[2,:], color='C0', lw=2)\n",
    "    axs[0].set_title('~daily posterior estimates of k ($w(t_1) = w(t_0)\\exp(k (t_1-t_0))$)')\n",
    "    axs[1].set_title('observation time posterior estimates of k (in units per day)')\n",
    "    None"
   ]
  },
  {
   "cell_type": "code",
   "execution_count": null,
   "metadata": {},
   "outputs": [],
   "source": []
  }
 ],
 "metadata": {
  "kernelspec": {
   "display_name": "Python 3",
   "language": "python",
   "name": "python3"
  },
  "language_info": {
   "codemirror_mode": {
    "name": "ipython",
    "version": 3
   },
   "file_extension": ".py",
   "mimetype": "text/x-python",
   "name": "python",
   "nbconvert_exporter": "python",
   "pygments_lexer": "ipython3",
   "version": "3.6.9"
  }
 },
 "nbformat": 4,
 "nbformat_minor": 2
}
