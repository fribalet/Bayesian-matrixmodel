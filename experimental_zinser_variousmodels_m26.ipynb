{
  "cells": [
    {
      "cell_type": "markdown",
      "source": [
        "# SeaFlow data (regridded)"
      ],
      "metadata": {}
    },
    {
      "cell_type": "code",
      "source": [
        "#%matplotlib notebook\n",
        "import netCDF4 as nc4\n",
        "import numpy as np\n",
        "\n",
        "# load data\n",
        "# datafile = 'data/Zinser_SizeDist_regrid-35-12.nc'\n",
        "datafile = 'data/Zinser_SizeDist_calibrated-26-3.nc'\n",
        "\n",
        "data_seaflow = {}\n",
        "with nc4.Dataset(datafile) as nc:\n",
        "    for var in nc.variables:\n",
        "        data_seaflow[var] = nc.variables[var][:]"
      ],
      "outputs": [],
      "execution_count": 1,
      "metadata": {
        "execution": {
          "iopub.status.busy": "2020-03-07T03:25:08.062Z",
          "iopub.execute_input": "2020-03-07T03:25:08.070Z",
          "shell.execute_reply": "2020-03-07T03:25:08.250Z",
          "iopub.status.idle": "2020-03-07T03:25:08.203Z"
        }
      }
    },
    {
      "cell_type": "code",
      "source": [
        "v_min = data_seaflow['v_min']\n",
        "delta_v = 1.0/data_seaflow['delta_v_inv']\n",
        "v = v_min * 2**(np.arange(data_seaflow['m'])*delta_v) "
      ],
      "outputs": [],
      "execution_count": 2,
      "metadata": {
        "execution": {
          "iopub.status.busy": "2020-03-07T03:25:08.212Z",
          "iopub.execute_input": "2020-03-07T03:25:08.217Z",
          "iopub.status.idle": "2020-03-07T03:25:08.225Z",
          "shell.execute_reply": "2020-03-07T03:25:08.255Z"
        }
      }
    },
    {
      "cell_type": "code",
      "source": [
        "import matplotlib.pyplot as plt\n",
        "import matplotlib as mpl\n",
        "from mpl_toolkits.axes_grid1.inset_locator import inset_axes\n",
        "\n",
        "def add_colorbar(ax, **cbarargs):\n",
        "    axins_cbar = inset_axes(ax, width='3%', height='90%', loc=5, bbox_to_anchor=(0.05,0.0,1,1), bbox_transform=ax.transAxes)\n",
        "    mpl.colorbar.ColorbarBase(axins_cbar, orientation='vertical', **cbarargs)\n",
        "\n",
        "fig,axs = plt.subplots(nrows=2, sharex=True, figsize=(12,10))\n",
        "\n",
        "ax = axs[0]\n",
        "ax.plot(data_seaflow['time'], data_seaflow['PAR'], color='gold')\n",
        "ax.set(ylabel='PAR')\n",
        "\n",
        "ax = axs[1]\n",
        "pc = ax.pcolormesh(data_seaflow['time'],v,data_seaflow['w_obs'])\n",
        "ax.set(ylabel='size ($\\mu$m$^3$)', xlabel='time (minutes)')\n",
        "add_colorbar(ax, norm=pc.norm, cmap=pc.cmap, label='size class proportion')\n",
        "None"
      ],
      "outputs": [],
      "execution_count": 3,
      "metadata": {
        "execution": {
          "iopub.status.busy": "2020-03-07T03:25:08.236Z",
          "iopub.execute_input": "2020-03-07T03:25:08.243Z",
          "shell.execute_reply": "2020-03-07T03:25:08.857Z",
          "iopub.status.idle": "2020-03-07T03:25:08.788Z"
        }
      }
    },
    {
      "cell_type": "markdown",
      "source": [
        "# The model\n",
        "\n",
        "modified from *Sosik et al. (2003), Growth rates of coastal phytoplankton from time-series measurements with a submersible flow cytometer, Limnol. Oceanogr.*"
      ],
      "metadata": {}
    },
    {
      "cell_type": "code",
      "source": [
        "# prepare data for Stan model\n",
        "\n",
        "dt = 20 # in units of minutes\n",
        "\n",
        "data = {'dt':dt}\n",
        "for k in ('m','v_min','delta_v_inv'):\n",
        "    data[k] = data_seaflow[k]\n",
        "\n",
        "data['obs'] = data_seaflow['w_obs']\n",
        "data['t_obs'] = data_seaflow['time']\n",
        "data['E'] = data_seaflow['PAR']\n",
        "# use first measurements as initial conditions\n",
        "data['w_ini'] = data_seaflow['w_obs'][:,0]\n",
        "\n",
        "# limit the data\n",
        "\n",
        "limit_days = 2\n",
        "stride_t_obs = 1 # keep everything\n",
        "\n",
        "if limit_days > 0:\n",
        "    limit_minutes = limit_days*1440\n",
        "    \n",
        "    ind_obs = data['t_obs'] < limit_minutes\n",
        "    data['t_obs'] = data['t_obs'][ind_obs]\n",
        "    data['obs'] = data['obs'][:,ind_obs]\n",
        "\n",
        "    data['nt'] = int(limit_minutes//data['dt'])\n",
        "    \n",
        "if stride_t_obs > 0:\n",
        "    data['t_obs'] = data['t_obs'][::stride_t_obs]\n",
        "    data['obs'] = data['obs'][:,::stride_t_obs]\n",
        "\n",
        "data['nt_obs'] = data['obs'].shape[1]\n",
        "    \n",
        "# finally, add light data\n",
        "t = np.arange(data['nt'])*data['dt']\n",
        "data['E'] = np.interp(t, xp=data_seaflow['time'], fp=data_seaflow['PAR'])\n",
        "\n",
        "print(data['t_obs'])"
      ],
      "outputs": [
        {
          "output_type": "stream",
          "name": "stdout",
          "text": [
            "[   0  120  240  360  480  600  720  840  960 1080 1200 1320 1440 1560\n",
            " 1680 1800 1920 2040 2160 2280 2400 2520 2640 2760]\n"
          ]
        }
      ],
      "execution_count": 4,
      "metadata": {
        "execution": {
          "iopub.status.busy": "2020-03-07T03:25:08.801Z",
          "iopub.execute_input": "2020-03-07T03:25:08.807Z",
          "iopub.status.idle": "2020-03-07T03:25:08.819Z",
          "shell.execute_reply": "2020-03-07T03:25:08.862Z"
        }
      }
    },
    {
      "cell_type": "markdown",
      "source": [
        "### load various models and modify prior for some of them"
      ],
      "metadata": {}
    },
    {
      "cell_type": "code",
      "source": [
        "import re\n",
        "\n",
        "stan_files = {\n",
        "    'freedelta':'stancode/matrixmodel_freedelta_normparam_trackgrowth.stan',\n",
        "    'resp':'stancode/matrixmodel_freedelta_resp_normparam_trackgrowth.stan',\n",
        "    'resp_gammai':'stancode/matrixmodel_freedelta_resp_gammai_normparam_trackgrowth.stan'  \n",
        "}\n",
        "desc = {\n",
        "    'freedelta':'basic model with \"free\" deltas',\n",
        "    'resp':'model with respiration and \"free\" deltas',\n",
        "    'resp_gammai':'model with respiration, size-dep. growth and \"free\" deltas',\n",
        "}\n",
        "\n",
        "stan_codes = {}\n",
        "for name in stan_files:\n",
        "    with open(stan_files[name]) as f:\n",
        "        stan_codes[name] = f.read()"
      ],
      "outputs": [],
      "execution_count": 5,
      "metadata": {
        "execution": {
          "iopub.status.busy": "2020-03-07T03:25:08.825Z",
          "iopub.execute_input": "2020-03-07T03:25:08.829Z",
          "iopub.status.idle": "2020-03-07T03:25:08.836Z",
          "shell.execute_reply": "2020-03-07T03:25:08.866Z"
        }
      }
    },
    {
      "cell_type": "code",
      "source": [
        "import pystan\n",
        "\n",
        "models = {name:pystan.StanModel(model_code=stan_codes[name], model_name=name, obfuscate_model_name=False) for name in stan_codes}"
      ],
      "outputs": [
        {
          "output_type": "stream",
          "name": "stderr",
          "text": [
            "INFO:pystan:COMPILING THE C++ CODE FOR MODEL freedelta NOW.\n",
            "INFO:pystan:COMPILING THE C++ CODE FOR MODEL resp NOW.\n",
            "INFO:pystan:COMPILING THE C++ CODE FOR MODEL resp_gammai NOW.\n"
          ]
        }
      ],
      "execution_count": 6,
      "metadata": {
        "execution": {
          "iopub.status.busy": "2020-03-07T03:25:08.843Z",
          "iopub.execute_input": "2020-03-07T03:25:08.847Z",
          "shell.execute_reply": "2020-03-07T03:27:46.030Z",
          "iopub.status.idle": "2020-03-07T03:27:45.978Z"
        }
      }
    },
    {
      "cell_type": "code",
      "source": [
        "mcmcs = {}\n",
        "for name in models:\n",
        "    mcmcs[name] = models[name].sampling(data=data, iter=2000)\n",
        "    print('\\n'.join(x for x in mcmcs[name].__str__().split('\\n') if 'mod_obspos' not in x))"
      ],
      "outputs": [
        {
          "output_type": "stream",
          "name": "stderr",
          "text": [
            "WARNING:pystan:n_eff / iter below 0.001 indicates that the effective sample size has likely been overestimated\n",
            "WARNING:pystan:Rhat above 1.1 or below 0.9 indicates that the chains very likely have not mixed\n",
            "WARNING:pystan:2504 of 4000 iterations ended with a divergence (62.6 %).\n",
            "WARNING:pystan:Try running with adapt_delta larger than 0.8 to remove the divergences.\n"
          ]
        },
        {
          "output_type": "stream",
          "name": "stdout",
          "text": [
            "Inference for Stan model: freedelta.\n",
            "4 chains, each with iter=2000; warmup=1000; thin=1; \n",
            "post-warmup draws per chain=1000, total post-warmup draws=4000.\n",
            "\n",
            "                    mean se_mean      sd   2.5%    25%    50%    75%  97.5%  n_eff   Rhat\n",
            "delta_mu            3.58    0.02    0.69   2.22   3.13   3.57   4.05   4.92   1185    1.0\n",
            "delta_sigma         4.58    0.03    0.91   3.11   3.91   4.49    5.1   6.79    780    1.0\n",
            "delta_max[1]        4.05    0.08    2.85   0.23    1.8   3.62   5.69  10.97   1139    1.0\n",
            "delta_max[2]        3.77    0.07    2.77   0.17   1.56   3.24   5.43  10.51   1465    1.0\n",
            "delta_max[3]        3.41    0.07    2.62   0.12   1.38   2.89   4.83   9.92   1460    1.0\n",
            "delta_max[4]        2.81    0.06    2.36   0.09   0.97   2.23   4.03   9.03   1509    1.0\n",
            "delta_max[5]        2.38    0.06    2.15   0.06   0.73   1.76   3.45   7.91   1238    1.0\n",
            "delta_max[6]        2.03    0.06    1.91   0.03   0.61   1.46   2.94   7.04   1030    1.0\n",
            "delta_max[7]        1.59    0.05    1.51   0.05   0.47   1.15   2.24   5.62    944    1.0\n",
            "delta_max[8]        0.91    0.03    0.95   0.02   0.26   0.62   1.25   3.32   1320    1.0\n",
            "delta_max[9]        0.68    0.02    0.59   0.02   0.24   0.53   0.98   2.11    919    1.0\n",
            "delta_max[10]       0.62    0.01    0.47   0.02   0.23   0.54    0.9   1.66    996   1.01\n",
            "delta_max[11]        0.8    0.01     0.4   0.05   0.51   0.81   1.07   1.59    783    1.0\n",
            "delta_max[12]       0.98    0.01    0.34   0.25   0.78   1.01    1.2    1.6    594    1.0\n",
            "delta_max[13]       1.09  9.1e-3    0.24   0.58   0.94    1.1   1.24   1.54    696   1.01\n",
            "delta_max[14]       1.31  7.1e-3    0.22    0.9   1.15    1.3   1.44   1.77    925   1.01\n",
            "delta_max[15]       1.48  5.3e-3    0.18   1.14   1.36   1.47   1.59   1.85   1137    1.0\n",
            "delta_max[16]       1.93  5.7e-3    0.19   1.58    1.8   1.91   2.04   2.36   1159    1.0\n",
            "delta_max[17]       2.67    0.01    0.36   2.03   2.41   2.65   2.89   3.43    895    1.0\n",
            "delta_max[18]       3.84    0.01    0.45   3.03   3.53   3.83   4.13   4.78   1154    1.0\n",
            "delta_max[19]        5.8    0.03    0.86   4.43   5.22   5.69   6.23   7.91    770    1.0\n",
            "delta_max[20]       7.39    0.05    1.41    5.1    6.4    7.2   8.15  10.76    871    1.0\n",
            "delta_max[21]      16.33    0.12     3.7   9.93  13.83  16.15   18.5  24.41    923   1.01\n",
            "delta_max[22]      14.19    0.14    4.23   7.13  11.15  13.72  16.98  23.61    947    1.0\n",
            "delta_max[23]      13.17    0.11    3.32   7.48  10.89  12.88  15.16  20.78    953    1.0\n",
            "gamma_max          47.64    0.79   15.41  16.47  36.13  48.98  60.47  71.19    379   1.01\n",
            "E_star            1351.0   23.28  478.61 381.07 999.57 1393.5 1745.1 2111.8    423   1.01\n",
            "sigma                0.1  2.0e-4  6.8e-3   0.09    0.1    0.1   0.11   0.12   1142    1.0\n",
            "lp__              -164.6    0.16    4.19 -173.6 -167.2 -164.2 -161.6 -157.5    659    1.0\n",
            "\n",
            "Samples were drawn using NUTS at Fri Mar  6 19:36:02 2020.\n",
            "For each parameter, n_eff is a crude measure of effective sample size,\n",
            "and Rhat is the potential scale reduction factor on split chains (at \n",
            "convergence, Rhat=1).\n"
          ]
        }
      ],
      "execution_count": 7,
      "metadata": {
        "execution": {
          "iopub.status.busy": "2020-03-07T03:27:45.997Z",
          "iopub.execute_input": "2020-03-07T03:27:46.009Z",
          "iopub.status.idle": "2020-03-07T02:54:40.689Z",
          "shell.execute_reply": "2020-03-07T02:54:40.695Z"
        }
      }
    },
    {
      "cell_type": "markdown",
      "source": [
        "## Plot the results"
      ],
      "metadata": {}
    },
    {
      "cell_type": "code",
      "source": [
        "for name,mcmc in mcmcs.items():\n",
        "    paramnames = [v for v in mcmc.flatnames if not v.startswith('mod_obspos') and not v.startswith('delta_max')]\n",
        "    num_params = len(paramnames)\n",
        "\n",
        "    fig,axs = plt.subplots(num_params-1,num_params-1,sharex='col',sharey='row',figsize=(12,12), squeeze=False)\n",
        "    fig.suptitle(desc[name], size=20)\n",
        "    for ax in axs.flat:\n",
        "        ax.set_visible(False)\n",
        "    for irow in range(1,num_params):\n",
        "        for icol in range(irow):\n",
        "            ax = axs[irow-1,icol]\n",
        "            ax.set_visible(True)\n",
        "            xname = paramnames[icol]\n",
        "            yname = paramnames[irow]\n",
        "            ax.hist2d(mcmc[xname],mcmc[yname],bins=50,cmap=mpl.cm.gray_r)\n",
        "            if icol == 0:\n",
        "                ax.set_ylabel(yname)\n",
        "            if irow == num_params-1:\n",
        "                ax.set_xlabel(xname)"
      ],
      "outputs": [],
      "execution_count": null,
      "metadata": {
        "scrolled": false,
        "execution": {
          "iopub.status.busy": "2020-03-07T02:49:03.056Z",
          "iopub.execute_input": "2020-03-07T02:49:03.061Z",
          "iopub.status.idle": "2020-03-07T02:49:03.071Z",
          "shell.execute_reply": "2020-03-07T02:49:03.166Z"
        }
      }
    },
    {
      "cell_type": "code",
      "source": [
        "for name,mcmc in mcmcs.items():\n",
        "    j = data_seaflow['delta_v_inv'] + 1\n",
        "    m = data_seaflow['m']\n",
        "    \n",
        "    fig, ax = plt.subplots()\n",
        "    fig.suptitle(desc[name], size=16)\n",
        "    ax.boxplot(mcmc['delta_max'])\n",
        "    xlabels = [str(x) for x in range(j,m+1)]\n",
        "    xlabels[0] = 'j='+xlabels[0]\n",
        "    xlabels[-1] = 'm='+xlabels[-1]\n",
        "    ax.set_xticklabels(xlabels)\n",
        "    None"
      ],
      "outputs": [],
      "execution_count": null,
      "metadata": {
        "scrolled": false,
        "execution": {
          "iopub.status.busy": "2020-03-07T02:49:03.078Z",
          "iopub.execute_input": "2020-03-07T02:49:03.083Z",
          "iopub.status.idle": "2020-03-07T02:49:03.090Z",
          "shell.execute_reply": "2020-03-07T02:49:03.170Z"
        }
      }
    },
    {
      "cell_type": "code",
      "source": [
        "colors = {'model':'darkred', 'obs':'0.1'}\n",
        "\n",
        "t = data['dt']*np.arange(data['nt'])\n",
        "slice_indices = [1,6]\n",
        "v_ext = data['v_min'] * 2**(np.arange(data['m']+1)*delta_v) \n",
        "v_width = v_ext[1:] - v_ext[:-1]\n",
        "\n",
        "norm = mpl.colors.Normalize(0.0,0.2)\n",
        "norm_diff = mpl.colors.Normalize(-0.1,0.1)\n",
        "\n",
        "for name,mcmc in mcmcs.items():\n",
        "    res = {'model':np.mean(mcmc['mod_obspos'], axis=0), 'obs':data['obs']}\n",
        "    res_sum1 = res['model']/np.sum(res['model'], axis=0)[None,:]\n",
        "    diff = res_sum1-res['obs']\n",
        "\n",
        "    fig,axs = plt.subplots(7,1,sharex=True,figsize=(12,16))\n",
        "    fig.suptitle(desc[name], size=20, y=0.9)\n",
        "    \n",
        "    ax = axs[0]\n",
        "    ax.plot(t, data['E'], color='gold')\n",
        "    ax.set(xlim=(data['t_obs'][0],t[-1]), ylabel='E ($\\mu$mol photons/m$^{2}$/s)')\n",
        "\n",
        "    ax = axs[1]\n",
        "    pc = ax.pcolormesh(data['t_obs'],v,res['obs'],norm=norm)\n",
        "    ax.set(ylabel='size ($\\mu$m$^3$)')\n",
        "    add_colorbar(ax, norm=pc.norm, cmap=pc.cmap, label='size class proportion')\n",
        "\n",
        "    ax = axs[2]\n",
        "    ax.set(ylabel='size ($\\mu$m$^3$)')\n",
        "    pc = ax.pcolormesh(data['t_obs'],v,res_sum1,norm=norm)\n",
        "\n",
        "    ax = axs[3]\n",
        "    pc = ax.pcolormesh(data['t_obs'],v,diff,norm=norm_diff, cmap='PiYG')\n",
        "    ax.set(ylabel='size ($\\mu$m$^3$)')\n",
        "    add_colorbar(ax, norm=pc.norm, cmap=pc.cmap, label='difference in size class proportion')\n",
        "\n",
        "    ax = axs[4]\n",
        "    ax.set(ylabel='size ($\\mu$m$^3$)')\n",
        "    pc = ax.pcolormesh(data['t_obs'],v,res['model'])\n",
        "\n",
        "    ax = axs[5]\n",
        "    ax.plot(data['t_obs'], np.sum(res['model'],axis=0))\n",
        "    ax.plot(data['t_obs'], np.sum(mcmc['mod_obspos'][:30,...], axis=1).T, color='k', alpha=0.3)\n",
        "    ax.set(ylabel='sum across size classes')\n",
        "\n",
        "    ax = axs[6]\n",
        "    prop = np.mean(np.abs(diff),axis=0)\n",
        "    ax.plot(data['t_obs'], prop, label='mean(abs(diff)), avg: {:.6f}'.format(np.mean(prop)))\n",
        "    prop = np.sum(diff**2,axis=0)\n",
        "    ax.plot(data['t_obs'], prop, label='sum(diff$^2$), avg: {:.6f}'.format(np.mean(prop)))\n",
        "    ax.set(xlabel='time (days)', ylabel='model-observation misfit')\n",
        "    ax.legend()\n",
        "\n",
        "    for ax in axs.flat:\n",
        "        for i in slice_indices:\n",
        "            ax.axvline(data['t_obs'][i], color='.3')\n",
        "\n",
        "    # plot slices\n",
        "\n",
        "    plotdata_y = np.zeros(2*(data['m']+1))\n",
        "\n",
        "    fig,axs = plt.subplots(nrows=len(slice_indices), sharex=True, figsize=(12,len(slice_indices)*3))\n",
        "    for i,ax in zip(slice_indices,axs.flat):\n",
        "        for name in ('obs','model'):\n",
        "            color = colors[name]\n",
        "            cdata = res[name][:,i]\n",
        "            plotdata_y[1:-1] = np.repeat(cdata/v_width,2)\n",
        "            ax.plot(np.repeat(v_ext,2), plotdata_y, color=color, alpha=0.5, label='{} pdf'.format(name))\n",
        "            ax.text(0.01, 0.95, 'minute {}'.format(data['t_obs'][i]), transform=ax.transAxes, va='top', ha='left')\n",
        "            ax.set_ylabel('density')\n",
        "            ax.set_ylim(bottom=0.0)\n",
        "    axs[0].legend()\n",
        "    None"
      ],
      "outputs": [],
      "execution_count": null,
      "metadata": {
        "scrolled": false,
        "execution": {
          "iopub.status.busy": "2020-03-07T02:49:03.100Z",
          "iopub.execute_input": "2020-03-07T02:49:03.104Z",
          "iopub.status.idle": "2020-03-07T02:49:03.112Z",
          "shell.execute_reply": "2020-03-07T02:49:03.173Z"
        }
      }
    },
    {
      "cell_type": "code",
      "source": [
        "dt_obs = data['t_obs'][1]-data['t_obs'][0]\n",
        "\n",
        "ndt = {'day':9, 'dt_obs':1}\n",
        "\n",
        "for name,mcmc in mcmcs.items():\n",
        "    sum_pop = np.sum(mcmc['mod_obspos'], axis=1)\n",
        "\n",
        "    fig,axs = plt.subplots(nrows=2,sharex=True,figsize=(12,12))\n",
        "    fig.suptitle(desc[name], size=20)\n",
        "    for ax,key in zip(axs,ndt):\n",
        "        t = data['t_obs'][::ndt[key]]\n",
        "        tmp = sum_pop[:,::ndt[key]]\n",
        "        tmp = tmp[:,1:] / tmp[:,:-1]\n",
        "        k = np.log(tmp)/((t[1:]-t[:-1])/1440.0)\n",
        "\n",
        "        q = np.percentile(k, q=(5,25,50,75,95), axis=0)\n",
        "\n",
        "        t_mid = 0.5*(t[1:]+t[:-1])\n",
        "\n",
        "        ax.fill_between(t_mid, q[0,:], q[-1,:], color='C0', alpha=0.25)\n",
        "        ax.fill_between(t_mid, q[1,:], q[-2,:], color='C0', alpha=0.5)\n",
        "        ax.plot(t_mid, q[2,:], color='C0', lw=2)\n",
        "    axs[0].set_title('~daily posterior estimates of k ($w(t_1) = w(t_0)\\exp(k (t_1-t_0))$)')\n",
        "    axs[1].set_title('observation time posterior estimates of k (in units per day)')\n",
        "    None"
      ],
      "outputs": [],
      "execution_count": null,
      "metadata": {
        "scrolled": false,
        "execution": {
          "iopub.status.busy": "2020-03-07T02:49:03.119Z",
          "iopub.execute_input": "2020-03-07T02:49:03.125Z",
          "iopub.status.idle": "2020-03-07T02:49:03.131Z",
          "shell.execute_reply": "2020-03-07T02:49:03.176Z"
        }
      }
    },
    {
      "cell_type": "code",
      "source": [],
      "outputs": [],
      "execution_count": null,
      "metadata": {}
    }
  ],
  "metadata": {
    "kernelspec": {
      "display_name": "Python 3",
      "language": "python",
      "name": "python3"
    },
    "language_info": {
      "name": "python",
      "version": "3.7.4",
      "mimetype": "text/x-python",
      "codemirror_mode": {
        "name": "ipython",
        "version": 3
      },
      "pygments_lexer": "ipython3",
      "nbconvert_exporter": "python",
      "file_extension": ".py"
    },
    "nteract": {
      "version": "0.22.0"
    }
  },
  "nbformat": 4,
  "nbformat_minor": 2
}