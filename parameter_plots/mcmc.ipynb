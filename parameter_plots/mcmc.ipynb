{
 "cells": [
  {
   "cell_type": "markdown",
   "metadata": {},
   "source": [
    "## Fit several models to seaflow + Zinser, save parameter samples as .csv for analysis"
   ]
  },
  {
   "cell_type": "markdown",
   "metadata": {},
   "source": [
    "### load data from files and plot"
   ]
  },
  {
   "cell_type": "code",
   "execution_count": 12,
   "metadata": {},
   "outputs": [],
   "source": [
    "#%matplotlib notebook\n",
    "import netCDF4 as nc4\n",
    "import numpy as np\n",
    "\n",
    "# load data\n",
    "datafiles = {\n",
    "    'seaflow':'../data/SeaFlow_SizeDist_regrid-25-8.nc',\n",
    "    'zinser':'../data/Zinser_SizeDist_calibrated-26-6.nc',\n",
    "}\n",
    "itestfiles = {\n",
    "    'seaflow':'../data/Zinser_SizeDist_calibrated-26-6-itest.csv', # same as zinser\n",
    "    'zinser':'../data/Zinser_SizeDist_calibrated-26-6-itest.csv',         \n",
    "}\n",
    "desc = {\n",
    "    'seaflow':'SeaFlow dataset',\n",
    "    'zinser':'Zinser dataset',    \n",
    "}\n",
    "data_gridded = {}\n",
    "for k in datafiles:\n",
    "    data_gridded[k] = {}\n",
    "    with nc4.Dataset(datafiles[k]) as nc:\n",
    "        for var in nc.variables:\n",
    "            data_gridded[k][var] = nc.variables[var][:]\n",
    "    desc[k] += ' (m={data[m]}, $\\Delta_v^{{-1}}$={data[delta_v_inv]})'.format(data=data_gridded[k])\n",
    "\n",
    "data_gridded[k]['PAR'] *= 200.0/22.0 # make light similar for this experiment (it is later normalized by E_star) "
   ]
  },
  {
   "cell_type": "code",
   "execution_count": 13,
   "metadata": {},
   "outputs": [
    {
     "name": "stderr",
     "output_type": "stream",
     "text": [
      "C:\\Users\\PhytoGreg\\Anaconda3\\lib\\site-packages\\numpy\\core\\fromnumeric.py:734: UserWarning: Warning: 'partition' will ignore the 'mask' of the MaskedArray.\n",
      "  a.partition(kth, axis=axis, kind=kind, order=order)\n"
     ]
    }
   ],
   "source": [
    "data = {}\n",
    "\n",
    "for k in data_gridded:\n",
    "    dt = 20 # in units of minutes    \n",
    "    data[k] = {'dt':dt}\n",
    "    for v in ('m','v_min','delta_v_inv'):\n",
    "        data[k][v] = data_gridded[k][v]\n",
    "    if 'seaflow' in k:\n",
    "        limit_days = 1\n",
    "        # new: average SeaFlow data in hourly bins\n",
    "        binsize = 60 # in minutes\n",
    "        numbins = int(np.ceil(data_gridded[k]['time'][-1]/binsize))      \n",
    "        data[k]['obs'] = np.full((data[k]['m'],numbins), fill_value=np.nan)\n",
    "        data[k]['t_obs'] = np.full(numbins, fill_value=np.nan)\n",
    " \n",
    "        i = 0\n",
    "        for ibin in range(numbins):\n",
    "            binind = np.logical_and(data_gridded[k]['time'] >= ibin*binsize,\n",
    "                                    data_gridded[k]['time'] < (ibin+1)*binsize)\n",
    "            if np.any(binind):\n",
    "                # TODO we may want to make this a sum when dealing with counts\n",
    "                data[k]['obs'][:,i] = np.mean(data_gridded[k]['w_obs'][:,binind], axis=1)\n",
    "                data[k]['t_obs'][i] = (ibin+0.5) * binsize\n",
    "                i += 1        \n",
    "        data[k]['obs'] = data[k]['obs'][:,:i]\n",
    "        data[k]['t_obs'] = data[k]['t_obs'][:i]        \n",
    "        \n",
    "        n = len(data_gridded[k]['PAR'])  \n",
    "        wsh = 30 # half of median filter window size; window size is 2*wsh+1\n",
    "        par = np.array([np.median(data_gridded[k]['PAR'][max(0,i-wsh):min(n,i+wsh+1)]) for i in range(n)]) # median filter PAR; see: medianfilter_par.ipynb\n",
    "    else:\n",
    "        limit_days = 2        \n",
    "        data[k]['obs'] = data_gridded[k]['w_obs']\n",
    "        data[k]['t_obs'] = data_gridded[k]['time']\n",
    "        par = data_gridded[k]['PAR']\n",
    "        \n",
    "    if limit_days > 0:\n",
    "        limit_minutes = limit_days*1440        \n",
    "        ind_obs = data[k]['t_obs'] < limit_minutes\n",
    "        data[k]['t_obs'] = data[k]['t_obs'][ind_obs]\n",
    "        data[k]['obs'] = data[k]['obs'][:,ind_obs]        \n",
    "        data[k]['nt'] = int(limit_minutes//data[k]['dt'])\n",
    "\n",
    "    data[k]['nt_obs'] = data[k]['t_obs'].size\n",
    "    \n",
    "    # load cross-validation testing indices and add them to data\n",
    "    data[k]['i_test'] = np.loadtxt(itestfiles[k]).astype(int)\n",
    "    data[k]['i_test'] = data[k]['i_test'][:-1]                          # remove last index, so that dimensions agree\n",
    "\n",
    "    t = np.arange(data[k]['nt'])*data[k]['dt']\n",
    "    data[k]['E'] = np.interp(t, xp=data_gridded[k]['time'], fp=par)     # add light data\n",
    "    \n",
    "    # for now, add pseudo-count data\n",
    "    data[k]['obs_count'] = (1000*data[k]['obs']).astype(int)\n",
    "    \n",
    "    # consistency check\n",
    "    if len(data[k]['i_test']) != data[k]['nt_obs']:\n",
    "        raise ValueError('Invalid number of testing indices for \"{}\" (expected {}, got {}).'.format(k,data[k]['nt_obs'],len(data[k]['i_test'])))"
   ]
  },
  {
   "cell_type": "code",
   "execution_count": null,
   "metadata": {},
   "outputs": [],
   "source": []
  },
  {
   "cell_type": "markdown",
   "metadata": {},
   "source": [
    "Compile models"
   ]
  },
  {
   "cell_type": "code",
   "execution_count": 3,
   "metadata": {},
   "outputs": [],
   "source": [
    "import pystan\n",
    "\n",
    "modelfiles = {\n",
    "    'm1': '../stancode/matrixmodel_estinilnorm_monodelta_respv2_normparam_trackgrowth_xval.stan',\n",
    "    'm2': '../stancode/matrixmodel_estinilnorm_monodelta-lightsig_respv2_normparam_trackgrowth_xval.stan',\n",
    "}\n",
    "modelfiles_prior= {\n",
    "    'm1p': '../stancode/matrixmodel_estinilnorm_monodelta_respv2_normparam_trackgrowth_xval_PRIOR_ONLY.stan',\n",
    "    'm2p': '../stancode/matrixmodel_estinilnorm_monodelta-lightsig_respv2_normparam_trackgrowth_xval_PRIOR_ONLY.stan',\n",
    "}  \n",
    "\n",
    "#modelfiles = {\n",
    "#    'm1': '../stancode/matrixmodel_estinilnorm_monodelta_respv2_normparam_trackgrowth_xval.stan',\n",
    "#    'm2': '../stancode/matrixmodel_estinilnorm_monodelta-lightsig_respv2_normparam_trackgrowth_xval.stan',\n",
    "#    'm3': '../stancode/matrixmodel_multinom_estinilnorm_monodelta_respiv6_normparam_trackgrowth_xval.stan',\n",
    "#    'm4': '../stancode/matrixmodel_multinom_estinilnorm_monodelta-lightsig_respiv6_normparam_trackgrowth_xval.stan',\n",
    "#    'm5': '../stancode/matrixmodel_multinom_estinilnorm_monodelta_respiv7_normparam_trackgrowth_xval.stan',\n",
    "#    'm6': '../stancode/matrixmodel_multinom_estinilnorm_monodelta-lightsig_respiv7_normparam_trackgrowth_xval.stan',\n",
    "#}"
   ]
  },
  {
   "cell_type": "code",
   "execution_count": null,
   "metadata": {},
   "outputs": [],
   "source": [
    "models = {}\n",
    "for name in modelfiles:\n",
    "        models[name] = pystan.StanModel(file=modelfiles[name], model_name=name, obfuscate_model_name=False)"
   ]
  },
  {
   "cell_type": "code",
   "execution_count": 8,
   "metadata": {},
   "outputs": [
    {
     "name": "stderr",
     "output_type": "stream",
     "text": [
      "INFO:pystan:COMPILING THE C++ CODE FOR MODEL m1p NOW.\n",
      "INFO:pystan:COMPILING THE C++ CODE FOR MODEL m2p NOW.\n"
     ]
    }
   ],
   "source": [
    "models_prior = {}\n",
    "for name in modelfiles_prior:\n",
    "        models_prior[name] = pystan.StanModel(file=modelfiles_prior[name], model_name=name, obfuscate_model_name=False)"
   ]
  },
  {
   "cell_type": "markdown",
   "metadata": {},
   "source": [
    "Fit models and save to .csv"
   ]
  },
  {
   "cell_type": "code",
   "execution_count": 30,
   "metadata": {},
   "outputs": [],
   "source": []
  },
  {
   "cell_type": "code",
   "execution_count": 43,
   "metadata": {
    "scrolled": false
   },
   "outputs": [
    {
     "name": "stderr",
     "output_type": "stream",
     "text": [
      "WARNING:pystan:Rhat above 1.1 or below 0.9 indicates that the chains very likely have not mixed\n",
      "WARNING:pystan:3981 of 4000 iterations ended with a divergence (99.5 %).\n",
      "WARNING:pystan:Try running with adapt_delta larger than 0.8 to remove the divergences.\n",
      "WARNING:pystan:n_eff / iter below 0.001 indicates that the effective sample size has likely been overestimated\n",
      "WARNING:pystan:Rhat above 1.1 or below 0.9 indicates that the chains very likely have not mixed\n",
      "WARNING:pystan:3999 of 4000 iterations ended with a divergence (100 %).\n",
      "WARNING:pystan:Try running with adapt_delta larger than 0.8 to remove the divergences.\n"
     ]
    }
   ],
   "source": [
    "mcmcs = {}\n",
    "\n",
    "for name in models:\n",
    "    mcmcs[name] = {}\n",
    "    for k in data:\n",
    "            mcmcs[name][k] = models[name].sampling(data=data[k], iter=2000)\n",
    "            df = pystan.misc.to_dataframe(mcmcs[name][k])\n",
    "            df.to_csv(\"fit_{name}_{dataset}.csv\".format(name=name,dataset=k),index=False)"
   ]
  },
  {
   "cell_type": "code",
   "execution_count": null,
   "metadata": {},
   "outputs": [],
   "source": []
  },
  {
   "cell_type": "code",
   "execution_count": 18,
   "metadata": {},
   "outputs": [
    {
     "name": "stderr",
     "output_type": "stream",
     "text": [
      "WARNING:pystan:n_eff / iter below 0.001 indicates that the effective sample size has likely been overestimated\n",
      "WARNING:pystan:Rhat above 1.1 or below 0.9 indicates that the chains very likely have not mixed\n",
      "WARNING:pystan:3995 of 4000 iterations ended with a divergence (99.9 %).\n",
      "WARNING:pystan:Try running with adapt_delta larger than 0.8 to remove the divergences.\n",
      "WARNING:pystan:4 of 4000 iterations saturated the maximum tree depth of 10 (0.1 %)\n",
      "WARNING:pystan:Run again with max_treedepth larger than 10 to avoid saturation\n",
      "WARNING:pystan:n_eff / iter below 0.001 indicates that the effective sample size has likely been overestimated\n",
      "WARNING:pystan:Rhat above 1.1 or below 0.9 indicates that the chains very likely have not mixed\n",
      "WARNING:pystan:3985 of 4000 iterations ended with a divergence (99.6 %).\n",
      "WARNING:pystan:Try running with adapt_delta larger than 0.8 to remove the divergences.\n"
     ]
    }
   ],
   "source": [
    "mcmcs_prior = {}\n",
    "\n",
    "for name in models_prior:\n",
    "    mcmcs_prior[name] = models_prior[name].sampling(data=data['seaflow'],iter=2000)\n",
    "    df = pystan.misc.to_dataframe(mcmcs_prior[name])\n",
    "    df.to_csv(\"prior_{name}.csv\".format(name=name),index=False)"
   ]
  },
  {
   "cell_type": "code",
   "execution_count": 48,
   "metadata": {},
   "outputs": [
    {
     "name": "stderr",
     "output_type": "stream",
     "text": [
      "WARNING:pystan:Truncated summary with the 'fit.__repr__' method. For the full summary use 'print(fit)'\n"
     ]
    },
    {
     "data": {
      "text/plain": [
       "\n",
       "Warning: Shown data is truncated to 100 parameters\n",
       "For the full summary use 'print(fit)'\n",
       "\n",
       "Inference for Stan model: mp.\n",
       "4 chains, each with iter=2000; warmup=1000; thin=1; \n",
       "post-warmup draws per chain=1000, total post-warmup draws=4000.\n",
       "\n",
       "                      mean se_mean     sd     2.5%     25%    50%    75%  97.5%  n_eff   Rhat\n",
       "delta_lambda          0.34    0.07    0.3     0.07    0.14   0.23   0.46   1.17     20   1.17\n",
       "delta_max_incr[1]     5.44    1.98   7.56     0.16     0.9   2.45   7.05  27.16     15   1.17\n",
       "delta_max_incr[2]      5.9    1.12   7.45     0.17    1.18   3.09   8.26  26.34     44   1.09\n",
       "delta_max_incr[3]     2.54    0.55   4.31     0.04    0.39   1.19    3.1  13.81     61   1.08\n",
       "delta_max_incr[4]     4.47    1.09   7.07     0.08    0.59   1.85   5.04  25.31     42   1.13\n",
       "delta_max_incr[5]     4.73    1.11   7.42     0.23    0.99    2.5   5.14  24.48     45    1.1\n",
       "delta_max_incr[6]     4.47    0.81   5.23     0.11    1.07   3.03   5.63  20.81     41   1.12\n",
       "delta_max_incr[7]     4.42    0.64   5.24     0.27    1.49    2.9   5.45  18.47     67    1.1\n",
       "delta_max_incr[8]     6.27    1.65   9.38     0.04    1.03    3.0   7.08  36.16     32   1.14\n",
       "delta_max_incr[9]     5.52    0.97   7.73     0.19    0.99   3.15   6.55  24.71     63   1.06\n",
       "delta_max_incr[10]    4.38    0.99   6.38     0.02    0.67   1.58   5.79  22.29     41   1.11\n",
       "delta_max_incr[11]    5.85    1.73   7.44     0.17    1.47   2.91   7.41  25.52     19   1.26\n",
       "delta_max_incr[12]    5.29     1.1   5.59     0.14    1.37    3.2   7.52  19.78     26   1.15\n",
       "delta_max_incr[13]    5.13    0.95   7.65     0.08    0.96   2.54   6.11  25.36     65   1.06\n",
       "delta_max_incr[14]    5.96    0.76   6.72     0.27    1.66   3.97   7.77   24.6     78   1.05\n",
       "delta_max_incr[15]    4.75    0.88   6.34     0.09    1.17   2.74   5.84  20.69     52   1.07\n",
       "delta_max_incr[16]    5.34    1.06   6.56     0.14    1.09   2.85   6.62  24.94     39   1.16\n",
       "delta_max_incr[17]    5.16    1.04   6.66     0.12     1.1   2.77   6.64  22.84     41   1.08\n",
       "gamma_max            29.88    7.26   21.7     0.64    9.57  26.68   50.0  67.97      9    1.5\n",
       "respiration           6.33    0.33   2.42     1.31    4.55   6.62   8.38   9.81     53   1.08\n",
       "E_star              1333.4   71.18 715.51   205.72  821.36 1215.5 1792.0 2967.4    101   1.05\n",
       "w_ini_mu             -2.87    0.16   1.02    -4.57   -3.59  -2.97  -2.19  -0.36     42   1.05\n",
       "w_ini_sigma           1.74    0.11   0.82     0.19     1.1   1.88   2.42   2.91     54   1.11\n",
       "sigma               1.2e-3  1.9e-4 1.1e-3   3.8e-5  3.4e-4 8.2e-4 1.8e-3 4.2e-3     37    1.1\n",
       "divrate              28.41    8.66  27.31      0.1    1.02  23.33  54.97  73.31     10   1.51\n",
       "delta_max[1]          5.44    1.98   7.56     0.16     0.9   2.45   7.05  27.16     15   1.17\n",
       "delta_max[2]         11.34    2.19  11.11     0.94    3.47   7.79   15.1   39.5     26   1.15\n",
       "delta_max[3]         13.88    1.94  12.22     1.49    5.79  10.42  18.16  44.75     40   1.13\n",
       "delta_max[4]         18.36    2.89  16.16      2.3    7.26  13.43  24.75  59.73     31   1.15\n",
       "delta_max[5]         23.09    3.99  20.19     3.48    9.31  17.12  29.34  80.78     26   1.18\n",
       "delta_max[6]         27.56    4.81  22.68     3.97   11.64   21.6  34.98  91.71     22   1.21\n",
       "delta_max[7]         31.98    5.05  25.37     4.99   13.89   27.2  40.11 101.39     25   1.21\n",
       "delta_max[8]         38.25    6.01  30.17     5.42   15.85  33.43  48.42 115.05     25    1.2\n",
       "delta_max[9]         43.77    6.56  34.69     6.29   17.97   37.1   56.1 136.71     28    1.2\n",
       "delta_max[10]        48.15    7.61  38.39     6.82   19.57  39.85  61.07 151.68     25   1.21\n",
       "delta_max[11]         54.0    9.04  43.26     8.02   21.13  44.15  69.21 160.79     23   1.23\n",
       "delta_max[12]        59.28   10.06  46.12      9.1   23.59  48.99  76.92 174.35     21   1.24\n",
       "delta_max[13]        64.42   10.93   50.1    10.02   25.25  54.23   84.5 193.53     21   1.24\n",
       "delta_max[14]        70.38   11.66   53.7    11.56   27.82  59.22  90.77 209.89     21   1.23\n",
       "delta_max[15]        75.13   11.95  55.69     12.5   30.49  64.19  97.27 217.54     22   1.22\n",
       "delta_max[16]        80.48   13.03  59.44    13.75   32.96  66.99 108.16 231.36     21   1.23\n",
       "delta_max[17]        85.64   13.95  63.76    14.25    35.2  70.07 114.43 248.65     21   1.23\n",
       "mod_obspos[1,1]      -0.43    0.21   0.73    -2.03   -0.93  -0.09   0.04   0.49     13   1.41\n",
       "mod_obspos[2,1]       0.47    0.11   0.49    -0.02     0.1   0.28   0.79   1.61     19   1.29\n",
       "mod_obspos[3,1]       0.19    0.03   0.14 2.8e-100    0.09   0.15    0.3   0.47     20   1.31\n",
       "mod_obspos[4,1]       0.13    0.01   0.07  5.9e-31    0.08   0.11   0.18   0.26     23   1.27\n",
       "mod_obspos[5,1]        0.1  9.7e-3   0.05   9.7e-5    0.07    0.1   0.14   0.18     24   1.22\n",
       "mod_obspos[6,1]       0.08  7.3e-3   0.04   2.0e-3    0.06   0.08   0.11   0.16     27   1.17\n",
       "mod_obspos[7,1]       0.08  6.4e-3   0.04   9.3e-3    0.05   0.07    0.1   0.15     33   1.12\n",
       "mod_obspos[8,1]       0.07  6.4e-3   0.04     0.02    0.05   0.06   0.09   0.16     39   1.09\n",
       "mod_obspos[9,1]       0.07    0.01   0.05     0.02    0.04   0.06   0.09    0.2     18   1.13\n",
       "mod_obspos[10,1]      0.06  6.6e-3   0.05     0.02    0.03   0.05   0.07   0.19     57   1.06\n",
       "mod_obspos[11,1]      0.06  6.1e-3   0.05     0.02    0.03   0.04   0.06   0.18     74   1.05\n",
       "mod_obspos[12,1]      0.05  8.0e-3   0.06     0.01    0.03   0.04   0.06   0.23     58   1.06\n",
       "mod_obspos[13,1]      0.05  7.8e-3   0.07     0.01    0.02   0.03   0.05   0.26     70   1.05\n",
       "mod_obspos[14,1]      0.05  6.7e-3   0.07     0.01    0.02   0.03   0.05   0.24     96   1.04\n",
       "mod_obspos[15,1]      0.04  6.1e-3   0.07   9.4e-3    0.02   0.02   0.04   0.24    127   1.03\n",
       "mod_obspos[16,1]      0.04  6.6e-3   0.08   8.4e-3    0.01   0.02   0.04   0.25    133   1.02\n",
       "mod_obspos[17,1]      0.05    0.01   0.14   6.9e-3    0.01   0.02   0.03   0.37    149   1.04\n",
       "mod_obspos[18,1]    7.2e-3  2.2e-3   0.02    -0.01  3.7e-3 6.7e-3   0.01   0.04     89   1.03\n",
       "mod_obspos[19,1]    6.4e-3  2.4e-3   0.02    -0.02  2.6e-3 5.9e-3 9.7e-3   0.04     82   1.04\n",
       "mod_obspos[20,1]    3.6e-3  2.4e-3   0.02    -0.02  8.1e-4 4.7e-3 7.9e-3   0.03     80   1.04\n",
       "mod_obspos[21,1]    2.8e-3  2.3e-3   0.02    -0.02 -6.9e-5 3.7e-3 6.8e-3   0.03    104   1.03\n",
       "mod_obspos[22,1]   10.0e-4  2.5e-3   0.02    -0.03 -5.2e-4 3.0e-3 5.8e-3   0.02     87   1.04\n",
       "mod_obspos[23,1]   -1.6e-3  3.0e-3   0.03    -0.05 -1.4e-3 2.1e-3 4.5e-3   0.02     78   1.05\n",
       "mod_obspos[24,1]   -1.9e-3  2.7e-3   0.03    -0.05 -1.7e-3 1.3e-3 3.4e-3   0.01    103   1.02\n",
       "mod_obspos[25,1]   -6.3e-3    0.01   0.09    -0.14 -6.7e-3 2.5e-4 5.6e-3   0.05     59   1.07\n",
       "mod_obspos[1,2]      55.53   17.05 125.87    -0.19    0.02   0.65   40.8 440.44     54    1.1\n",
       "mod_obspos[2,2]     -237.6   73.54 530.91    -1869  -186.3  -0.06    0.1   1.11     52    1.1\n",
       "mod_obspos[3,2]     364.97  113.37 803.76    -0.57    0.09   0.62 295.31 2873.7     50   1.11\n",
       "mod_obspos[4,2]     -223.4   69.91 490.22    -1736  -187.1  -0.76    0.1    2.3     49   1.11\n",
       "mod_obspos[5,2]      32.93   10.44  75.65    -5.68     0.1   0.52  23.57 260.94     52   1.11\n",
       "mod_obspos[6,2]        5.1    1.42  10.61    -1.62     0.1    0.3   5.34  37.79     56   1.11\n",
       "mod_obspos[7,2]       1.89    0.43   4.26    -0.51    0.09   0.25   2.22  12.22     97   1.06\n",
       "mod_obspos[8,2]       0.89    0.26   2.69    -0.51    0.08   0.21   1.25   5.55    107   1.05\n",
       "mod_obspos[9,2]       1.25    0.78   6.99    -0.43    0.07    0.2   0.78   6.52     81   1.05\n",
       "mod_obspos[10,2]      0.48    0.43   4.17    -4.81    0.03    0.1   0.57   8.26     93   1.06\n",
       "mod_obspos[11,2]     -0.25    0.32   3.05    -7.97  2.1e-4   0.05   0.23   4.05     91   1.06\n",
       "mod_obspos[12,2]     -0.09    0.34   2.58     -5.3  3.0e-3   0.04   0.16   3.75     58   1.06\n",
       "mod_obspos[13,2]      0.64     0.6   5.49    -1.71    0.01   0.05   0.41   5.44     82   1.03\n",
       "mod_obspos[14,2]      -0.9    0.86  13.18    -4.26  3.2e-3   0.03   0.13   1.89    236   1.02\n",
       "mod_obspos[15,2]      0.31    0.38   7.66    -2.02 -1.1e-4   0.02   0.07   1.82    408   1.01\n",
       "mod_obspos[16,2]      0.88    0.82   9.11    -0.67  1.0e-3   0.02    0.1   4.84    122   1.03\n",
       "mod_obspos[17,2]     -0.91    0.86   8.62    -5.08   -0.02 7.8e-3   0.04   0.67    101   1.03\n",
       "mod_obspos[18,2]      0.08    0.03   0.98    -0.49  4.0e-4   0.01   0.08   0.78   1384    1.0\n",
       "mod_obspos[19,2]     -0.14    0.11   1.63    -1.22   -0.04 8.4e-5 7.8e-3   0.23    211   1.02\n",
       "mod_obspos[20,2]     -0.15    0.35   3.73     -1.6  4.7e-4 6.8e-3   0.09   1.09    115   1.03\n",
       "mod_obspos[21,2]      0.84    0.76  10.65    -0.26  5.1e-8 1.0e-3 6.9e-3   3.26    197   1.02\n",
       "mod_obspos[22,2]     -2.05    2.02  32.39    -2.72 -7.6e-7 7.4e-4 5.9e-3   0.57    258   1.02\n",
       "mod_obspos[23,2]      2.01    2.14  38.61    -1.88  4.4e-6 8.4e-4 8.3e-3   1.61    327   1.01\n",
       "mod_obspos[24,2]      0.88    0.53   14.3    -0.23 5.7e-19 3.1e-4 3.7e-3   7.22    736   1.01\n",
       "mod_obspos[25,2]     -1.26     1.1  14.58    -6.37  3.3e-6 7.1e-4   0.01   0.28    176   1.02\n",
       "mod_obspos[1,3]      -9564  2925.4  3.2e4   -9.7e4   -1681 6.4e-4   0.13  12.38    121   1.05\n",
       "mod_obspos[2,3]      7.4e4   2.3e4  2.5e5   -49.08    0.04   0.23  1.4e4  7.4e5    116   1.05\n",
       "mod_obspos[3,3]     -2.4e5   7.5e4  7.9e5   -2.4e6  -5.0e4  -0.32   0.11 177.07    112   1.05\n",
       "mod_obspos[4,3]      4.3e5   1.3e5  1.4e6   -189.5    0.07   0.38  9.2e4  4.2e6    108   1.05\n",
       "mod_obspos[5,3]     -4.5e5   1.4e5  1.4e6   -4.3e6  -1.1e5  -3.07   0.11 597.55    105   1.05\n",
       "mod_obspos[6,3]      2.7e5   8.4e4  8.5e5   -710.9    0.08   3.63  6.9e4  2.6e6    102   1.05\n",
       "mod_obspos[7,3]     -7.8e4   2.5e4  2.5e5   -7.9e5  -2.0e4   -3.6   0.08 1379.3    100   1.05\n",
       "lp__                -26.13    1.21   4.09   -35.49  -28.57 -25.58 -23.16 -19.32     12   1.24\n",
       "\n",
       "Samples were drawn using NUTS at Mon May 25 13:50:20 2020.\n",
       "For each parameter, n_eff is a crude measure of effective sample size,\n",
       "and Rhat is the potential scale reduction factor on split chains (at \n",
       "convergence, Rhat=1)."
      ]
     },
     "execution_count": 48,
     "metadata": {},
     "output_type": "execute_result"
    }
   ],
   "source": [
    "mcmcs['mp']['seaflow']"
   ]
  }
 ],
 "metadata": {
  "@webio": {
   "lastCommId": null,
   "lastKernelId": null
  },
  "kernelspec": {
   "display_name": "Python 3",
   "language": "python",
   "name": "python3"
  },
  "language_info": {
   "codemirror_mode": {
    "name": "ipython",
    "version": 3
   },
   "file_extension": ".py",
   "mimetype": "text/x-python",
   "name": "python",
   "nbconvert_exporter": "python",
   "pygments_lexer": "ipython3",
   "version": "3.7.4"
  }
 },
 "nbformat": 4,
 "nbformat_minor": 2
}
