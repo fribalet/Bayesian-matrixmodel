{
 "cells": [
  {
   "cell_type": "markdown",
   "metadata": {},
   "source": [
    "# sensitvity to value of pseudo-count\n",
    " * testing the convergence of model with updated priors for different pseudo-count values\n",
    " * see [this notebook](/experimental/experimental_zinser_seaflow_20200616_gallery1_pseudocountsens.ipynb) for results of older priors\n",
    " \n",
    "### general information about the different growth/respiration versions\n",
    "\n",
    " * for the functional form of the different size-dependent growth and respiration formulations see [this notebook](sizedep_formulations.ipynb) "
   ]
  },
  {
   "cell_type": "markdown",
   "metadata": {},
   "source": [
    "## load data from files and plot"
   ]
  },
  {
   "cell_type": "code",
   "execution_count": 1,
   "metadata": {},
   "outputs": [],
   "source": [
    "#%matplotlib notebook\n",
    "import netCDF4 as nc4\n",
    "import numpy as np\n",
    "\n",
    "num_pseudocounts = [100, 1000, 10_000, 100_000, 1_000_000]\n",
    "\n",
    "# load data\n",
    "datafiles = {}\n",
    "desc = {}\n",
    "\n",
    "for npc in num_pseudocounts:\n",
    "    datafiles['seaflow '+str(npc)] = 'data/SeaFlow_SizeDist_regrid-25-8.nc'\n",
    "    desc['seaflow '+str(npc)] = 'SeaFlow dataset (pseudo count {})'.format(npc)\n",
    "    datafiles['zinser '+str(npc)] = 'data/Zinser_SizeDist_calibrated-26-6.nc'\n",
    "    desc['zinser '+str(npc)] = 'Zinser dataset (pseudo count {})'.format(npc)\n",
    "    \n",
    "itestfiles = {k:'data/Zinser_SizeDist_calibrated-26-6-itest.csv' for k in datafiles}\n",
    "\n",
    "data_gridded = {}\n",
    "for dataname in datafiles:\n",
    "    data_gridded[dataname] = {}\n",
    "    with nc4.Dataset(datafiles[dataname]) as nc:\n",
    "        for var in nc.variables:\n",
    "            data_gridded[dataname][var] = nc.variables[var][:]\n",
    "    desc[dataname] += ' (m={data[m]}, $\\Delta_v^{{-1}}$={data[delta_v_inv]})'.format(data=data_gridded[dataname])"
   ]
  },
  {
   "cell_type": "code",
   "execution_count": 2,
   "metadata": {
    "scrolled": false
   },
   "outputs": [],
   "source": [
    "import matplotlib.pyplot as plt\n",
    "import matplotlib as mpl\n",
    "from mpl_toolkits.axes_grid1.inset_locator import inset_axes\n",
    "\n",
    "def add_colorbar(ax, **cbarargs):\n",
    "    axins_cbar = inset_axes(ax, width='3%', height='90%', loc=5, bbox_to_anchor=(0.05,0.0,1,1), bbox_transform=ax.transAxes)\n",
    "    mpl.colorbar.ColorbarBase(axins_cbar, orientation='vertical', **cbarargs)\n",
    "'''\n",
    "for i,dataname in enumerate(data_gridded):\n",
    "    nrows = 2\n",
    "    fig,axs = plt.subplots(nrows=nrows, sharex=True, figsize=(12,4*nrows))\n",
    "    axs[0].set_title('raw data', size=20)\n",
    "    \n",
    "    ax = axs[0]\n",
    "    ax.plot(data_gridded[dataname]['time'], data_gridded[dataname]['PAR'], color='gold')\n",
    "    ax.set(ylabel='PAR')\n",
    "\n",
    "    v_min = data_gridded[dataname]['v_min']\n",
    "    delta_v = 1.0/data_gridded[dataname]['delta_v_inv']\n",
    "    v = v_min * 2**(np.arange(data_gridded[dataname]['m'])*delta_v) \n",
    "    \n",
    "    ax = axs[1]\n",
    "    pc = ax.pcolormesh(data_gridded[dataname]['time'],v,data_gridded[dataname]['w_obs'])\n",
    "    ax.set(ylabel='size ($\\mu$m$^3$)')\n",
    "    ax.text(0.01, 0.95, desc[dataname], color='white', size=16, transform=ax.transAxes, ha='left', va='top')\n",
    "    add_colorbar(ax, norm=pc.norm, cmap=pc.cmap, label='size class proportion')\n",
    "axs[-1].set_xlabel=('time (minutes)')\n",
    "'''\n",
    "None"
   ]
  },
  {
   "cell_type": "markdown",
   "metadata": {},
   "source": [
    "## process data and plot it"
   ]
  },
  {
   "cell_type": "code",
   "execution_count": 3,
   "metadata": {},
   "outputs": [
    {
     "name": "stdout",
     "output_type": "stream",
     "text": [
      "for \"seaflow 100\" psc=100\n",
      "for \"zinser 100\" psc=100\n",
      "for \"seaflow 1000\" psc=1000\n",
      "for \"zinser 1000\" psc=1000\n",
      "for \"seaflow 10000\" psc=10000\n",
      "for \"zinser 10000\" psc=10000\n",
      "for \"seaflow 100000\" psc=100000\n",
      "for \"zinser 100000\" psc=100000\n",
      "for \"seaflow 1000000\" psc=1000000\n",
      "for \"zinser 1000000\" psc=1000000\n"
     ]
    }
   ],
   "source": [
    "# prepare data for Stan model\n",
    "\n",
    "if 'data' not in globals():\n",
    "    data = {}\n",
    "if 'mcmcs' not in globals():\n",
    "    mcmcs = {}\n",
    "if 'models' not in globals():\n",
    "    models = {}\n",
    "\n",
    "for dataname in data_gridded:\n",
    "    dt = 20 # in units of minutes\n",
    "    \n",
    "    data[dataname] = {'dt':dt}\n",
    "    for v in ('m','v_min','delta_v_inv'):\n",
    "        data[dataname][v] = data_gridded[dataname][v]\n",
    "\n",
    "    if 'seaflow' in dataname:\n",
    "        limit_days = 1\n",
    "        \n",
    "        # new: average SeaFlow data in hourly bins\n",
    "        binsize = 60 # in minutes\n",
    "        numbins = int(np.ceil(data_gridded[dataname]['time'][-1]/binsize))\n",
    "        \n",
    "        data[dataname]['obs'] = np.full((data[dataname]['m'],numbins), fill_value=np.nan)\n",
    "        data[dataname]['t_obs'] = np.full(numbins, fill_value=np.nan)\n",
    "        \n",
    "        i = 0\n",
    "        for ibin in range(numbins):\n",
    "            binind = np.logical_and(data_gridded[dataname]['time'] >= ibin*binsize,\n",
    "                                    data_gridded[dataname]['time'] < (ibin+1)*binsize)\n",
    "            if np.any(binind):\n",
    "                # TODO we may want to make this a sum when dealing with counts\n",
    "                data[dataname]['obs'][:,i] = np.mean(data_gridded[dataname]['w_obs'][:,binind], axis=1)\n",
    "                data[dataname]['t_obs'][i] = (ibin+0.5) * binsize\n",
    "                i += 1\n",
    "        \n",
    "        data[dataname]['obs'] = data[dataname]['obs'][:,:i]\n",
    "        data[dataname]['t_obs'] = data[dataname]['t_obs'][:i]\n",
    "        \n",
    "        # median filter PAR\n",
    "        # see: medianfilter_par.ipynb\n",
    "        n = len(data_gridded[dataname]['PAR'])\n",
    "        wsh = 30 # half of median filter window size; window size is 2*wsh+1\n",
    "        par = np.array([np.median(data_gridded[dataname]['PAR'][max(0,i-wsh):min(n,i+wsh+1)]) for i in range(n)])\n",
    "    else:\n",
    "        limit_days = 2\n",
    "        \n",
    "        data[dataname]['obs'] = data_gridded[dataname]['w_obs']\n",
    "        data[dataname]['t_obs'] = data_gridded[dataname]['time']\n",
    "        par = data_gridded[dataname]['PAR']\n",
    "        \n",
    "    if limit_days > 0:\n",
    "        limit_minutes = limit_days*1440\n",
    "        \n",
    "        ind_obs = data[dataname]['t_obs'] < limit_minutes\n",
    "        data[dataname]['t_obs'] = data[dataname]['t_obs'][ind_obs]\n",
    "        data[dataname]['obs'] = data[dataname]['obs'][:,ind_obs]\n",
    "        \n",
    "        data[dataname]['nt'] = int(limit_minutes//data[dataname]['dt'])\n",
    "\n",
    "    data[dataname]['nt_obs'] = data[dataname]['t_obs'].size\n",
    "    \n",
    "    ## load cross-validation testing indices and add them to data\n",
    "    #data[dataname]['i_test'] = np.loadtxt(itestfiles[dataname]).astype(int)\n",
    "    ## remove last index, so that dimensions agree\n",
    "    #data[dataname]['i_test'] = data[dataname]['i_test'][:-1]\n",
    "    \n",
    "    # set all indices to zero\n",
    "    data[dataname]['i_test'] = np.zeros(data[dataname]['nt_obs'], dtype=int)\n",
    "    \n",
    "    # add light data\n",
    "    t = np.arange(data[dataname]['nt'])*data[dataname]['dt']\n",
    "    data[dataname]['E'] = np.interp(t, xp=data_gridded[dataname]['time'], fp=par)\n",
    "    \n",
    "    # for now, add pseudo-count data\n",
    "    \n",
    "    psc = int(dataname.split()[1])\n",
    "    print('for \"{}\" psc={}'.format(dataname, psc))\n",
    "    data[dataname]['obs_count'] = (psc*data[dataname]['obs']).astype(int)\n",
    "    \n",
    "    # consistency check\n",
    "    if len(data[dataname]['i_test']) != data[dataname]['nt_obs']:\n",
    "        raise ValueError('Invalid number of testing indices for \"{}\" (expected {}, got {}).'.format(dataname,data[dataname]['nt_obs'],len(data[dataname]['i_test'])))"
   ]
  },
  {
   "cell_type": "code",
   "execution_count": 4,
   "metadata": {},
   "outputs": [],
   "source": [
    "'''\n",
    "for i,dataname in enumerate(data):\n",
    "    nrows = 2\n",
    "    fig,axs = plt.subplots(nrows=nrows, sharex=True, figsize=(12,4*nrows))\n",
    "    axs[0].set_title('processed data', size=20)\n",
    "    \n",
    "    ax = axs[0]\n",
    "    t = np.arange(data[dataname]['nt'])*data[dataname]['dt']\n",
    "    ax.plot(t, data[dataname]['E'], color='gold')\n",
    "    ax.set(ylabel='E')\n",
    "\n",
    "    v_min = data[dataname]['v_min']\n",
    "    delta_v = 1.0/data[dataname]['delta_v_inv']\n",
    "    v = v_min * 2**(np.arange(data[dataname]['m'])*delta_v) \n",
    "    \n",
    "    ax = axs[1]\n",
    "    pc = ax.pcolormesh(data[dataname]['t_obs'],v,data[dataname]['obs'])\n",
    "    ax.set(ylabel='size ($\\mu$m$^3$)')\n",
    "    ax.text(0.01, 0.95, desc[dataname], color='white', size=16, transform=ax.transAxes, ha='left', va='top')\n",
    "    add_colorbar(ax, norm=pc.norm, cmap=pc.cmap, label='size class proportion')\n",
    "    ax.set_xlim(left=0.0)\n",
    "axs[-1].set_xlabel('time (minutes)')\n",
    "'''\n",
    "None"
   ]
  },
  {
   "cell_type": "markdown",
   "metadata": {},
   "source": [
    "## run model"
   ]
  },
  {
   "cell_type": "code",
   "execution_count": 5,
   "metadata": {},
   "outputs": [
    {
     "name": "stderr",
     "output_type": "stream",
     "text": [
      "INFO:pystan:COMPILING THE C++ CODE FOR MODEL s3 NOW.\n"
     ]
    },
    {
     "name": "stdout",
     "output_type": "stream",
     "text": [
      "s3: compiling\n"
     ]
    }
   ],
   "source": [
    "import pystan\n",
    "import re\n",
    "\n",
    "desc_model = {\n",
    "    #'s1':'m5',\n",
    "    #'s2':'m5 mlmn',\n",
    "    's3':'m5 update',\n",
    "}\n",
    "# preparing for some regular expression magic\n",
    "model_code_replacements = {\n",
    "    's1':(),\n",
    "    's2':(),\n",
    "    's3':(),\n",
    "    's4':(),\n",
    "    's5':(),\n",
    "    's6':(),\n",
    "    's7':(),\n",
    "    's8':(),\n",
    "    's9':(),\n",
    "}\n",
    "model_stan_key = {\n",
    "    's1':'c5',\n",
    "    's2':'c5mlmn',\n",
    "    's3':'c5update',\n",
    "}\n",
    "stan_files = {\n",
    "    'c1':'stancode_gallery1/matrixmodel_multinom_estinilnorm_freedelta_normparam_trackgrowth_xval.stan',\n",
    "    'c2':'stancode_gallery1/matrixmodel_multinom_estinilnorm_monodelta_normparam_trackgrowth_xval.stan',\n",
    "    'c3':'stancode_gallery1/matrixmodel_multinom_estinilnorm_monodelta_gammaiv6_normparam_trackgrowth_xval.stan',\n",
    "    'c4':'stancode_gallery1/matrixmodel_multinom_estinilnorm_monodelta_respv1_normparam_trackgrowth_xval.stan',\n",
    "    'c5':'stancode_gallery1/matrixmodel_multinom_estinilnorm_monodelta_respv2_normparam_trackgrowth_xval.stan',\n",
    "    'c5mlmn':'stancode_gallery1/mlmn_version/matrixmodel_mlmultinom_estinilnorm_monodelta_respv2_normparam_trackgrowth_xval.stan',\n",
    "    'c6':'stancode_gallery1/matrixmodel_multinom_estinilnorm_monodelta_respiv6_normparam_trackgrowth_xval.stan',\n",
    "    'c7':'stancode_gallery1/matrixmodel_multinom_estinilnorm_monodelta_respiv7_normparam_trackgrowth_xval.stan',\n",
    "    'c8':'stancode_gallery1/matrixmodel_multinom_estinilnorm_monodelta-lightsig_respiv6_normparam_trackgrowth_xval.stan',\n",
    "    'c9':'stancode_gallery1/matrixmodel_multinom_estinilnorm_monodelta-lightsig_respiv7_normparam_trackgrowth_xval.stan',\n",
    "    'c10':'stancode_gallery1/matrixmodel_multinom_estinilnorm_monodelta-lightsig_respv2_normparam_trackgrowth_xval.stan',\n",
    "    'c56':'stancode/matrixmodel_multinom_estinilnorm_monodelta_resp_gammaiv6_normparam_trackgrowth_xval.stan',\n",
    "    'c57':'stancode/matrixmodel_multinom_estinilnorm_monodelta_resp_gammaiv7_normparam_trackgrowth_xval.stan',\n",
    "    'c5update':'stancode_gallery1/mlmn_version/matrixmodel_mlmultinom_estinilnorm2_monodelta2_respv2_normparam_trackgrowth_xval2.stan',\n",
    "}\n",
    "\n",
    "refit_required = {}\n",
    "stan_base_code = {}\n",
    "for key,stan_file in stan_files.items():\n",
    "    with open(stan_file) as f:\n",
    "        stan_base_code[key] = f.read()\n",
    "\n",
    "stan_code = {}\n",
    "for name in desc_model:\n",
    "    code_split = stan_base_code[model_stan_key[name]].split('\\n')\n",
    "    code_split_new = []\n",
    "    for line in code_split:\n",
    "        line_new = line\n",
    "        for replacement in model_code_replacements[name]:\n",
    "            m = re.match(replacement[0],line_new)\n",
    "            if m:\n",
    "                line_new = m.groups(0)[0]+replacement[1]\n",
    "                print('{}: patching in \"{}\"'.format(name, line_new))\n",
    "        code_split_new.append(line_new)\n",
    "                \n",
    "    stan_code[name] = '\\n'.join(code_split_new)\n",
    "\n",
    "for name in desc_model:\n",
    "    refit_required[name] = True\n",
    "    if name in models and models[name].model_code == stan_code[name]:\n",
    "        print('{}: unchanged code, not recompiling'.format(name))\n",
    "        refit_required[name] = False\n",
    "    else:\n",
    "        if name in models:\n",
    "            print('{}: code change detected, recompiling'.format(name))\n",
    "        else:\n",
    "            print('{}: compiling'.format(name))\n",
    "        models[name] = pystan.StanModel(model_code=stan_code[name], model_name=name, obfuscate_model_name=False)"
   ]
  },
  {
   "cell_type": "code",
   "execution_count": 6,
   "metadata": {
    "scrolled": false
   },
   "outputs": [
    {
     "name": "stderr",
     "output_type": "stream",
     "text": [
      "WARNING:pystan:Maximum (flat) parameter count (1000) exceeded: skipping diagnostic tests for n_eff and Rhat.\n",
      "To run all diagnostics call pystan.check_hmc_diagnostics(fit)\n",
      "WARNING:pystan:445 of 4000 iterations ended with a divergence (11.1 %).\n",
      "WARNING:pystan:Try running with adapt_delta larger than 0.8 to remove the divergences.\n",
      "WARNING:pystan:3522 of 4000 iterations saturated the maximum tree depth of 10 (88 %)\n",
      "WARNING:pystan:Run again with max_treedepth larger than 10 to avoid saturation\n",
      "WARNING:pystan:Chain 1: E-BFMI = 0.0369\n",
      "WARNING:pystan:Chain 2: E-BFMI = 0.0211\n",
      "WARNING:pystan:Chain 3: E-BFMI = 0.0273\n",
      "WARNING:pystan:Chain 4: E-BFMI = 0.0691\n",
      "WARNING:pystan:E-BFMI below 0.2 indicates you may need to reparameterize your model\n"
     ]
    },
    {
     "name": "stdout",
     "output_type": "stream",
     "text": [
      "s3: in try 1/3 found Rhat=1.952, trying again\n"
     ]
    },
    {
     "name": "stderr",
     "output_type": "stream",
     "text": [
      "WARNING:pystan:Maximum (flat) parameter count (1000) exceeded: skipping diagnostic tests for n_eff and Rhat.\n",
      "To run all diagnostics call pystan.check_hmc_diagnostics(fit)\n",
      "WARNING:pystan:387 of 4000 iterations ended with a divergence (9.68 %).\n",
      "WARNING:pystan:Try running with adapt_delta larger than 0.8 to remove the divergences.\n",
      "WARNING:pystan:3613 of 4000 iterations saturated the maximum tree depth of 10 (90.3 %)\n",
      "WARNING:pystan:Run again with max_treedepth larger than 10 to avoid saturation\n",
      "WARNING:pystan:Chain 1: E-BFMI = 0.0123\n",
      "WARNING:pystan:Chain 2: E-BFMI = 0.014\n",
      "WARNING:pystan:Chain 3: E-BFMI = 0.0512\n",
      "WARNING:pystan:Chain 4: E-BFMI = 0.0436\n",
      "WARNING:pystan:E-BFMI below 0.2 indicates you may need to reparameterize your model\n"
     ]
    },
    {
     "name": "stdout",
     "output_type": "stream",
     "text": [
      "s3: in try 2/3 found Rhat=1.554, trying again\n"
     ]
    },
    {
     "name": "stderr",
     "output_type": "stream",
     "text": [
      "WARNING:pystan:Maximum (flat) parameter count (1000) exceeded: skipping diagnostic tests for n_eff and Rhat.\n",
      "To run all diagnostics call pystan.check_hmc_diagnostics(fit)\n",
      "WARNING:pystan:842 of 4000 iterations ended with a divergence (21.1 %).\n",
      "WARNING:pystan:Try running with adapt_delta larger than 0.8 to remove the divergences.\n",
      "WARNING:pystan:2974 of 4000 iterations saturated the maximum tree depth of 10 (74.3 %)\n",
      "WARNING:pystan:Run again with max_treedepth larger than 10 to avoid saturation\n",
      "WARNING:pystan:Chain 1: E-BFMI = 0.0248\n",
      "WARNING:pystan:Chain 2: E-BFMI = 0.025\n",
      "WARNING:pystan:Chain 3: E-BFMI = 0.0334\n",
      "WARNING:pystan:Chain 4: E-BFMI = 0.116\n",
      "WARNING:pystan:E-BFMI below 0.2 indicates you may need to reparameterize your model\n"
     ]
    },
    {
     "name": "stdout",
     "output_type": "stream",
     "text": [
      "s3: in try 3/3 found Rhat=1.950, trying again\n",
      "s3 (m5 update)\n",
      "Inference for Stan model: s3.\n",
      "4 chains, each with iter=2000; warmup=1000; thin=1; \n",
      "post-warmup draws per chain=1000, total post-warmup draws=4000.\n",
      "\n",
      "                    mean se_mean     sd   2.5%    25%    50%    75%  97.5%  n_eff   Rhat\n",
      "delta_max          45.03    1.99  12.19  24.41  35.92  43.02  54.38  69.34     38    1.1\n",
      "gamma_max           1.89    0.06   0.54   1.26   1.55   1.67   2.11   3.29     79   1.09\n",
      "rho_max             0.03  2.0e-3   0.03 2.1e-3   0.02   0.03   0.04    0.1    161   1.02\n",
      "E_star            1074.6   80.55 759.16  69.08 477.28 978.56 1437.8 2959.8     89   1.05\n",
      "sigma              8.2e4   6.2e4  1.1e5 8689.3  2.1e4  2.8e4  6.9e4  3.9e5      3   1.78\n",
      "divrate             0.78    0.01   0.07   0.67   0.71   0.77   0.83   0.92     34   1.14\n",
      "delta[1]            0.02  2.9e-3   0.02 6.0e-4 2.5e-3   0.01   0.03   0.08     52   1.07\n",
      "delta[2]            0.96    0.02   0.16   0.71   0.82   0.95   1.07   1.31     42    1.1\n",
      "delta[3]            1.29    0.02   0.21   0.94   1.13   1.24   1.42   1.76     77   1.11\n",
      "delta[4]            1.83    0.02   0.24   1.37    1.7   1.79   1.97   2.37    122   1.02\n",
      "delta[5]            2.39    0.03   0.32   1.84   2.19   2.31    2.6   3.09    121   1.03\n",
      "delta[6]            3.23    0.04   0.43   2.39   2.98   3.24   3.45    4.2    123   1.04\n",
      "delta[7]            4.33    0.07   0.63   3.22   3.89   4.38   4.63   5.78     83   1.09\n",
      "delta[8]            5.72    0.25   1.25   4.09   4.62    5.5   6.42    8.5     25   1.22\n",
      "delta[9]            9.98    0.35   2.78   5.87   8.19   9.22  11.49  16.61     63   1.05\n",
      "delta[10]          20.62    1.19   6.97   9.79  16.05  20.05  23.11  37.66     34   1.08\n",
      "delta[11]          25.52    1.34   7.92  13.93  20.34  23.53   29.7  44.43     35   1.09\n",
      "delta[12]          29.09    1.63   9.05  15.89  21.29  27.42  34.56  49.53     31   1.12\n",
      "delta[13]          32.16    2.12  10.22  18.03  22.89  30.86  38.77  53.68     23   1.16\n",
      "delta[14]          35.88    2.07  10.68  19.87  26.27   34.4  43.15  58.54     27   1.13\n",
      "delta[15]          39.48    1.71  10.83  21.59  31.47  37.36  46.88  62.44     40    1.1\n",
      "delta[16]          42.15    1.96  11.73  23.03   32.9  40.18  50.71  66.74     36   1.11\n",
      "delta[17]          45.03    1.99  12.19  24.41  35.92  43.02  54.38  69.34     38    1.1\n",
      "lp__               -5116  138.12 237.58  -5456  -5270  -5196  -5008  -4615      3   1.95\n",
      "\n",
      "Samples were drawn using NUTS at Mon Jun 22 14:51:59 2020.\n",
      "For each parameter, n_eff is a crude measure of effective sample size,\n",
      "and Rhat is the potential scale reduction factor on split chains (at \n",
      "convergence, Rhat=1).\n"
     ]
    },
    {
     "name": "stderr",
     "output_type": "stream",
     "text": [
      "WARNING:pystan:Maximum (flat) parameter count (1000) exceeded: skipping diagnostic tests for n_eff and Rhat.\n",
      "To run all diagnostics call pystan.check_hmc_diagnostics(fit)\n",
      "WARNING:pystan:295 of 4000 iterations ended with a divergence (7.38 %).\n",
      "WARNING:pystan:Try running with adapt_delta larger than 0.8 to remove the divergences.\n",
      "WARNING:pystan:3377 of 4000 iterations saturated the maximum tree depth of 10 (84.4 %)\n",
      "WARNING:pystan:Run again with max_treedepth larger than 10 to avoid saturation\n",
      "WARNING:pystan:Chain 1: E-BFMI = 0.0333\n",
      "WARNING:pystan:Chain 2: E-BFMI = 0.0244\n",
      "WARNING:pystan:Chain 3: E-BFMI = 0.0161\n",
      "WARNING:pystan:Chain 4: E-BFMI = 0.0179\n",
      "WARNING:pystan:E-BFMI below 0.2 indicates you may need to reparameterize your model\n"
     ]
    },
    {
     "name": "stdout",
     "output_type": "stream",
     "text": [
      "s3: in try 1/3 found Rhat=1.209, trying again\n"
     ]
    },
    {
     "name": "stderr",
     "output_type": "stream",
     "text": [
      "WARNING:pystan:Maximum (flat) parameter count (1000) exceeded: skipping diagnostic tests for n_eff and Rhat.\n",
      "To run all diagnostics call pystan.check_hmc_diagnostics(fit)\n",
      "WARNING:pystan:202 of 4000 iterations ended with a divergence (5.05 %).\n",
      "WARNING:pystan:Try running with adapt_delta larger than 0.8 to remove the divergences.\n",
      "WARNING:pystan:3451 of 4000 iterations saturated the maximum tree depth of 10 (86.3 %)\n",
      "WARNING:pystan:Run again with max_treedepth larger than 10 to avoid saturation\n",
      "WARNING:pystan:Chain 1: E-BFMI = 0.0171\n",
      "WARNING:pystan:Chain 2: E-BFMI = 0.0386\n",
      "WARNING:pystan:Chain 3: E-BFMI = 0.0125\n",
      "WARNING:pystan:Chain 4: E-BFMI = 0.0305\n",
      "WARNING:pystan:E-BFMI below 0.2 indicates you may need to reparameterize your model\n"
     ]
    },
    {
     "name": "stdout",
     "output_type": "stream",
     "text": [
      "s3: in try 2/3 found Rhat=2.389, trying again\n"
     ]
    },
    {
     "name": "stderr",
     "output_type": "stream",
     "text": [
      "WARNING:pystan:Maximum (flat) parameter count (1000) exceeded: skipping diagnostic tests for n_eff and Rhat.\n",
      "To run all diagnostics call pystan.check_hmc_diagnostics(fit)\n",
      "WARNING:pystan:1050 of 4000 iterations ended with a divergence (26.2 %).\n",
      "WARNING:pystan:Try running with adapt_delta larger than 0.8 to remove the divergences.\n",
      "WARNING:pystan:2840 of 4000 iterations saturated the maximum tree depth of 10 (71 %)\n",
      "WARNING:pystan:Run again with max_treedepth larger than 10 to avoid saturation\n",
      "WARNING:pystan:Chain 1: E-BFMI = 0.00975\n",
      "WARNING:pystan:Chain 2: E-BFMI = 0.0885\n",
      "WARNING:pystan:Chain 3: E-BFMI = 0.0239\n",
      "WARNING:pystan:Chain 4: E-BFMI = 0.0467\n",
      "WARNING:pystan:E-BFMI below 0.2 indicates you may need to reparameterize your model\n"
     ]
    },
    {
     "name": "stdout",
     "output_type": "stream",
     "text": [
      "s3: in try 3/3 found Rhat=2.551, trying again\n",
      "s3 (m5 update)\n",
      "Inference for Stan model: s3.\n",
      "4 chains, each with iter=2000; warmup=1000; thin=1; \n",
      "post-warmup draws per chain=1000, total post-warmup draws=4000.\n",
      "\n",
      "                    mean se_mean     sd   2.5%    25%    50%    75%  97.5%  n_eff   Rhat\n",
      "delta_max          11.68    0.41   1.76   9.03  10.39   11.3  12.79  15.95     19   1.13\n",
      "gamma_max           5.18    0.48   1.27   4.09    4.4   4.54   5.51   8.42      7   1.51\n",
      "rho_max             1.49    0.04   0.12   1.24   1.41    1.5   1.58   1.71     10   1.42\n",
      "E_star            116.41   29.36  78.28  38.86  63.75  81.41 147.76 304.19      7   1.55\n",
      "sigma              1.0e5   5.1e4  9.9e4 8647.2  2.3e4  5.4e4  2.0e5  3.2e5      4   2.23\n",
      "divrate             0.73    0.02   0.07   0.57   0.69   0.74   0.77   0.86     17   1.34\n",
      "delta[1]          4.9e-3  7.6e-4 5.4e-3 6.7e-5 7.4e-4 3.0e-3 6.9e-3   0.02     50   1.09\n",
      "delta[2]          9.5e-3  1.6e-3 7.3e-3 1.4e-3 3.4e-3 8.1e-3   0.01   0.03     22   1.16\n",
      "delta[3]            0.02  1.0e-3 7.9e-3 3.6e-3   0.01   0.01   0.02   0.03     61   1.05\n",
      "delta[4]            0.02  1.2e-3 9.0e-3 7.1e-3   0.02   0.02   0.03   0.04     58   1.07\n",
      "delta[5]            0.03  1.4e-3   0.01   0.01   0.02   0.03   0.04   0.06     57   1.07\n",
      "delta[6]            0.04  2.2e-3   0.01   0.02   0.03   0.04   0.05   0.07     35    1.1\n",
      "delta[7]            0.05  3.9e-3   0.02   0.02   0.04   0.05   0.06   0.09     18   1.16\n",
      "delta[8]            0.06  2.4e-3   0.02   0.03   0.05   0.07   0.08    0.1     59   1.09\n",
      "delta[9]            0.08  4.3e-3   0.02   0.04   0.07   0.08    0.1   0.14     29   1.13\n",
      "delta[10]           0.12  4.6e-3   0.03   0.05   0.09   0.12   0.13   0.18     48   1.12\n",
      "delta[11]           0.16  6.6e-3   0.04   0.08   0.13   0.16   0.18   0.25     40   1.14\n",
      "delta[12]           0.24    0.01   0.07   0.13   0.19   0.23    0.3   0.36     22   1.21\n",
      "delta[13]           0.35    0.01   0.09   0.19   0.29   0.35   0.39   0.56     79   1.09\n",
      "delta[14]           0.53    0.03   0.15   0.33   0.39    0.5   0.61   0.89     19   1.22\n",
      "delta[15]           0.95    0.07   0.27    0.5   0.73   0.95    1.2   1.41     16   1.16\n",
      "delta[16]            1.8     0.1   0.56   0.93   1.37   1.69   2.12   3.02     30   1.17\n",
      "delta[17]           3.63    0.17   0.97   2.12   2.87   3.48   4.33    5.8     33   1.18\n",
      "delta[18]           7.26     0.3   1.67   3.87   6.07   7.37   8.69   10.3     31   1.12\n",
      "delta[19]          10.14    0.17   1.48   7.34   9.31   9.83  10.93  13.56     72   1.06\n",
      "delta[20]          11.68    0.41   1.76   9.03  10.39   11.3  12.79  15.95     19   1.13\n",
      "lp__               -4752   182.3 314.45  -5293  -5024  -4773  -4401  -4280      3   2.55\n",
      "\n",
      "Samples were drawn using NUTS at Mon Jun 22 19:15:27 2020.\n",
      "For each parameter, n_eff is a crude measure of effective sample size,\n",
      "and Rhat is the potential scale reduction factor on split chains (at \n",
      "convergence, Rhat=1).\n"
     ]
    },
    {
     "name": "stderr",
     "output_type": "stream",
     "text": [
      "WARNING:pystan:Maximum (flat) parameter count (1000) exceeded: skipping diagnostic tests for n_eff and Rhat.\n",
      "To run all diagnostics call pystan.check_hmc_diagnostics(fit)\n",
      "WARNING:pystan:391 of 4000 iterations ended with a divergence (9.78 %).\n",
      "WARNING:pystan:Try running with adapt_delta larger than 0.8 to remove the divergences.\n"
     ]
    },
    {
     "name": "stdout",
     "output_type": "stream",
     "text": [
      "s3: in try 1/3 found Rhat=1.244, trying again\n"
     ]
    },
    {
     "name": "stderr",
     "output_type": "stream",
     "text": [
      "WARNING:pystan:Maximum (flat) parameter count (1000) exceeded: skipping diagnostic tests for n_eff and Rhat.\n",
      "To run all diagnostics call pystan.check_hmc_diagnostics(fit)\n",
      "WARNING:pystan:125 of 4000 iterations ended with a divergence (3.12 %).\n",
      "WARNING:pystan:Try running with adapt_delta larger than 0.8 to remove the divergences.\n",
      "WARNING:pystan:3 of 4000 iterations saturated the maximum tree depth of 10 (0.075 %)\n",
      "WARNING:pystan:Run again with max_treedepth larger than 10 to avoid saturation\n"
     ]
    },
    {
     "name": "stdout",
     "output_type": "stream",
     "text": [
      "s3 (m5 update)\n",
      "Inference for Stan model: s3.\n",
      "4 chains, each with iter=2000; warmup=1000; thin=1; \n",
      "post-warmup draws per chain=1000, total post-warmup draws=4000.\n",
      "\n",
      "                    mean se_mean     sd   2.5%    25%    50%    75%  97.5%  n_eff   Rhat\n",
      "delta_max          55.76    0.61  12.79  27.93  46.38  58.71  67.02   71.6    446   1.02\n",
      "gamma_max            1.4  4.0e-3    0.1   1.28   1.35   1.39   1.43   1.65    596    1.0\n",
      "rho_max             0.06  6.4e-4   0.02   0.01   0.04   0.06   0.07    0.1   1301   1.01\n",
      "E_star             237.8    10.5 239.21  34.33  78.16 137.63 326.23 880.63    519    1.0\n",
      "sigma             2390.3   27.53  435.9 1714.6 2089.5 2321.6 2623.9 3423.9    251   1.02\n",
      "divrate             0.66  1.2e-3   0.03   0.59   0.64   0.66   0.68   0.73    807   1.01\n",
      "delta[1]            0.08  9.5e-4   0.03   0.02   0.06   0.08   0.11   0.15   1228   1.01\n",
      "delta[2]            1.02  2.6e-3   0.08   0.86   0.97   1.02   1.08   1.18   1048    1.0\n",
      "delta[3]            1.26  3.2e-3   0.11   1.05   1.19   1.26   1.34   1.47   1098    1.0\n",
      "delta[4]            1.71  3.8e-3   0.14   1.45   1.61    1.7    1.8   1.98   1285    1.0\n",
      "delta[5]            2.16  4.6e-3   0.16   1.85   2.05   2.16   2.27   2.48   1221    1.0\n",
      "delta[6]            2.64  4.1e-3   0.16   2.32   2.52   2.64   2.75   2.95   1528    1.0\n",
      "delta[7]            2.86  4.7e-3   0.17   2.55   2.75   2.86   2.97    3.2   1257    1.0\n",
      "delta[8]            3.07  4.7e-3   0.19   2.73   2.93   3.06   3.19   3.47   1652   1.01\n",
      "delta[9]            3.38  6.3e-3   0.27   2.92   3.18   3.35   3.55   3.98   1913    1.0\n",
      "delta[10]           4.47    0.01   0.59   3.44   4.05   4.42   4.83   5.74   1866    1.0\n",
      "delta[11]           6.58    0.05   1.62   4.34   5.45   6.25   7.35  10.55   1177    1.0\n",
      "delta[12]           26.1    0.32   9.75  11.29  19.01  24.57  31.51  49.83    926    1.0\n",
      "delta[13]          38.66    0.47  11.44  19.34  29.74   37.9  47.04  61.49    583   1.01\n",
      "delta[14]          44.76    0.53   12.1  22.22  35.16  44.97  54.55  65.76    530   1.01\n",
      "delta[15]          49.09    0.56  12.43  24.14  39.29  50.35  59.55   68.2    485   1.01\n",
      "delta[16]          52.64    0.58  12.58  26.06  43.13  54.75  63.36  70.11    470   1.01\n",
      "delta[17]          55.76    0.61  12.79  27.93  46.38  58.71  67.02   71.6    446   1.02\n",
      "lp__              -6.3e4    2.13  35.03 -6.3e4 -6.3e4 -6.3e4 -6.3e4 -6.3e4    270   1.02\n",
      "\n",
      "Samples were drawn using NUTS at Mon Jun 22 19:54:00 2020.\n",
      "For each parameter, n_eff is a crude measure of effective sample size,\n",
      "and Rhat is the potential scale reduction factor on split chains (at \n",
      "convergence, Rhat=1).\n"
     ]
    },
    {
     "name": "stderr",
     "output_type": "stream",
     "text": [
      "WARNING:pystan:Maximum (flat) parameter count (1000) exceeded: skipping diagnostic tests for n_eff and Rhat.\n",
      "To run all diagnostics call pystan.check_hmc_diagnostics(fit)\n"
     ]
    },
    {
     "name": "stdout",
     "output_type": "stream",
     "text": [
      "s3: in try 1/3 found Rhat=11.899, trying again\n"
     ]
    },
    {
     "name": "stderr",
     "output_type": "stream",
     "text": [
      "WARNING:pystan:Maximum (flat) parameter count (1000) exceeded: skipping diagnostic tests for n_eff and Rhat.\n",
      "To run all diagnostics call pystan.check_hmc_diagnostics(fit)\n",
      "WARNING:pystan:1000 of 4000 iterations saturated the maximum tree depth of 10 (25 %)\n",
      "WARNING:pystan:Run again with max_treedepth larger than 10 to avoid saturation\n"
     ]
    },
    {
     "name": "stdout",
     "output_type": "stream",
     "text": [
      "s3 (m5 update)\n",
      "Inference for Stan model: s3.\n",
      "4 chains, each with iter=2000; warmup=1000; thin=1; \n",
      "post-warmup draws per chain=1000, total post-warmup draws=4000.\n",
      "\n",
      "                    mean se_mean     sd   2.5%    25%    50%    75%  97.5%  n_eff   Rhat\n",
      "delta_max          30.82    0.41  10.44  15.65  22.48  29.86  37.14  55.87    663   1.01\n",
      "gamma_max           4.53    0.01   0.37   4.08   4.29   4.45   4.67   5.46   1080    1.0\n",
      "rho_max             1.55  1.7e-3   0.06   1.43   1.51   1.55   1.59   1.68   1441    1.0\n",
      "E_star             88.85    0.77  25.47  52.51  71.86  84.58 100.23 150.52   1088    1.0\n",
      "sigma             710.35    2.21  73.24 578.67 658.16 705.23 758.94  859.3   1095    1.0\n",
      "divrate             0.63  9.2e-4   0.05   0.54    0.6   0.63   0.67   0.73   2592    1.0\n",
      "delta[1]          9.4e-3  1.1e-4 8.2e-3 3.0e-4 3.1e-3 7.1e-3   0.01   0.03   5104    1.0\n",
      "delta[2]            0.02  1.6e-4   0.01 2.9e-3   0.01   0.02   0.03   0.04   5001    1.0\n",
      "delta[3]            0.03  1.9e-4   0.01 8.4e-3   0.02   0.03   0.04   0.06   4765    1.0\n",
      "delta[4]            0.04  2.2e-4   0.01   0.02   0.03   0.04   0.05   0.07   4300    1.0\n",
      "delta[5]            0.05  2.3e-4   0.01   0.03   0.04   0.05   0.06   0.08   4132    1.0\n",
      "delta[6]            0.07  2.4e-4   0.02   0.04   0.06   0.07   0.08    0.1   4256    1.0\n",
      "delta[7]            0.08  2.5e-4   0.02   0.05   0.07   0.08   0.09   0.11   4216    1.0\n",
      "delta[8]            0.09  3.0e-4   0.02   0.06   0.08   0.09   0.11   0.13   3551    1.0\n",
      "delta[9]            0.11  3.4e-4   0.02   0.07    0.1   0.11   0.12   0.15   3420    1.0\n",
      "delta[10]           0.13  3.9e-4   0.02   0.09   0.11   0.13   0.14   0.18   3399    1.0\n",
      "delta[11]           0.16  4.9e-4   0.03   0.11   0.14   0.15   0.17   0.22   3285    1.0\n",
      "delta[12]           0.19  6.3e-4   0.04   0.13   0.17   0.19   0.22   0.28   3562    1.0\n",
      "delta[13]           0.26  9.6e-4   0.06   0.17   0.22   0.25    0.3   0.39   3558    1.0\n",
      "delta[14]           0.42  1.8e-3    0.1   0.25   0.35   0.41   0.48   0.63   2916    1.0\n",
      "delta[15]           0.81  3.6e-3   0.19   0.47   0.67    0.8   0.93    1.2   2813    1.0\n",
      "delta[16]           1.55  6.3e-3   0.33   0.97   1.31   1.54   1.77   2.25   2759    1.0\n",
      "delta[17]           3.03 10.0e-3    0.5   2.06   2.68   3.03   3.37   4.01   2541    1.0\n",
      "delta[18]           4.37    0.01   0.78   3.02    3.8   4.31   4.87   6.07   3016    1.0\n",
      "delta[19]           9.43    0.16    4.2    4.6   6.14    8.0  11.98  19.43    710   1.01\n",
      "delta[20]          30.82    0.41  10.44  15.65  22.48  29.86  37.14  55.87    663   1.01\n",
      "lp__              -6.3e4    0.77   22.5 -6.3e4 -6.3e4 -6.3e4 -6.3e4 -6.3e4    844   1.01\n",
      "\n",
      "Samples were drawn using NUTS at Mon Jun 22 21:42:49 2020.\n",
      "For each parameter, n_eff is a crude measure of effective sample size,\n",
      "and Rhat is the potential scale reduction factor on split chains (at \n",
      "convergence, Rhat=1).\n"
     ]
    },
    {
     "name": "stderr",
     "output_type": "stream",
     "text": [
      "WARNING:pystan:Maximum (flat) parameter count (1000) exceeded: skipping diagnostic tests for n_eff and Rhat.\n",
      "To run all diagnostics call pystan.check_hmc_diagnostics(fit)\n",
      "WARNING:pystan:366 of 4000 iterations ended with a divergence (9.15 %).\n",
      "WARNING:pystan:Try running with adapt_delta larger than 0.8 to remove the divergences.\n"
     ]
    },
    {
     "name": "stdout",
     "output_type": "stream",
     "text": [
      "s3: in try 1/3 found Rhat=1.119, trying again\n"
     ]
    },
    {
     "name": "stderr",
     "output_type": "stream",
     "text": [
      "WARNING:pystan:Maximum (flat) parameter count (1000) exceeded: skipping diagnostic tests for n_eff and Rhat.\n",
      "To run all diagnostics call pystan.check_hmc_diagnostics(fit)\n",
      "WARNING:pystan:155 of 4000 iterations ended with a divergence (3.88 %).\n",
      "WARNING:pystan:Try running with adapt_delta larger than 0.8 to remove the divergences.\n"
     ]
    },
    {
     "name": "stdout",
     "output_type": "stream",
     "text": [
      "s3 (m5 update)\n",
      "Inference for Stan model: s3.\n",
      "4 chains, each with iter=2000; warmup=1000; thin=1; \n",
      "post-warmup draws per chain=1000, total post-warmup draws=4000.\n",
      "\n",
      "                    mean se_mean     sd   2.5%    25%    50%    75%  97.5%  n_eff   Rhat\n",
      "delta_max          60.29    0.59  11.16  33.39  53.36  64.37  69.28  71.77    360   1.03\n",
      "gamma_max           1.45  4.9e-3   0.13    1.3   1.37   1.42   1.48   1.81    712    1.0\n",
      "rho_max             0.06  6.8e-4   0.02   0.01   0.05   0.06   0.08    0.1   1136    1.0\n",
      "E_star            315.44   11.15 290.77  40.68  95.57 210.35 455.07 1074.6    681   1.01\n",
      "sigma             766.81    1.01  46.31 678.56 734.27 766.16 798.21 860.74   2098    1.0\n",
      "divrate             0.66  7.8e-4   0.03   0.59   0.64   0.66   0.68   0.72   1733    1.0\n",
      "delta[1]            0.07  1.0e-3   0.03 8.7e-3   0.04   0.06   0.09   0.14   1130    1.0\n",
      "delta[2]            0.99  1.8e-3   0.08   0.83   0.93   0.99   1.04   1.14   2010    1.0\n",
      "delta[3]            1.27  3.0e-3   0.11   1.07    1.2   1.27   1.34   1.49   1203    1.0\n",
      "delta[4]            1.72  2.5e-3   0.13   1.46   1.63   1.71    1.8   1.98   2622    1.0\n",
      "delta[5]             2.2  3.5e-3   0.16   1.89   2.09    2.2    2.3   2.52   2112    1.0\n",
      "delta[6]            2.67  3.4e-3   0.16   2.36   2.56   2.68   2.78   2.99   2352    1.0\n",
      "delta[7]            2.89  3.1e-3   0.16   2.58   2.79   2.89    3.0   3.22   2794    1.0\n",
      "delta[8]            3.09  3.4e-3   0.19   2.75   2.96   3.08    3.2    3.5   3144    1.0\n",
      "delta[9]            3.39  8.0e-3   0.29   2.91   3.18   3.36   3.57   4.06   1304   1.01\n",
      "delta[10]           4.55    0.01   0.71   3.43   4.05   4.46   4.97   6.21   3536    1.0\n",
      "delta[11]           8.78    0.05   2.79   4.94   6.79   8.28  10.14  15.58   2858    1.0\n",
      "delta[12]          26.56    0.25  10.21  11.57  19.25  24.72  32.09  52.07   1655    1.0\n",
      "delta[13]          40.24    0.43  11.68  20.08  31.05  39.45   48.8  63.04    754   1.01\n",
      "delta[14]          48.09    0.51  11.87   25.2  39.06  48.94  57.83  66.96    534   1.01\n",
      "delta[15]          53.25    0.56  11.73  28.15  44.93  55.48  63.14  69.29    439   1.02\n",
      "delta[16]           57.2    0.57  11.39  30.78  49.72  60.33  66.64  70.77    393   1.02\n",
      "delta[17]          60.29    0.59  11.16  33.39  53.36  64.37  69.28  71.77    360   1.03\n",
      "lp__              -6.4e5     0.5  18.12 -6.4e5 -6.4e5 -6.4e5 -6.4e5 -6.4e5   1296    1.0\n",
      "\n",
      "Samples were drawn using NUTS at Mon Jun 22 22:05:04 2020.\n",
      "For each parameter, n_eff is a crude measure of effective sample size,\n",
      "and Rhat is the potential scale reduction factor on split chains (at \n",
      "convergence, Rhat=1).\n"
     ]
    },
    {
     "name": "stderr",
     "output_type": "stream",
     "text": [
      "WARNING:pystan:Maximum (flat) parameter count (1000) exceeded: skipping diagnostic tests for n_eff and Rhat.\n",
      "To run all diagnostics call pystan.check_hmc_diagnostics(fit)\n",
      "WARNING:pystan:1000 of 4000 iterations saturated the maximum tree depth of 10 (25 %)\n",
      "WARNING:pystan:Run again with max_treedepth larger than 10 to avoid saturation\n"
     ]
    },
    {
     "name": "stdout",
     "output_type": "stream",
     "text": [
      "s3 (m5 update)\n",
      "Inference for Stan model: s3.\n",
      "4 chains, each with iter=2000; warmup=1000; thin=1; \n",
      "post-warmup draws per chain=1000, total post-warmup draws=4000.\n",
      "\n",
      "                    mean se_mean     sd   2.5%    25%    50%    75%  97.5%  n_eff   Rhat\n",
      "delta_max           23.9    0.12   5.86  16.04  20.17  22.75  26.14  39.55   2382    1.0\n",
      "gamma_max           4.45  7.1e-3   0.32   4.07   4.26   4.39   4.57   5.21   2020    1.0\n",
      "rho_max             1.56  1.1e-3   0.06   1.44   1.52   1.56   1.61   1.69   3662    1.0\n",
      "E_star             85.83    0.47   22.5  52.22  71.29  81.99  96.02 138.99   2268    1.0\n",
      "sigma             411.82    0.42   25.1 363.99 394.42 410.94 428.42 462.91   3610    1.0\n",
      "divrate             0.61  7.3e-4   0.04   0.53   0.58   0.61   0.64    0.7   3676    1.0\n",
      "delta[1]          8.7e-3  1.0e-4 7.9e-3 1.8e-4 2.7e-3 6.5e-3   0.01   0.03   5857    1.0\n",
      "delta[2]            0.02  1.5e-4   0.01 2.7e-3 9.9e-3   0.02   0.02   0.04   5128    1.0\n",
      "delta[3]            0.03  1.7e-4   0.01 7.2e-3   0.02   0.03   0.03   0.05   5114    1.0\n",
      "delta[4]            0.04  1.9e-4   0.01   0.01   0.03   0.04   0.05   0.07   5011    1.0\n",
      "delta[5]            0.05  2.0e-4   0.01   0.02   0.04   0.05   0.06   0.08   5039    1.0\n",
      "delta[6]            0.06  2.2e-4   0.01   0.03   0.05   0.06   0.07   0.09   4703    1.0\n",
      "delta[7]            0.07  2.3e-4   0.02   0.04   0.06   0.07   0.08    0.1   4456    1.0\n",
      "delta[8]            0.08  2.6e-4   0.02   0.05   0.07   0.08   0.09   0.12   4263    1.0\n",
      "delta[9]             0.1  3.1e-4   0.02   0.06   0.09    0.1   0.11   0.14   3672    1.0\n",
      "delta[10]           0.12  3.4e-4   0.02   0.08    0.1   0.12   0.13   0.17   4267    1.0\n",
      "delta[11]           0.14  4.3e-4   0.03   0.09   0.12   0.14   0.16    0.2   4287    1.0\n",
      "delta[12]           0.18  5.4e-4   0.04   0.12   0.15   0.18   0.21   0.26   4907    1.0\n",
      "delta[13]           0.25  7.8e-4   0.05   0.16   0.21   0.25   0.29   0.37   4765    1.0\n",
      "delta[14]            0.4  1.4e-3    0.1   0.24   0.33   0.39   0.47   0.61   4694    1.0\n",
      "delta[15]           0.79  3.1e-3   0.19   0.45   0.64   0.78   0.92   1.18   3797    1.0\n",
      "delta[16]            1.5  5.2e-3   0.32   0.94   1.27   1.48   1.72   2.16   3843    1.0\n",
      "delta[17]           2.86  7.5e-3   0.48   1.96   2.52   2.86   3.17   3.84   4179    1.0\n",
      "delta[18]           4.21    0.01   0.88   2.87   3.58   4.07   4.72   6.21   4699    1.0\n",
      "delta[19]          17.36    0.08    4.3    7.6  14.87  17.76  20.24  25.14   3282    1.0\n",
      "delta[20]           23.9    0.12   5.86  16.04  20.17  22.75  26.14  39.55   2382    1.0\n",
      "lp__              -6.3e5    0.53  18.83 -6.3e5 -6.3e5 -6.3e5 -6.3e5 -6.3e5   1272    1.0\n",
      "\n",
      "Samples were drawn using NUTS at Mon Jun 22 22:58:38 2020.\n",
      "For each parameter, n_eff is a crude measure of effective sample size,\n",
      "and Rhat is the potential scale reduction factor on split chains (at \n",
      "convergence, Rhat=1).\n"
     ]
    },
    {
     "name": "stderr",
     "output_type": "stream",
     "text": [
      "WARNING:pystan:Maximum (flat) parameter count (1000) exceeded: skipping diagnostic tests for n_eff and Rhat.\n",
      "To run all diagnostics call pystan.check_hmc_diagnostics(fit)\n",
      "WARNING:pystan:332 of 4000 iterations ended with a divergence (8.3 %).\n",
      "WARNING:pystan:Try running with adapt_delta larger than 0.8 to remove the divergences.\n"
     ]
    },
    {
     "name": "stdout",
     "output_type": "stream",
     "text": [
      "s3: in try 1/3 found Rhat=1.229, trying again\n"
     ]
    },
    {
     "name": "stderr",
     "output_type": "stream",
     "text": [
      "WARNING:pystan:Maximum (flat) parameter count (1000) exceeded: skipping diagnostic tests for n_eff and Rhat.\n",
      "To run all diagnostics call pystan.check_hmc_diagnostics(fit)\n",
      "WARNING:pystan:82 of 4000 iterations ended with a divergence (2.05 %).\n",
      "WARNING:pystan:Try running with adapt_delta larger than 0.8 to remove the divergences.\n"
     ]
    },
    {
     "name": "stdout",
     "output_type": "stream",
     "text": [
      "s3 (m5 update)\n",
      "Inference for Stan model: s3.\n",
      "4 chains, each with iter=2000; warmup=1000; thin=1; \n",
      "post-warmup draws per chain=1000, total post-warmup draws=4000.\n",
      "\n",
      "                    mean se_mean     sd   2.5%    25%    50%    75%  97.5%  n_eff   Rhat\n",
      "delta_max          64.43    0.53   9.24  38.78  61.55   68.4  70.71  71.91    307   1.03\n",
      "gamma_max           1.44  3.8e-3   0.13    1.3   1.37   1.41   1.47   1.78   1162    1.0\n",
      "rho_max             0.06  4.0e-4   0.02   0.02   0.05   0.06   0.08    0.1   3050    1.0\n",
      "E_star            299.41    8.03 280.68   39.1  95.73 199.81 428.06 1054.2   1222    1.0\n",
      "sigma             714.65    0.65  41.76 635.64  685.7 713.75 742.65 799.02   4068    1.0\n",
      "divrate             0.66  7.3e-4   0.03    0.6   0.64   0.66   0.68   0.72   2052    1.0\n",
      "delta[1]            0.06  6.6e-4   0.03 6.8e-3   0.04   0.06   0.09   0.14   2578    1.0\n",
      "delta[2]            0.98  1.4e-3   0.08   0.82   0.93   0.98   1.04   1.14   3328    1.0\n",
      "delta[3]            1.27  2.1e-3   0.11   1.07   1.19   1.27   1.34   1.48   2460    1.0\n",
      "delta[4]            1.71  2.7e-3   0.14   1.46   1.62   1.71    1.8   1.99   2544    1.0\n",
      "delta[5]             2.2  3.3e-3   0.16   1.89   2.09   2.19   2.31   2.52   2360    1.0\n",
      "delta[6]            2.68  2.9e-3   0.16   2.36   2.57   2.68   2.79   2.99   3022    1.0\n",
      "delta[7]             2.9  2.7e-3   0.16   2.59   2.78   2.89    3.0   3.22   3645    1.0\n",
      "delta[8]            3.09  2.9e-3   0.18   2.75   2.96   3.08   3.21   3.48   4149    1.0\n",
      "delta[9]            3.39  4.5e-3   0.28   2.92   3.19   3.36   3.56    4.0   3914    1.0\n",
      "delta[10]           4.55    0.01   0.71   3.44   4.04   4.48   4.98   6.12   3301    1.0\n",
      "delta[11]           8.88    0.04   2.72   5.05   6.88   8.39  10.35  15.61   4256    1.0\n",
      "delta[12]          28.46    0.26  11.14  12.23   20.1  26.25  35.19  55.18   1887    1.0\n",
      "delta[13]          44.21    0.39  12.03  21.83  34.76  44.25  53.86  65.54    949   1.01\n",
      "delta[14]          52.56    0.41  11.43  27.79  44.58  54.62   62.0  68.56    795   1.02\n",
      "delta[15]          57.94    0.41  10.56   32.0  52.17  61.01  66.17  70.22    653   1.02\n",
      "delta[16]          61.71    0.43   9.82   35.0  57.72  65.31  68.82  71.31    521   1.03\n",
      "delta[17]          64.43    0.53   9.24  38.78  61.55   68.4  70.71  71.91    307   1.03\n",
      "lp__              -6.4e6    0.47  18.13 -6.4e6 -6.4e6 -6.4e6 -6.4e6 -6.4e6   1481    1.0\n",
      "\n",
      "Samples were drawn using NUTS at Mon Jun 22 23:18:31 2020.\n",
      "For each parameter, n_eff is a crude measure of effective sample size,\n",
      "and Rhat is the potential scale reduction factor on split chains (at \n",
      "convergence, Rhat=1).\n"
     ]
    },
    {
     "name": "stderr",
     "output_type": "stream",
     "text": [
      "WARNING:pystan:Maximum (flat) parameter count (1000) exceeded: skipping diagnostic tests for n_eff and Rhat.\n",
      "To run all diagnostics call pystan.check_hmc_diagnostics(fit)\n",
      "WARNING:pystan:1000 of 4000 iterations saturated the maximum tree depth of 10 (25 %)\n",
      "WARNING:pystan:Run again with max_treedepth larger than 10 to avoid saturation\n"
     ]
    },
    {
     "name": "stdout",
     "output_type": "stream",
     "text": [
      "s3: in try 1/3 found Rhat=13.887, trying again\n"
     ]
    },
    {
     "name": "stderr",
     "output_type": "stream",
     "text": [
      "WARNING:pystan:Maximum (flat) parameter count (1000) exceeded: skipping diagnostic tests for n_eff and Rhat.\n",
      "To run all diagnostics call pystan.check_hmc_diagnostics(fit)\n",
      "WARNING:pystan:596 of 4000 iterations saturated the maximum tree depth of 10 (14.9 %)\n",
      "WARNING:pystan:Run again with max_treedepth larger than 10 to avoid saturation\n"
     ]
    },
    {
     "name": "stdout",
     "output_type": "stream",
     "text": [
      "s3 (m5 update)\n",
      "Inference for Stan model: s3.\n",
      "4 chains, each with iter=2000; warmup=1000; thin=1; \n",
      "post-warmup draws per chain=1000, total post-warmup draws=4000.\n",
      "\n",
      "                    mean se_mean     sd   2.5%    25%    50%    75%  97.5%  n_eff   Rhat\n",
      "delta_max          23.52     0.1   5.21  15.91  20.21  22.74   25.8  36.23   2700    1.0\n",
      "gamma_max           4.45  7.3e-3   0.33   4.06   4.24   4.39   4.57    5.2   2065    1.0\n",
      "rho_max             1.57  9.9e-4   0.06   1.44   1.52   1.56   1.61   1.69   4270    1.0\n",
      "E_star             85.77    0.48  23.33  52.83  71.13  82.02  96.52 136.54   2357    1.0\n",
      "sigma             394.58    0.34  23.06 350.33 378.45 394.23 410.13  440.8   4563    1.0\n",
      "divrate             0.61  6.6e-4   0.04   0.52   0.58   0.61   0.64    0.7   4324    1.0\n",
      "delta[1]          8.5e-3  1.0e-4 7.7e-3 2.0e-4 2.6e-3 6.4e-3   0.01   0.03   5530    1.0\n",
      "delta[2]            0.02  1.4e-4   0.01 2.3e-3 9.5e-3   0.02   0.02   0.04   5253    1.0\n",
      "delta[3]            0.03  1.6e-4   0.01 7.4e-3   0.02   0.03   0.03   0.05   5023    1.0\n",
      "delta[4]            0.04  1.8e-4   0.01   0.01   0.03   0.04   0.04   0.06   5125    1.0\n",
      "delta[5]            0.05  1.9e-4   0.01   0.02   0.04   0.05   0.06   0.08   5273    1.0\n",
      "delta[6]            0.06  2.1e-4   0.01   0.03   0.05   0.06   0.07   0.09   4881    1.0\n",
      "delta[7]            0.07  2.2e-4   0.02   0.04   0.06   0.07   0.08    0.1   4739    1.0\n",
      "delta[8]            0.08  2.5e-4   0.02   0.05   0.07   0.08   0.09   0.12   4787    1.0\n",
      "delta[9]             0.1  2.7e-4   0.02   0.06   0.08    0.1   0.11   0.14   5140    1.0\n",
      "delta[10]           0.12  3.3e-4   0.02   0.08    0.1   0.11   0.13   0.16   4710    1.0\n",
      "delta[11]           0.14  4.1e-4   0.03   0.09   0.12   0.14   0.16    0.2   4693    1.0\n",
      "delta[12]           0.18  5.5e-4   0.04   0.12   0.15   0.18    0.2   0.26   4757    1.0\n",
      "delta[13]           0.25  7.8e-4   0.06   0.15   0.21   0.25   0.28   0.37   5046    1.0\n",
      "delta[14]            0.4  1.4e-3   0.09   0.24   0.33   0.39   0.46    0.6   4313    1.0\n",
      "delta[15]           0.78  2.8e-3   0.18   0.46   0.65   0.78   0.91   1.16   4461    1.0\n",
      "delta[16]           1.49  4.9e-3   0.32   0.92   1.26   1.47   1.71   2.13   4139    1.0\n",
      "delta[17]           2.84  7.2e-3    0.5   1.91   2.48   2.83   3.18   3.87   4764    1.0\n",
      "delta[18]           4.23    0.01    0.9   2.86   3.58   4.09   4.75   6.44   4725    1.0\n",
      "delta[19]          17.91    0.07   4.18   8.28  15.46  18.16  20.71  25.54   3209    1.0\n",
      "delta[20]          23.52     0.1   5.21  15.91  20.21  22.74   25.8  36.23   2700    1.0\n",
      "lp__              -6.4e6    0.48  18.55 -6.4e6 -6.4e6 -6.4e6 -6.4e6 -6.4e6   1514    1.0\n",
      "\n",
      "Samples were drawn using NUTS at Tue Jun 23 01:04:20 2020.\n",
      "For each parameter, n_eff is a crude measure of effective sample size,\n",
      "and Rhat is the potential scale reduction factor on split chains (at \n",
      "convergence, Rhat=1).\n"
     ]
    },
    {
     "name": "stderr",
     "output_type": "stream",
     "text": [
      "WARNING:pystan:Maximum (flat) parameter count (1000) exceeded: skipping diagnostic tests for n_eff and Rhat.\n",
      "To run all diagnostics call pystan.check_hmc_diagnostics(fit)\n",
      "WARNING:pystan:71 of 4000 iterations ended with a divergence (1.77 %).\n",
      "WARNING:pystan:Try running with adapt_delta larger than 0.8 to remove the divergences.\n"
     ]
    },
    {
     "name": "stdout",
     "output_type": "stream",
     "text": [
      "s3 (m5 update)\n",
      "Inference for Stan model: s3.\n",
      "4 chains, each with iter=2000; warmup=1000; thin=1; \n",
      "post-warmup draws per chain=1000, total post-warmup draws=4000.\n",
      "\n",
      "                    mean se_mean     sd   2.5%    25%    50%    75%  97.5%  n_eff   Rhat\n",
      "delta_max          65.54    0.57   8.63  39.89  64.16  69.32  71.13  71.94    231   1.01\n",
      "gamma_max           1.44  7.2e-3   0.13   1.29   1.37   1.41   1.47   1.77    340   1.01\n",
      "rho_max             0.06  9.3e-4   0.02   0.01   0.05   0.06   0.08    0.1    630    1.0\n",
      "E_star            293.92   13.65 280.92  42.18  92.39 189.85  414.7 1018.5    424   1.01\n",
      "sigma             711.12    0.62  40.88 633.17 684.32 710.43 737.92 791.01   4364    1.0\n",
      "divrate             0.66  9.3e-4   0.03    0.6   0.64   0.66   0.68   0.73   1268    1.0\n",
      "delta[1]            0.07  1.4e-3   0.04 8.0e-3   0.04   0.06   0.09   0.14    615    1.0\n",
      "delta[2]            0.99  1.8e-3   0.08   0.83   0.93   0.99   1.03   1.14   1900    1.0\n",
      "delta[3]            1.27  2.7e-3   0.11   1.06    1.2   1.27   1.34   1.48   1610    1.0\n",
      "delta[4]            1.72  3.0e-3   0.13   1.46   1.63   1.71   1.81   1.97   1885    1.0\n",
      "delta[5]            2.21  3.6e-3   0.16   1.88   2.09    2.2   2.31   2.53   1974    1.0\n",
      "delta[6]            2.68  3.5e-3   0.16   2.35   2.57   2.68   2.79   3.01   2244    1.0\n",
      "delta[7]             2.9  3.2e-3   0.16    2.6   2.79    2.9   3.01   3.24   2592    1.0\n",
      "delta[8]             3.1  4.3e-3   0.19   2.75   2.96   3.08   3.22   3.51   2038    1.0\n",
      "delta[9]             3.4  6.7e-3   0.28   2.92   3.19   3.36   3.57   4.02   1784    1.0\n",
      "delta[10]            4.6    0.01   0.72   3.48   4.06   4.52   5.04   6.24   3470    1.0\n",
      "delta[11]           8.97    0.05   2.88   5.06   6.84   8.43   10.6  16.07   3647    1.0\n",
      "delta[12]          29.38    0.31  11.87  12.28  20.26  26.98   36.8  56.99   1451    1.0\n",
      "delta[13]          45.26    0.56  12.35  21.76   35.9  45.77  55.52  66.07    481   1.01\n",
      "delta[14]          54.11    0.55  10.91  29.79  46.52  56.33  63.07  68.99    394   1.01\n",
      "delta[15]           59.4    0.59  10.05   33.7  54.24  62.83   67.1  70.57    292   1.01\n",
      "delta[16]          63.02    0.57   9.27  37.46  59.94  66.74  69.47  71.46    264   1.01\n",
      "delta[17]          65.54    0.57   8.63  39.89  64.16  69.32  71.13  71.94    231   1.01\n",
      "lp__              -6.4e7    0.49  18.22 -6.4e7 -6.4e7 -6.4e7 -6.4e7 -6.4e7   1388    1.0\n",
      "\n",
      "Samples were drawn using NUTS at Tue Jun 23 01:13:03 2020.\n",
      "For each parameter, n_eff is a crude measure of effective sample size,\n",
      "and Rhat is the potential scale reduction factor on split chains (at \n",
      "convergence, Rhat=1).\n"
     ]
    },
    {
     "name": "stderr",
     "output_type": "stream",
     "text": [
      "WARNING:pystan:Maximum (flat) parameter count (1000) exceeded: skipping diagnostic tests for n_eff and Rhat.\n",
      "To run all diagnostics call pystan.check_hmc_diagnostics(fit)\n",
      "WARNING:pystan:1000 of 4000 iterations saturated the maximum tree depth of 10 (25 %)\n",
      "WARNING:pystan:Run again with max_treedepth larger than 10 to avoid saturation\n"
     ]
    },
    {
     "name": "stdout",
     "output_type": "stream",
     "text": [
      "s3 (m5 update)\n",
      "Inference for Stan model: s3.\n",
      "4 chains, each with iter=2000; warmup=1000; thin=1; \n",
      "post-warmup draws per chain=1000, total post-warmup draws=4000.\n",
      "\n",
      "                    mean se_mean     sd   2.5%    25%    50%    75%  97.5%  n_eff   Rhat\n",
      "delta_max          23.65    0.13   5.41  16.42  20.19  22.74  25.79  37.09   1724    1.0\n",
      "gamma_max           4.45  7.9e-3   0.32   4.06   4.25   4.39   4.57   5.28   1609    1.0\n",
      "rho_max             1.56  1.1e-3   0.06   1.44   1.52   1.56   1.61   1.69   3468    1.0\n",
      "E_star             86.27    0.54  22.52  54.35  71.25  82.56  96.72  143.6   1760    1.0\n",
      "sigma             393.42    0.29  22.75  350.1 377.81 393.32 408.63  439.1   6345    1.0\n",
      "divrate             0.61  6.5e-4   0.04   0.52   0.58   0.61   0.64    0.7   4563    1.0\n",
      "delta[1]          8.6e-3  9.4e-5 7.6e-3 2.5e-4 2.7e-3 6.6e-3   0.01   0.03   6540    1.0\n",
      "delta[2]            0.02  1.3e-4   0.01 2.8e-3 9.8e-3   0.02   0.02   0.04   6403    1.0\n",
      "delta[3]            0.03  1.5e-4   0.01 7.5e-3   0.02   0.03   0.03   0.05   5902    1.0\n",
      "delta[4]            0.04  1.8e-4   0.01   0.01   0.03   0.04   0.05   0.06   5437    1.0\n",
      "delta[5]            0.05  1.9e-4   0.01   0.02   0.04   0.05   0.06   0.08   5361    1.0\n",
      "delta[6]            0.06  1.9e-4   0.01   0.03   0.05   0.06   0.07   0.09   5607    1.0\n",
      "delta[7]            0.07  2.2e-4   0.02   0.04   0.06   0.07   0.08    0.1   4975    1.0\n",
      "delta[8]            0.08  2.3e-4   0.02   0.05   0.07   0.08   0.09   0.12   5464    1.0\n",
      "delta[9]             0.1  2.7e-4   0.02   0.06   0.08    0.1   0.11   0.14   4916    1.0\n",
      "delta[10]           0.12  3.1e-4   0.02   0.08    0.1   0.11   0.13   0.16   5186    1.0\n",
      "delta[11]           0.14  3.8e-4   0.03   0.09   0.12   0.14   0.16    0.2   5138    1.0\n",
      "delta[12]           0.18  5.5e-4   0.04   0.12   0.15   0.18    0.2   0.26   4483    1.0\n",
      "delta[13]           0.25  8.9e-4   0.06   0.16   0.21   0.25   0.28   0.37   3827    1.0\n",
      "delta[14]            0.4  1.3e-3   0.09   0.24   0.33   0.39   0.46    0.6   4745    1.0\n",
      "delta[15]           0.78  2.8e-3   0.19   0.46   0.65   0.78   0.91   1.18   4302    1.0\n",
      "delta[16]           1.48  5.4e-3   0.32   0.93   1.26   1.47   1.69   2.15   3388    1.0\n",
      "delta[17]           2.84  7.7e-3   0.49   1.93    2.5   2.83   3.18   3.81   3967    1.0\n",
      "delta[18]           4.27    0.01    0.9   2.88    3.6   4.14   4.78   6.43   4886    1.0\n",
      "delta[19]          17.89    0.08   4.06    8.5  15.49  18.25  20.59  25.12   2913    1.0\n",
      "delta[20]          23.65    0.13   5.41  16.42  20.19  22.74  25.79  37.09   1724    1.0\n",
      "lp__              -6.4e7    0.47  18.01 -6.4e7 -6.4e7 -6.4e7 -6.4e7 -6.4e7   1473    1.0\n",
      "\n",
      "Samples were drawn using NUTS at Tue Jun 23 02:02:09 2020.\n",
      "For each parameter, n_eff is a crude measure of effective sample size,\n",
      "and Rhat is the potential scale reduction factor on split chains (at \n",
      "convergence, Rhat=1).\n"
     ]
    }
   ],
   "source": [
    "import time\n",
    "refit_all = False\n",
    "\n",
    "def get_max_rhat(fit):\n",
    "    s = fit.summary()\n",
    "    irhat = s['summary_colnames'].index(\"Rhat\")\n",
    "    return np.nanmax(s['summary'][:,irhat])\n",
    "\n",
    "def get_mean_rhat(fit):\n",
    "    s = fit.summary()\n",
    "    irhat = s['summary_colnames'].index(\"Rhat\")\n",
    "    return np.nanmean(s['summary'][:,irhat])\n",
    "\n",
    "if 'maxrhats' not in globals():\n",
    "    maxrhats = {}\n",
    "if 'meanrhats' not in globals():\n",
    "    meanrhats = {}\n",
    "if 'sampling_time' not in globals():\n",
    "    sampling_time = {}\n",
    "\n",
    "    \n",
    "try_again = False\n",
    "\n",
    "# run a bunch of experiments -- this may take a while\n",
    "for name in models:\n",
    "    if name not in maxrhats:\n",
    "        maxrhats[name] = {}\n",
    "    if name not in meanrhats:\n",
    "        meanrhats[name] = {}\n",
    "    if name not in sampling_time:\n",
    "        sampling_time[name] = {}\n",
    "    for dataname in data:\n",
    "        if dataname not in maxrhats[name]:\n",
    "            maxrhats[name][dataname] = []\n",
    "        if dataname not in meanrhats[name]:\n",
    "            meanrhats[name][dataname] = []\n",
    "        if dataname not in sampling_time[name]:\n",
    "            sampling_time[name][dataname] = []\n",
    "        if name in mcmcs:\n",
    "            if dataname in mcmcs[name] and not refit_all and not refit_required[name]:\n",
    "                print('{} ({})'.format(name, desc_model[name])) \n",
    "                print('\\n'.join(x for x in mcmcs[name][dataname].__str__().split('\\n') if 'mod_obspos' not in x and 'theta' not in x and 'w_ini' not in x and 'incr' not in x))\n",
    "                rhat_max = get_max_rhat(mcmcs[name][dataname])\n",
    "                if try_again and rhat_max >= 1.1:\n",
    "                    print('{}: found Rhat={:.3f}, trying again'.format(name,rhat_max))\n",
    "                else:\n",
    "                    continue\n",
    "        else:\n",
    "            mcmcs[name] = {}\n",
    "        for itry in range(3):\n",
    "            t0 = time.time()\n",
    "            mcmcs[name][dataname] = models[name].sampling(data=data[dataname], iter=2000)\n",
    "            sampling_time[name][dataname].append(time.time() - t0) # in seconds\n",
    "            meanrhats[name][dataname].append(get_mean_rhat(mcmcs[name][dataname]))\n",
    "            # get max Rhat\n",
    "            rhat_max = get_max_rhat(mcmcs[name][dataname])\n",
    "            maxrhats[name][dataname].append(rhat_max)\n",
    "            if rhat_max < 1.1:\n",
    "                break\n",
    "            print('{}: in try {}/3 found Rhat={:.3f}, trying again'.format(name,itry+1,rhat_max))\n",
    "        print('{} ({})'.format(name, desc_model[name])) \n",
    "        print('\\n'.join(x for x in mcmcs[name][dataname].__str__().split('\\n') if 'mod_obspos' not in x and 'theta' not in x and 'w_ini' not in x and 'incr' not in x))"
   ]
  },
  {
   "cell_type": "markdown",
   "metadata": {},
   "source": [
    "## plot the results"
   ]
  },
  {
   "cell_type": "code",
   "execution_count": 7,
   "metadata": {},
   "outputs": [],
   "source": [
    "mpl.rcParams['axes.labelsize'] = 20\n",
    "mpl.rcParams['legend.fontsize'] = 16\n",
    "mpl.rcParams['axes.titlesize'] = 26\n",
    "mpl.rcParams['figure.figsize'] = (24,12)\n",
    "mpl.rcParams['xtick.labelsize'] = 16\n",
    "mpl.rcParams['ytick.labelsize'] = 16\n",
    "\n",
    "maxrhats_final = {name:{dataname:get_max_rhat(mcmcs[name][dataname]) for dataname in data} for name in mcmcs}        "
   ]
  },
  {
   "cell_type": "code",
   "execution_count": 8,
   "metadata": {
    "scrolled": false
   },
   "outputs": [
    {
     "data": {
      "image/png": "[encoded data removed]",
      "text/plain": [
       "<Figure size 1728x1296 with 2 Axes>"
      ]
     },
     "metadata": {
      "needs_background": "light"
     },
     "output_type": "display_data"
    }
   ],
   "source": [
    "ylim_top = 0\n",
    "for dataname in data:\n",
    "    for name in mcmcs:\n",
    "        ylim_top = max(ylim_top, len(maxrhats[name][dataname]))\n",
    "ylim_top += 1\n",
    "\n",
    "fig, axs = plt.subplots(nrows=2, figsize=(max(24,len(mcmcs)*4.5),2*9), sharey=True)\n",
    "\n",
    "xticks = ([],[])\n",
    "xticklabels = ([],[])\n",
    "\n",
    "for idata,dataname in enumerate(data):\n",
    "    if 'zinser' in dataname:\n",
    "        iax = 0\n",
    "    else:\n",
    "        iax = 1\n",
    "    \n",
    "    ax = axs[iax]\n",
    "    for i,name in enumerate(mcmcs):\n",
    "        \n",
    "        height_bad = sum(rh > 1.1 for rh in maxrhats[name][dataname])\n",
    "        height_good = len(maxrhats[name][dataname]) - height_bad\n",
    "        x = idata//2*len(mcmcs)+i\n",
    "        \n",
    "        ax.bar(x=x, height=height_bad, color='tab:red', label='max $\\\\\\\\hat{R}$ > 1.1')\n",
    "        ax.bar(x=x, height=height_good, bottom=height_bad, color='tab:green', label='max $\\\\hat{R} \\le$ 1.1')\n",
    "        xticks[iax].append(x)\n",
    "        xticklabels[iax].append(desc_model[name].replace(',',',\\n') + '\\ncount=\\n' + dataname.split()[1])\n",
    "\n",
    "for iax,ax in enumerate(axs.flat): \n",
    "    ax.set(ylabel='number of Stan sampling runs', xticks=xticks[iax], ylim=(0, ylim_top))\n",
    "    ax.set_title('convergence/$\\hat{{R}}$ statistics for {} dataset'.format(('Zinser','SeaFlow')[iax]), size=20)\n",
    "    ax.set_xticklabels(xticklabels[iax])#, rotation=8)\n",
    "    ax.grid(axis='y')\n",
    "\n",
    "None"
   ]
  },
  {
   "cell_type": "code",
   "execution_count": null,
   "metadata": {},
   "outputs": [],
   "source": []
  }
 ],
 "metadata": {
  "kernelspec": {
   "display_name": "Python 3",
   "language": "python",
   "name": "python3"
  },
  "language_info": {
   "codemirror_mode": {
    "name": "ipython",
    "version": 3
   },
   "file_extension": ".py",
   "mimetype": "text/x-python",
   "name": "python",
   "nbconvert_exporter": "python",
   "pygments_lexer": "ipython3",
   "version": "3.6.9"
  }
 },
 "nbformat": 4,
 "nbformat_minor": 2
}
