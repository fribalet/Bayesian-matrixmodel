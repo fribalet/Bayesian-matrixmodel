{
 "cells": [
  {
   "cell_type": "code",
   "execution_count": 3,
   "metadata": {},
   "outputs": [],
   "source": [
    "library(loo)\n",
    "library(ncdf4)\n",
    "#?loo"
   ]
  },
  {
   "cell_type": "code",
   "execution_count": 15,
   "metadata": {},
   "outputs": [],
   "source": [
    "#nc <- nc_open('d:/dropbox/working/bayesian_matrix_model/github/core_models_log_lik.nc')\n",
    "log <- ncvar_get(nc,'m4/log_lik')\n"
   ]
  },
  {
   "cell_type": "code",
   "execution_count": 23,
   "metadata": {},
   "outputs": [],
   "source": [
    "?kfold"
   ]
  },
  {
   "cell_type": "code",
   "execution_count": 21,
   "metadata": {},
   "outputs": [
    {
     "name": "stderr",
     "output_type": "stream",
     "text": [
      "Warning message:\n",
      "\"Relative effective sample sizes ('r_eff' argument) not specified.\n",
      "For models fit with MCMC, the reported PSIS effective sample sizes and \n",
      "MCSE estimates will be over-optimistic.\"Warning message:\n",
      "\"Some Pareto k diagnostic values are too high. See help('pareto-k-diagnostic') for details.\n",
      "\""
     ]
    },
    {
     "data": {
      "text/plain": [
       "\n",
       "Computed from 24 by 6000 log-likelihood matrix\n",
       "\n",
       "          Estimate    SE\n",
       "elpd_loo -586302.0 114.7\n",
       "p_loo      90018.0 170.8\n",
       "looic    1172604.0 229.3\n",
       "------\n",
       "Monte Carlo SE of elpd_loo is NA.\n",
       "\n",
       "Pareto k diagnostic values:\n",
       "                         Count Pct.    Min. n_eff\n",
       "(-Inf, 0.5]   (good)      339   5.7%   2         \n",
       " (0.5, 0.7]   (ok)        539   9.0%   2         \n",
       "   (0.7, 1]   (bad)      1338  22.3%   2         \n",
       "   (1, Inf)   (very bad) 3784  63.1%   1         \n",
       "See help('pareto-k-diagnostic') for details."
      ]
     },
     "metadata": {},
     "output_type": "display_data"
    }
   ],
   "source": [
    "loo(ncvar_get(nc,'m4/log_lik'))"
   ]
  },
  {
   "cell_type": "code",
   "execution_count": 25,
   "metadata": {},
   "outputs": [
    {
     "name": "stderr",
     "output_type": "stream",
     "text": [
      "Warning message:\n",
      "\"\n",
      "6000 (100.0%) p_waic estimates greater than 0.4. We recommend trying loo instead.\""
     ]
    },
    {
     "data": {
      "text/plain": [
       "\n",
       "Computed from 24 by 6000 log-likelihood matrix\n",
       "\n",
       "           Estimate     SE\n",
       "elpd_waic -726039.6  620.0\n",
       "p_waic     229755.5  670.2\n",
       "waic      1452079.2 1240.0\n",
       "\n",
       "6000 (100.0%) p_waic estimates greater than 0.4. We recommend trying loo instead. "
      ]
     },
     "metadata": {},
     "output_type": "display_data"
    }
   ],
   "source": [
    "waic(ncvar_get(nc,'m4/log_lik'))"
   ]
  }
 ],
 "metadata": {
  "kernelspec": {
   "display_name": "R",
   "language": "R",
   "name": "ir"
  },
  "language_info": {
   "codemirror_mode": "r",
   "file_extension": ".r",
   "mimetype": "text/x-r-source",
   "name": "R",
   "pygments_lexer": "r",
   "version": "3.6.1"
  }
 },
 "nbformat": 4,
 "nbformat_minor": 2
}
