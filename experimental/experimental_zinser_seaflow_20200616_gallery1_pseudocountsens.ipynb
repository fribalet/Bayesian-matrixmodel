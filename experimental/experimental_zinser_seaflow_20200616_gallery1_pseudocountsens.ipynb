{
 "cells": [
  {
   "cell_type": "markdown",
   "metadata": {},
   "source": [
    "# sensitvity to value of pseudo-count\n",
    " * testing the convergence of model `m5` for different pseudo-count values\n",
    " \n",
    "### general information about the different growth/respiration versions\n",
    "\n",
    " * for the functional form of the different size-dependent growth and respiration formulations see [this notebook](sizedep_formulations.ipynb) "
   ]
  },
  {
   "cell_type": "markdown",
   "metadata": {},
   "source": [
    "## load data from files and plot"
   ]
  },
  {
   "cell_type": "code",
   "execution_count": 1,
   "metadata": {},
   "outputs": [],
   "source": [
    "#%matplotlib notebook\n",
    "import netCDF4 as nc4\n",
    "import numpy as np\n",
    "\n",
    "num_pseudocounts = [100, 1000, 10_000, 100_000, 1_000_000]\n",
    "\n",
    "# load data\n",
    "datafiles = {}\n",
    "desc = {}\n",
    "\n",
    "for npc in num_pseudocounts:\n",
    "    datafiles['seaflow '+str(npc)] = 'data/SeaFlow_SizeDist_regrid-25-8.nc'\n",
    "    desc['seaflow '+str(npc)] = 'SeaFlow dataset (pseudo count {})'.format(npc)\n",
    "    datafiles['zinser '+str(npc)] = 'data/Zinser_SizeDist_calibrated-26-6.nc'\n",
    "    desc['zinser '+str(npc)] = 'Zinser dataset (pseudo count {})'.format(npc)\n",
    "    \n",
    "itestfiles = {k:'data/Zinser_SizeDist_calibrated-26-6-itest.csv' for k in datafiles}\n",
    "\n",
    "data_gridded = {}\n",
    "for dataname in datafiles:\n",
    "    data_gridded[dataname] = {}\n",
    "    with nc4.Dataset(datafiles[dataname]) as nc:\n",
    "        for var in nc.variables:\n",
    "            data_gridded[dataname][var] = nc.variables[var][:]\n",
    "    desc[dataname] += ' (m={data[m]}, $\\Delta_v^{{-1}}$={data[delta_v_inv]})'.format(data=data_gridded[dataname])"
   ]
  },
  {
   "cell_type": "code",
   "execution_count": 2,
   "metadata": {
    "scrolled": false
   },
   "outputs": [],
   "source": [
    "import matplotlib.pyplot as plt\n",
    "import matplotlib as mpl\n",
    "from mpl_toolkits.axes_grid1.inset_locator import inset_axes\n",
    "\n",
    "def add_colorbar(ax, **cbarargs):\n",
    "    axins_cbar = inset_axes(ax, width='3%', height='90%', loc=5, bbox_to_anchor=(0.05,0.0,1,1), bbox_transform=ax.transAxes)\n",
    "    mpl.colorbar.ColorbarBase(axins_cbar, orientation='vertical', **cbarargs)\n",
    "'''\n",
    "for i,dataname in enumerate(data_gridded):\n",
    "    nrows = 2\n",
    "    fig,axs = plt.subplots(nrows=nrows, sharex=True, figsize=(12,4*nrows))\n",
    "    axs[0].set_title('raw data', size=20)\n",
    "    \n",
    "    ax = axs[0]\n",
    "    ax.plot(data_gridded[dataname]['time'], data_gridded[dataname]['PAR'], color='gold')\n",
    "    ax.set(ylabel='PAR')\n",
    "\n",
    "    v_min = data_gridded[dataname]['v_min']\n",
    "    delta_v = 1.0/data_gridded[dataname]['delta_v_inv']\n",
    "    v = v_min * 2**(np.arange(data_gridded[dataname]['m'])*delta_v) \n",
    "    \n",
    "    ax = axs[1]\n",
    "    pc = ax.pcolormesh(data_gridded[dataname]['time'],v,data_gridded[dataname]['w_obs'])\n",
    "    ax.set(ylabel='size ($\\mu$m$^3$)')\n",
    "    ax.text(0.01, 0.95, desc[dataname], color='white', size=16, transform=ax.transAxes, ha='left', va='top')\n",
    "    add_colorbar(ax, norm=pc.norm, cmap=pc.cmap, label='size class proportion')\n",
    "axs[-1].set_xlabel=('time (minutes)')\n",
    "'''\n",
    "None"
   ]
  },
  {
   "cell_type": "markdown",
   "metadata": {},
   "source": [
    "## process data and plot it"
   ]
  },
  {
   "cell_type": "code",
   "execution_count": 3,
   "metadata": {},
   "outputs": [
    {
     "name": "stdout",
     "output_type": "stream",
     "text": [
      "for \"seaflow 100\" psc=100\n",
      "for \"zinser 100\" psc=100\n",
      "for \"seaflow 1000\" psc=1000\n",
      "for \"zinser 1000\" psc=1000\n",
      "for \"seaflow 10000\" psc=10000\n",
      "for \"zinser 10000\" psc=10000\n",
      "for \"seaflow 100000\" psc=100000\n",
      "for \"zinser 100000\" psc=100000\n",
      "for \"seaflow 1000000\" psc=1000000\n",
      "for \"zinser 1000000\" psc=1000000\n"
     ]
    }
   ],
   "source": [
    "# prepare data for Stan model\n",
    "\n",
    "if 'data' not in globals():\n",
    "    data = {}\n",
    "if 'mcmcs' not in globals():\n",
    "    mcmcs = {}\n",
    "if 'models' not in globals():\n",
    "    models = {}\n",
    "\n",
    "for dataname in data_gridded:\n",
    "    dt = 20 # in units of minutes\n",
    "    \n",
    "    data[dataname] = {'dt':dt}\n",
    "    for v in ('m','v_min','delta_v_inv'):\n",
    "        data[dataname][v] = data_gridded[dataname][v]\n",
    "\n",
    "    if 'seaflow' in dataname:\n",
    "        limit_days = 1\n",
    "        \n",
    "        # new: average SeaFlow data in hourly bins\n",
    "        binsize = 60 # in minutes\n",
    "        numbins = int(np.ceil(data_gridded[dataname]['time'][-1]/binsize))\n",
    "        \n",
    "        data[dataname]['obs'] = np.full((data[dataname]['m'],numbins), fill_value=np.nan)\n",
    "        data[dataname]['t_obs'] = np.full(numbins, fill_value=np.nan)\n",
    "        \n",
    "        i = 0\n",
    "        for ibin in range(numbins):\n",
    "            binind = np.logical_and(data_gridded[dataname]['time'] >= ibin*binsize,\n",
    "                                    data_gridded[dataname]['time'] < (ibin+1)*binsize)\n",
    "            if np.any(binind):\n",
    "                # TODO we may want to make this a sum when dealing with counts\n",
    "                data[dataname]['obs'][:,i] = np.mean(data_gridded[dataname]['w_obs'][:,binind], axis=1)\n",
    "                data[dataname]['t_obs'][i] = (ibin+0.5) * binsize\n",
    "                i += 1\n",
    "        \n",
    "        data[dataname]['obs'] = data[dataname]['obs'][:,:i]\n",
    "        data[dataname]['t_obs'] = data[dataname]['t_obs'][:i]\n",
    "        \n",
    "        # median filter PAR\n",
    "        # see: medianfilter_par.ipynb\n",
    "        n = len(data_gridded[dataname]['PAR'])\n",
    "        wsh = 30 # half of median filter window size; window size is 2*wsh+1\n",
    "        par = np.array([np.median(data_gridded[dataname]['PAR'][max(0,i-wsh):min(n,i+wsh+1)]) for i in range(n)])\n",
    "    else:\n",
    "        limit_days = 2\n",
    "        \n",
    "        data[dataname]['obs'] = data_gridded[dataname]['w_obs']\n",
    "        data[dataname]['t_obs'] = data_gridded[dataname]['time']\n",
    "        par = data_gridded[dataname]['PAR']\n",
    "        \n",
    "    if limit_days > 0:\n",
    "        limit_minutes = limit_days*1440\n",
    "        \n",
    "        ind_obs = data[dataname]['t_obs'] < limit_minutes\n",
    "        data[dataname]['t_obs'] = data[dataname]['t_obs'][ind_obs]\n",
    "        data[dataname]['obs'] = data[dataname]['obs'][:,ind_obs]\n",
    "        \n",
    "        data[dataname]['nt'] = int(limit_minutes//data[dataname]['dt'])\n",
    "\n",
    "    data[dataname]['nt_obs'] = data[dataname]['t_obs'].size\n",
    "    \n",
    "    ## load cross-validation testing indices and add them to data\n",
    "    #data[dataname]['i_test'] = np.loadtxt(itestfiles[dataname]).astype(int)\n",
    "    ## remove last index, so that dimensions agree\n",
    "    #data[dataname]['i_test'] = data[dataname]['i_test'][:-1]\n",
    "    \n",
    "    # set all indices to zero\n",
    "    data[dataname]['i_test'] = np.zeros(data[dataname]['nt_obs'], dtype=int)\n",
    "    \n",
    "    # add light data\n",
    "    t = np.arange(data[dataname]['nt'])*data[dataname]['dt']\n",
    "    data[dataname]['E'] = np.interp(t, xp=data_gridded[dataname]['time'], fp=par)\n",
    "    \n",
    "    # for now, add pseudo-count data\n",
    "    \n",
    "    psc = int(dataname.split()[1])\n",
    "    print('for \"{}\" psc={}'.format(dataname, psc))\n",
    "    data[dataname]['obs_count'] = (psc*data[dataname]['obs']).astype(int)\n",
    "    \n",
    "    # consistency check\n",
    "    if len(data[dataname]['i_test']) != data[dataname]['nt_obs']:\n",
    "        raise ValueError('Invalid number of testing indices for \"{}\" (expected {}, got {}).'.format(dataname,data[dataname]['nt_obs'],len(data[dataname]['i_test'])))"
   ]
  },
  {
   "cell_type": "code",
   "execution_count": 4,
   "metadata": {},
   "outputs": [],
   "source": [
    "'''\n",
    "for i,dataname in enumerate(data):\n",
    "    nrows = 2\n",
    "    fig,axs = plt.subplots(nrows=nrows, sharex=True, figsize=(12,4*nrows))\n",
    "    axs[0].set_title('processed data', size=20)\n",
    "    \n",
    "    ax = axs[0]\n",
    "    t = np.arange(data[dataname]['nt'])*data[dataname]['dt']\n",
    "    ax.plot(t, data[dataname]['E'], color='gold')\n",
    "    ax.set(ylabel='E')\n",
    "\n",
    "    v_min = data[dataname]['v_min']\n",
    "    delta_v = 1.0/data[dataname]['delta_v_inv']\n",
    "    v = v_min * 2**(np.arange(data[dataname]['m'])*delta_v) \n",
    "    \n",
    "    ax = axs[1]\n",
    "    pc = ax.pcolormesh(data[dataname]['t_obs'],v,data[dataname]['obs'])\n",
    "    ax.set(ylabel='size ($\\mu$m$^3$)')\n",
    "    ax.text(0.01, 0.95, desc[dataname], color='white', size=16, transform=ax.transAxes, ha='left', va='top')\n",
    "    add_colorbar(ax, norm=pc.norm, cmap=pc.cmap, label='size class proportion')\n",
    "    ax.set_xlim(left=0.0)\n",
    "axs[-1].set_xlabel('time (minutes)')\n",
    "'''\n",
    "None"
   ]
  },
  {
   "cell_type": "markdown",
   "metadata": {},
   "source": [
    "## run model"
   ]
  },
  {
   "cell_type": "code",
   "execution_count": 5,
   "metadata": {},
   "outputs": [
    {
     "name": "stderr",
     "output_type": "stream",
     "text": [
      "INFO:pystan:COMPILING THE C++ CODE FOR MODEL s1 NOW.\n"
     ]
    },
    {
     "name": "stdout",
     "output_type": "stream",
     "text": [
      "s1: compiling\n"
     ]
    },
    {
     "name": "stderr",
     "output_type": "stream",
     "text": [
      "INFO:pystan:COMPILING THE C++ CODE FOR MODEL s2 NOW.\n"
     ]
    },
    {
     "name": "stdout",
     "output_type": "stream",
     "text": [
      "s2: compiling\n"
     ]
    }
   ],
   "source": [
    "import pystan\n",
    "import re\n",
    "\n",
    "desc_model = {\n",
    "    's1':'m5',\n",
    "    's2':'m5 mlmn',\n",
    "}\n",
    "# preparing for some regular expression magic\n",
    "model_code_replacements = {\n",
    "    's1':(),\n",
    "    's2':(),\n",
    "    's3':(),\n",
    "    's4':(),\n",
    "    's5':(),\n",
    "    's6':(),\n",
    "    's7':(),\n",
    "    's8':(),\n",
    "    's9':(),\n",
    "}\n",
    "model_stan_key = {\n",
    "    's1':'c5',\n",
    "    's2':'c5mlmn',\n",
    "}\n",
    "stan_files = {\n",
    "    'c1':'stancode_gallery1/matrixmodel_multinom_estinilnorm_freedelta_normparam_trackgrowth_xval.stan',\n",
    "    'c2':'stancode_gallery1/matrixmodel_multinom_estinilnorm_monodelta_normparam_trackgrowth_xval.stan',\n",
    "    'c3':'stancode_gallery1/matrixmodel_multinom_estinilnorm_monodelta_gammaiv6_normparam_trackgrowth_xval.stan',\n",
    "    'c4':'stancode_gallery1/matrixmodel_multinom_estinilnorm_monodelta_respv1_normparam_trackgrowth_xval.stan',\n",
    "    'c5':'stancode_gallery1/matrixmodel_multinom_estinilnorm_monodelta_respv2_normparam_trackgrowth_xval.stan',\n",
    "    'c5mlmn':'stancode_gallery1/mlmn_version/matrixmodel_mlmultinom_estinilnorm_monodelta_respv2_normparam_trackgrowth_xval.stan',\n",
    "    'c6':'stancode_gallery1/matrixmodel_multinom_estinilnorm_monodelta_respiv6_normparam_trackgrowth_xval.stan',\n",
    "    'c7':'stancode_gallery1/matrixmodel_multinom_estinilnorm_monodelta_respiv7_normparam_trackgrowth_xval.stan',\n",
    "    'c8':'stancode_gallery1/matrixmodel_multinom_estinilnorm_monodelta-lightsig_respiv6_normparam_trackgrowth_xval.stan',\n",
    "    'c9':'stancode_gallery1/matrixmodel_multinom_estinilnorm_monodelta-lightsig_respiv7_normparam_trackgrowth_xval.stan',\n",
    "    'c10':'stancode_gallery1/matrixmodel_multinom_estinilnorm_monodelta-lightsig_respv2_normparam_trackgrowth_xval.stan',\n",
    "    'c56':'stancode/matrixmodel_multinom_estinilnorm_monodelta_resp_gammaiv6_normparam_trackgrowth_xval.stan',\n",
    "    'c57':'stancode/matrixmodel_multinom_estinilnorm_monodelta_resp_gammaiv7_normparam_trackgrowth_xval.stan',\n",
    "}\n",
    "\n",
    "refit_required = {}\n",
    "stan_base_code = {}\n",
    "for key,stan_file in stan_files.items():\n",
    "    with open(stan_file) as f:\n",
    "        stan_base_code[key] = f.read()\n",
    "\n",
    "stan_code = {}\n",
    "for name in desc_model:\n",
    "    code_split = stan_base_code[model_stan_key[name]].split('\\n')\n",
    "    code_split_new = []\n",
    "    for line in code_split:\n",
    "        line_new = line\n",
    "        for replacement in model_code_replacements[name]:\n",
    "            m = re.match(replacement[0],line_new)\n",
    "            if m:\n",
    "                line_new = m.groups(0)[0]+replacement[1]\n",
    "                print('{}: patching in \"{}\"'.format(name, line_new))\n",
    "        code_split_new.append(line_new)\n",
    "                \n",
    "    stan_code[name] = '\\n'.join(code_split_new)\n",
    "\n",
    "for name in desc_model:\n",
    "    refit_required[name] = True\n",
    "    if name in models and models[name].model_code == stan_code[name]:\n",
    "        print('{}: unchanged code, not recompiling'.format(name))\n",
    "        refit_required[name] = False\n",
    "    else:\n",
    "        if name in models:\n",
    "            print('{}: code change detected, recompiling'.format(name))\n",
    "        else:\n",
    "            print('{}: compiling'.format(name))\n",
    "        models[name] = pystan.StanModel(model_code=stan_code[name], model_name=name, obfuscate_model_name=False)"
   ]
  },
  {
   "cell_type": "code",
   "execution_count": 6,
   "metadata": {
    "scrolled": false
   },
   "outputs": [
    {
     "name": "stderr",
     "output_type": "stream",
     "text": [
      "WARNING:pystan:576 of 4000 iterations ended with a divergence (14.4 %).\n",
      "WARNING:pystan:Try running with adapt_delta larger than 0.8 to remove the divergences.\n"
     ]
    },
    {
     "name": "stdout",
     "output_type": "stream",
     "text": [
      "s1 (m5)\n",
      "Inference for Stan model: s1.\n",
      "4 chains, each with iter=2000; warmup=1000; thin=1; \n",
      "post-warmup draws per chain=1000, total post-warmup draws=4000.\n",
      "\n",
      "                     mean se_mean     sd   2.5%    25%    50%    75%  97.5%  n_eff   Rhat\n",
      "delta_lambda         0.51  4.6e-3    0.2   0.22   0.36   0.48   0.61   0.98   1850    1.0\n",
      "gamma_max            1.73    0.01   0.44   1.25   1.45   1.59   1.86   2.91   1297    1.0\n",
      "rho_max              0.03  4.2e-4   0.02 1.1e-3 9.8e-3   0.02   0.04   0.09   3237    1.0\n",
      "E_star             702.02   19.82 686.51  20.74 151.46 478.02 1049.6 2481.6   1200    1.0\n",
      "divrate              0.77  1.2e-3   0.06   0.64   0.72   0.76   0.81    0.9   2878    1.0\n",
      "delta_max[1]         0.02  3.5e-4   0.02 7.2e-4 7.4e-3   0.02   0.03   0.08   3903    1.0\n",
      "delta_max[2]         1.04  4.0e-3   0.18   0.71   0.92   1.04   1.16   1.41   1909    1.0\n",
      "delta_max[3]         1.42  4.0e-3   0.21   1.04   1.26    1.4   1.56   1.85   2806    1.0\n",
      "delta_max[4]         1.98  5.5e-3   0.28   1.46   1.79   1.97   2.16   2.57   2617    1.0\n",
      "delta_max[5]         2.64  7.5e-3   0.39   1.95   2.36   2.61   2.89   3.47   2703    1.0\n",
      "delta_max[6]          3.4  8.7e-3    0.5   2.49   3.04   3.37   3.73   4.44   3251    1.0\n",
      "delta_max[7]         4.44    0.01   0.71   3.23   3.93   4.36   4.87   5.99   3386    1.0\n",
      "delta_max[8]         5.86    0.02   1.13    4.0   5.05   5.75   6.55   8.34   3664    1.0\n",
      "delta_max[9]         9.17    0.05   2.46   5.38   7.37    8.8  10.62  14.74   2833    1.0\n",
      "delta_max[10]       16.83    0.14   5.87   8.83  12.65  15.68  19.77  31.53   1719    1.0\n",
      "delta_max[11]       20.73    0.16   6.86  10.97  15.81   19.4  24.34  37.41   1917    1.0\n",
      "delta_max[12]       23.77    0.18   7.69  12.55  18.27  22.43  27.92  42.91   1824    1.0\n",
      "delta_max[13]       26.36    0.21   8.51  13.67   20.2  24.94  31.05  46.82   1644    1.0\n",
      "delta_max[14]       28.78    0.23   9.36   14.8  21.93  27.26  34.07  51.92   1606    1.0\n",
      "delta_max[15]       31.01    0.25   10.1  15.85  23.43  29.43  36.96  55.33   1615    1.0\n",
      "delta_max[16]       33.32    0.27  11.02  16.88  25.09  31.48  39.64  59.88   1613    1.0\n",
      "delta_max[17]       35.62     0.3  11.87  17.97  26.77  33.56  42.76  63.84   1530    1.0\n",
      "lp__                -5617    0.11    3.8  -5625  -5619  -5617  -5614  -5611   1252    1.0\n",
      "\n",
      "Samples were drawn using NUTS at Tue Jun 16 06:52:59 2020.\n",
      "For each parameter, n_eff is a crude measure of effective sample size,\n",
      "and Rhat is the potential scale reduction factor on split chains (at \n",
      "convergence, Rhat=1).\n",
      "s1 (m5)\n",
      "Inference for Stan model: s1.\n",
      "4 chains, each with iter=2000; warmup=1000; thin=1; \n",
      "post-warmup draws per chain=1000, total post-warmup draws=4000.\n",
      "\n",
      "                     mean se_mean     sd   2.5%    25%    50%    75%  97.5%  n_eff   Rhat\n",
      "delta_lambda         1.34  6.3e-3   0.37   0.72   1.08   1.31   1.55   2.18   3506    1.0\n",
      "gamma_max            4.92    0.04   0.91   4.12   4.39   4.62   5.07   7.96    640    1.0\n",
      "rho_max               1.5  2.6e-3   0.11   1.28   1.43    1.5   1.58   1.74   1903    1.0\n",
      "E_star              95.17    2.18  57.56   35.2  58.02  78.12 110.53 271.11    699    1.0\n",
      "divrate              0.76  1.2e-3   0.08   0.62   0.71   0.76   0.81   0.91   4192    1.0\n",
      "delta_max[1]       5.5e-3  7.3e-5 5.3e-3 1.8e-4 1.7e-3 3.8e-3 7.6e-3   0.02   5340    1.0\n",
      "delta_max[2]         0.01  1.1e-4 7.6e-3 1.6e-3 5.6e-3 9.5e-3   0.02   0.03   4867    1.0\n",
      "delta_max[3]         0.02  1.4e-4 9.3e-3 3.9e-3   0.01   0.02   0.02   0.04   4789    1.0\n",
      "delta_max[4]         0.02  1.6e-4   0.01 7.2e-3   0.02   0.02   0.03   0.05   5036    1.0\n",
      "delta_max[5]         0.03  1.9e-4   0.01   0.01   0.02   0.03   0.04   0.06   4843    1.0\n",
      "delta_max[6]         0.04  2.1e-4   0.02   0.02   0.03   0.04   0.05   0.08   5489    1.0\n",
      "delta_max[7]         0.05  2.8e-4   0.02   0.02   0.04   0.05   0.06    0.1   4714    1.0\n",
      "delta_max[8]         0.07  3.4e-4   0.02   0.03   0.05   0.07   0.08   0.12   4564    1.0\n",
      "delta_max[9]         0.09  4.1e-4   0.03   0.04   0.07   0.09   0.11   0.15   4601    1.0\n",
      "delta_max[10]        0.12  5.7e-4   0.04   0.06   0.09   0.12   0.14    0.2   4339    1.0\n",
      "delta_max[11]        0.17  7.6e-4   0.05   0.09   0.13   0.17    0.2   0.28   4403    1.0\n",
      "delta_max[12]        0.25  1.0e-3   0.07   0.13    0.2   0.24   0.29    0.4   4740    1.0\n",
      "delta_max[13]        0.37  1.4e-3    0.1    0.2    0.3   0.36   0.43   0.57   4504    1.0\n",
      "delta_max[14]        0.56  2.2e-3   0.15   0.31   0.45   0.54   0.65    0.9   4682    1.0\n",
      "delta_max[15]        0.94  4.9e-3   0.29   0.49   0.73   0.91   1.12    1.6   3487    1.0\n",
      "delta_max[16]        1.91  9.9e-3   0.55   0.98    1.5   1.87   2.28   3.08   3104    1.0\n",
      "delta_max[17]        3.88    0.02   0.95   2.24   3.17   3.83   4.53   5.83   2695    1.0\n",
      "delta_max[18]        6.94    0.03    1.6   4.18   5.76   6.81    8.0  10.21   3439    1.0\n",
      "delta_max[19]       11.09    0.03   2.09   7.53   9.64   10.9  12.35  15.71   3611    1.0\n",
      "delta_max[20]       13.17    0.04   2.59   9.04  11.32  12.87  14.74  19.06   3497    1.0\n",
      "lp__                -5517    0.13   4.09  -5526  -5520  -5517  -5514  -5510    942    1.0\n",
      "\n",
      "Samples were drawn using NUTS at Tue Jun 16 07:02:51 2020.\n",
      "For each parameter, n_eff is a crude measure of effective sample size,\n",
      "and Rhat is the potential scale reduction factor on split chains (at \n",
      "convergence, Rhat=1).\n"
     ]
    },
    {
     "name": "stderr",
     "output_type": "stream",
     "text": [
      "WARNING:pystan:Rhat above 1.1 or below 0.9 indicates that the chains very likely have not mixed\n",
      "WARNING:pystan:3173 of 4000 iterations ended with a divergence (79.3 %).\n",
      "WARNING:pystan:Try running with adapt_delta larger than 0.8 to remove the divergences.\n"
     ]
    },
    {
     "name": "stdout",
     "output_type": "stream",
     "text": [
      "s1: in try 1/3 found Rhat=1.144, trying again\n"
     ]
    },
    {
     "name": "stderr",
     "output_type": "stream",
     "text": [
      "WARNING:pystan:Rhat above 1.1 or below 0.9 indicates that the chains very likely have not mixed\n",
      "WARNING:pystan:3405 of 4000 iterations ended with a divergence (85.1 %).\n",
      "WARNING:pystan:Try running with adapt_delta larger than 0.8 to remove the divergences.\n"
     ]
    },
    {
     "name": "stdout",
     "output_type": "stream",
     "text": [
      "s1: in try 2/3 found Rhat=1.151, trying again\n"
     ]
    },
    {
     "name": "stderr",
     "output_type": "stream",
     "text": [
      "WARNING:pystan:Rhat above 1.1 or below 0.9 indicates that the chains very likely have not mixed\n",
      "WARNING:pystan:3129 of 4000 iterations ended with a divergence (78.2 %).\n",
      "WARNING:pystan:Try running with adapt_delta larger than 0.8 to remove the divergences.\n"
     ]
    },
    {
     "name": "stdout",
     "output_type": "stream",
     "text": [
      "s1: in try 3/3 found Rhat=1.172, trying again\n",
      "s1 (m5)\n",
      "Inference for Stan model: s1.\n",
      "4 chains, each with iter=2000; warmup=1000; thin=1; \n",
      "post-warmup draws per chain=1000, total post-warmup draws=4000.\n",
      "\n",
      "                     mean se_mean     sd   2.5%    25%    50%    75%  97.5%  n_eff   Rhat\n",
      "delta_lambda          0.3  4.6e-3   0.08   0.17   0.24   0.29   0.35   0.49    332   1.01\n",
      "gamma_max            1.39  1.7e-3   0.04   1.31   1.36   1.39   1.41   1.47    627    1.0\n",
      "rho_max              0.01  5.2e-4   0.01 4.4e-4 4.8e-310.0e-3   0.02   0.04    385   1.01\n",
      "E_star              39.03    5.64  29.97   0.18   9.15  39.43   59.0 102.52     28   1.13\n",
      "divrate              0.78  4.2e-3   0.03   0.73   0.76   0.77   0.79   0.83     39   1.11\n",
      "delta_max[1]         0.18  1.3e-3   0.03   0.13   0.16   0.18   0.19   0.23    396   1.01\n",
      "delta_max[2]         1.22  9.3e-3   0.08   1.09   1.17   1.22   1.28   1.38     66   1.07\n",
      "delta_max[3]         1.49  8.6e-3   0.08   1.34   1.44   1.49   1.54   1.66     91   1.06\n",
      "delta_max[4]         2.07  7.4e-3   0.11   1.86   1.99   2.06   2.14    2.3    229   1.04\n",
      "delta_max[5]         2.51    0.01   0.14   2.24   2.41    2.5    2.6    2.8    179   1.03\n",
      "delta_max[6]         2.85    0.01   0.14   2.59   2.76   2.85   2.95   3.14    118   1.05\n",
      "delta_max[7]         2.99    0.02   0.14   2.71   2.89   2.98   3.08   3.29     84   1.05\n",
      "delta_max[8]         3.12    0.01   0.16   2.81   3.01   3.12   3.22   3.45    171   1.03\n",
      "delta_max[9]         3.36    0.01   0.23   2.95    3.2   3.35   3.51   3.88    275   1.03\n",
      "delta_max[10]        4.64    0.04   0.55   3.63   4.25   4.61    5.0   5.78    188   1.02\n",
      "delta_max[11]        6.27    0.03   0.77   4.95   5.72   6.21   6.76   7.95    523   1.01\n",
      "delta_max[12]       10.03    0.07   1.58   7.27   8.91   9.94  11.04  13.41    577   1.01\n",
      "delta_max[13]       41.33    0.24   6.25  29.07  36.99  41.33  45.66  53.66    666    1.0\n",
      "delta_max[14]       48.05    0.28    7.1  34.78  42.96  47.89  53.04  62.06    635   1.01\n",
      "delta_max[15]       52.01    0.31   7.65  37.25  46.49  51.91  57.74  65.66    600    1.0\n",
      "delta_max[16]       55.55    0.44   8.24  39.19  49.61  56.04  61.97   69.2    347   1.01\n",
      "delta_max[17]       58.71    0.46   8.48   41.1  52.45  59.71  65.76  71.33    345   1.01\n",
      "lp__               -6.3e4    0.18   3.81 -6.3e4 -6.3e4 -6.3e4 -6.3e4 -6.3e4    429   1.01\n",
      "\n",
      "Samples were drawn using NUTS at Tue Jun 16 07:07:05 2020.\n",
      "For each parameter, n_eff is a crude measure of effective sample size,\n",
      "and Rhat is the potential scale reduction factor on split chains (at \n",
      "convergence, Rhat=1).\n"
     ]
    },
    {
     "name": "stderr",
     "output_type": "stream",
     "text": [
      "WARNING:pystan:1 of 4000 iterations ended with a divergence (0.025 %).\n",
      "WARNING:pystan:Try running with adapt_delta larger than 0.8 to remove the divergences.\n"
     ]
    },
    {
     "name": "stdout",
     "output_type": "stream",
     "text": [
      "s1 (m5)\n",
      "Inference for Stan model: s1.\n",
      "4 chains, each with iter=2000; warmup=1000; thin=1; \n",
      "post-warmup draws per chain=1000, total post-warmup draws=4000.\n",
      "\n",
      "                     mean se_mean     sd   2.5%    25%    50%    75%  97.5%  n_eff   Rhat\n",
      "delta_lambda          1.5  5.4e-3   0.36   0.91   1.24   1.47   1.72   2.28   4412    1.0\n",
      "gamma_max            4.35  2.4e-3   0.12   4.15   4.27   4.34   4.43   4.61   2365    1.0\n",
      "rho_max              1.51  6.5e-4   0.04   1.44   1.48   1.51   1.53   1.58   3208    1.0\n",
      "E_star              74.56     0.2   9.78  55.76  67.97  74.26   80.7  95.63   2323    1.0\n",
      "divrate              0.69  4.2e-4   0.03   0.64   0.67   0.69   0.71   0.75   4439    1.0\n",
      "delta_max[1]         0.07  4.1e-4   0.02   0.03   0.06   0.07   0.09   0.11   2719    1.0\n",
      "delta_max[2]          0.1  2.1e-4   0.01   0.07   0.09    0.1   0.11   0.12   4412    1.0\n",
      "delta_max[3]         0.11  1.7e-4   0.01   0.09    0.1   0.11   0.12   0.13   4457    1.0\n",
      "delta_max[4]         0.12  1.5e-4 9.8e-3    0.1   0.11   0.12   0.12   0.14   4528    1.0\n",
      "delta_max[5]         0.13  1.4e-4 9.4e-3   0.11   0.12   0.13   0.13   0.14   4333    1.0\n",
      "delta_max[6]         0.13  1.4e-4 9.3e-3   0.11   0.12   0.13   0.14   0.15   4520    1.0\n",
      "delta_max[7]         0.14  1.4e-4 9.5e-3   0.12   0.13   0.14   0.14   0.16   4720    1.0\n",
      "delta_max[8]         0.14  1.5e-4   0.01   0.12   0.14   0.14   0.15   0.16   4780    1.0\n",
      "delta_max[9]         0.15  1.7e-4   0.01   0.13   0.14   0.15   0.16   0.17   4627    1.0\n",
      "delta_max[10]        0.16  1.9e-4   0.01   0.14   0.15   0.16   0.17   0.19   4716    1.0\n",
      "delta_max[11]        0.18  2.5e-4   0.02   0.15   0.16   0.17   0.19   0.21   4839    1.0\n",
      "delta_max[12]         0.2  3.9e-4   0.03   0.16   0.19    0.2   0.22   0.27   4800    1.0\n",
      "delta_max[13]        0.27  9.8e-4   0.05   0.19   0.24   0.27   0.31   0.39   2823    1.0\n",
      "delta_max[14]        0.51  2.1e-3    0.1   0.33   0.44   0.51   0.57    0.7   2043    1.0\n",
      "delta_max[15]        0.92  2.9e-3   0.16   0.63    0.8   0.91   1.03   1.25   3007    1.0\n",
      "delta_max[16]         1.7  5.1e-3   0.27    1.2   1.51   1.69   1.87   2.24   2707    1.0\n",
      "delta_max[17]        3.49  7.5e-3   0.39   2.68   3.24    3.5   3.76   4.24   2728    1.0\n",
      "delta_max[18]         4.6    0.01   0.55   3.62    4.2   4.56   4.96   5.72   2855    1.0\n",
      "delta_max[19]        6.94    0.03   1.28   4.97   5.91   6.78   7.88   9.54   2302    1.0\n",
      "delta_max[20]       11.05    0.02   1.24   8.94  10.14  10.96  11.85  13.63   2961    1.0\n",
      "lp__               -6.3e4     0.1   3.98 -6.3e4 -6.3e4 -6.3e4 -6.3e4 -6.3e4   1493    1.0\n",
      "\n",
      "Samples were drawn using NUTS at Tue Jun 16 07:19:13 2020.\n",
      "For each parameter, n_eff is a crude measure of effective sample size,\n",
      "and Rhat is the potential scale reduction factor on split chains (at \n",
      "convergence, Rhat=1).\n"
     ]
    },
    {
     "name": "stderr",
     "output_type": "stream",
     "text": [
      "WARNING:pystan:3875 of 4000 iterations ended with a divergence (96.9 %).\n",
      "WARNING:pystan:Try running with adapt_delta larger than 0.8 to remove the divergences.\n"
     ]
    },
    {
     "name": "stdout",
     "output_type": "stream",
     "text": [
      "s1 (m5)\n",
      "Inference for Stan model: s1.\n",
      "4 chains, each with iter=2000; warmup=1000; thin=1; \n",
      "post-warmup draws per chain=1000, total post-warmup draws=4000.\n",
      "\n",
      "                     mean se_mean     sd   2.5%    25%    50%    75%  97.5%  n_eff   Rhat\n",
      "delta_lambda         0.26  3.4e-3   0.06   0.16   0.21   0.25    0.3    0.4    346   1.01\n",
      "gamma_max             1.4  8.7e-4   0.01   1.37   1.39    1.4   1.41   1.43    285   1.02\n",
      "rho_max            1.1e-3  5.4e-5 1.1e-3 3.3e-5 3.6e-4 8.0e-4 1.6e-3 3.9e-3    406    1.0\n",
      "E_star              39.61    0.36   5.83  28.82  35.48  39.54  43.45  51.79    256   1.01\n",
      "divrate              0.77  3.4e-4 6.3e-3   0.76   0.76   0.77   0.77   0.78    344   1.01\n",
      "delta_max[1]         0.21  4.3e-4 6.9e-3    0.2   0.21   0.21   0.21   0.22    257   1.01\n",
      "delta_max[2]         1.23  1.3e-3   0.02   1.19   1.21   1.23   1.24   1.27    231   1.02\n",
      "delta_max[3]         1.51  1.5e-3   0.02   1.47    1.5   1.51   1.53   1.56    275   1.02\n",
      "delta_max[4]         2.06  1.9e-3   0.03    2.0   2.04   2.06   2.08   2.13    282   1.01\n",
      "delta_max[5]         2.59  2.7e-3   0.04    2.5   2.56   2.58   2.61   2.67    248   1.03\n",
      "delta_max[6]         2.95  2.0e-3   0.04   2.88   2.92   2.95   2.98   3.03    374   1.01\n",
      "delta_max[7]         2.98  2.2e-3   0.04    2.9   2.95   2.98    3.0   3.06    342   1.02\n",
      "delta_max[8]          3.0  2.6e-3   0.04   2.92   2.97    3.0   3.03   3.08    270   1.03\n",
      "delta_max[9]         3.04  3.3e-3   0.05   2.94    3.0   3.03   3.07   3.15    245   1.03\n",
      "delta_max[10]        4.02    0.01   0.16    3.7   3.91   4.01   4.12   4.36    131    1.0\n",
      "delta_max[11]        5.32    0.02   0.28   4.77   5.13   5.31    5.5   5.89    183   1.01\n",
      "delta_max[12]        8.61    0.05   0.53   7.51   8.26   8.61   8.98   9.67    137   1.01\n",
      "delta_max[13]       11.45    0.06   0.79   10.0  10.88  11.42  11.99  13.03    181   1.01\n",
      "delta_max[14]       15.84    0.09   1.11  13.81  15.04  15.81  16.58  18.07    158   1.03\n",
      "delta_max[15]       19.89    0.14   1.93  16.63  18.46  19.74  21.19  23.99    195   1.02\n",
      "delta_max[16]       62.83    0.39    5.7  49.54  59.42  63.99  66.99  70.88    212   1.01\n",
      "delta_max[17]       65.84    0.32   5.26  52.83  63.04  67.23  69.93  71.82    274   1.01\n",
      "lp__               -6.4e5    0.27   3.94 -6.4e5 -6.4e5 -6.4e5 -6.4e5 -6.4e5    207   1.01\n",
      "\n",
      "Samples were drawn using NUTS at Tue Jun 16 07:21:08 2020.\n",
      "For each parameter, n_eff is a crude measure of effective sample size,\n",
      "and Rhat is the potential scale reduction factor on split chains (at \n",
      "convergence, Rhat=1).\n",
      "s1 (m5)\n",
      "Inference for Stan model: s1.\n",
      "4 chains, each with iter=2000; warmup=1000; thin=1; \n",
      "post-warmup draws per chain=1000, total post-warmup draws=4000.\n",
      "\n",
      "                     mean se_mean     sd   2.5%    25%    50%    75%  97.5%  n_eff   Rhat\n",
      "delta_lambda         1.47  5.1e-3   0.32   0.91   1.24   1.45   1.68   2.18   4109    1.0\n",
      "gamma_max            4.23  6.7e-4   0.03   4.17   4.21   4.23   4.25   4.29   2022    1.0\n",
      "rho_max               1.5  2.2e-4   0.01   1.48   1.49    1.5   1.51   1.52   2645    1.0\n",
      "E_star               70.8    0.06   2.58  65.86   69.0  70.79  72.53  75.96   1911    1.0\n",
      "divrate              0.67  1.4e-4 8.4e-3   0.65   0.66   0.67   0.68   0.69   3853    1.0\n",
      "delta_max[1]         0.15  6.2e-5 3.3e-3   0.14   0.14   0.15   0.15   0.15   2760    1.0\n",
      "delta_max[2]         0.15  4.7e-5 2.9e-3   0.14   0.15   0.15   0.15   0.15   3755    1.0\n",
      "delta_max[3]         0.15  4.5e-5 2.8e-3   0.14   0.15   0.15   0.15   0.15   3881    1.0\n",
      "delta_max[4]         0.15  4.4e-5 2.7e-3   0.14   0.15   0.15   0.15   0.15   3927    1.0\n",
      "delta_max[5]         0.15  4.3e-5 2.7e-3   0.14   0.15   0.15   0.15   0.16   4026    1.0\n",
      "delta_max[6]         0.15  4.3e-5 2.7e-3   0.15   0.15   0.15   0.15   0.16   4013    1.0\n",
      "delta_max[7]         0.15  4.3e-5 2.7e-3   0.15   0.15   0.15   0.15   0.16   4105    1.0\n",
      "delta_max[8]         0.15  4.2e-5 2.8e-3   0.15   0.15   0.15   0.15   0.16   4237    1.0\n",
      "delta_max[9]         0.15  4.2e-5 2.8e-3   0.15   0.15   0.15   0.15   0.16   4507    1.0\n",
      "delta_max[10]        0.15  4.5e-5 3.1e-3   0.15   0.15   0.15   0.16   0.16   4853    1.0\n",
      "delta_max[11]        0.16  6.3e-5 4.3e-3   0.15   0.15   0.16   0.16   0.17   4683    1.0\n",
      "delta_max[12]        0.17  1.8e-4   0.01   0.15   0.16   0.17   0.18   0.19   3194    1.0\n",
      "delta_max[13]        0.22  5.7e-4   0.03   0.18    0.2   0.22   0.24   0.27   1937    1.0\n",
      "delta_max[14]        0.57  8.0e-4   0.04    0.5   0.55   0.57    0.6   0.64   2135    1.0\n",
      "delta_max[15]        0.87  1.2e-3   0.06   0.76   0.83   0.87   0.91   0.99   2226    1.0\n",
      "delta_max[16]         1.6  1.7e-3   0.09   1.43   1.54    1.6   1.66   1.76   2497    1.0\n",
      "delta_max[17]        3.61  2.9e-3   0.15   3.33    3.5    3.6    3.7    3.9   2467    1.0\n",
      "delta_max[18]        4.67  2.8e-3   0.15   4.36   4.57   4.68   4.77   4.97   2967    1.0\n",
      "delta_max[19]        4.84  3.5e-3   0.18   4.52   4.73   4.83   4.95   5.23   2628    1.0\n",
      "delta_max[20]       11.28  5.9e-3   0.34  10.62  11.06  11.28  11.52  11.94   3245    1.0\n",
      "lp__               -6.4e5    0.11    3.9 -6.4e5 -6.4e5 -6.4e5 -6.4e5 -6.4e5   1258    1.0\n",
      "\n",
      "Samples were drawn using NUTS at Tue Jun 16 07:30:23 2020.\n",
      "For each parameter, n_eff is a crude measure of effective sample size,\n",
      "and Rhat is the potential scale reduction factor on split chains (at \n",
      "convergence, Rhat=1).\n"
     ]
    },
    {
     "name": "stderr",
     "output_type": "stream",
     "text": [
      "WARNING:pystan:n_eff / iter below 0.001 indicates that the effective sample size has likely been overestimated\n",
      "WARNING:pystan:Rhat above 1.1 or below 0.9 indicates that the chains very likely have not mixed\n",
      "WARNING:pystan:4000 of 4000 iterations ended with a divergence (100 %).\n",
      "WARNING:pystan:Try running with adapt_delta larger than 0.8 to remove the divergences.\n",
      "WARNING:pystan:Chain 1: E-BFMI = 0.122\n",
      "WARNING:pystan:E-BFMI below 0.2 indicates you may need to reparameterize your model\n"
     ]
    },
    {
     "name": "stdout",
     "output_type": "stream",
     "text": [
      "s1: in try 1/3 found Rhat=13.140, trying again\n"
     ]
    },
    {
     "name": "stderr",
     "output_type": "stream",
     "text": [
      "WARNING:pystan:n_eff / iter below 0.001 indicates that the effective sample size has likely been overestimated\n",
      "WARNING:pystan:Rhat above 1.1 or below 0.9 indicates that the chains very likely have not mixed\n",
      "WARNING:pystan:3993 of 4000 iterations ended with a divergence (99.8 %).\n",
      "WARNING:pystan:Try running with adapt_delta larger than 0.8 to remove the divergences.\n",
      "WARNING:pystan:Chain 1: E-BFMI = 0.108\n",
      "WARNING:pystan:Chain 2: E-BFMI = 0.00116\n",
      "WARNING:pystan:E-BFMI below 0.2 indicates you may need to reparameterize your model\n"
     ]
    },
    {
     "name": "stdout",
     "output_type": "stream",
     "text": [
      "s1: in try 2/3 found Rhat=158.892, trying again\n"
     ]
    },
    {
     "name": "stderr",
     "output_type": "stream",
     "text": [
      "WARNING:pystan:n_eff / iter below 0.001 indicates that the effective sample size has likely been overestimated\n",
      "WARNING:pystan:Rhat above 1.1 or below 0.9 indicates that the chains very likely have not mixed\n",
      "WARNING:pystan:4000 of 4000 iterations ended with a divergence (100 %).\n",
      "WARNING:pystan:Try running with adapt_delta larger than 0.8 to remove the divergences.\n",
      "WARNING:pystan:Chain 3: E-BFMI = 0.166\n",
      "WARNING:pystan:Chain 4: E-BFMI = 0.122\n",
      "WARNING:pystan:E-BFMI below 0.2 indicates you may need to reparameterize your model\n"
     ]
    },
    {
     "name": "stdout",
     "output_type": "stream",
     "text": [
      "s1: in try 3/3 found Rhat=33.061, trying again\n",
      "s1 (m5)\n",
      "Inference for Stan model: s1.\n",
      "4 chains, each with iter=2000; warmup=1000; thin=1; \n",
      "post-warmup draws per chain=1000, total post-warmup draws=4000.\n",
      "\n",
      "                     mean se_mean     sd   2.5%    25%    50%    75%  97.5%  n_eff   Rhat\n",
      "delta_lambda         0.32    0.08   0.12   0.13   0.21   0.31   0.46   0.55      3   2.48\n",
      "gamma_max             1.4  8.3e-4 4.3e-3   1.39   1.39    1.4    1.4   1.41     27   1.12\n",
      "rho_max            7.0e-4  6.3e-4 9.0e-4 4.0e-5 9.9e-5 2.2e-4 1.6e-3 2.3e-3      2   9.89\n",
      "E_star              29.35   11.75  16.71   0.26  15.18  38.65  39.28  43.11      2  11.83\n",
      "divrate              0.78    0.01   0.02   0.76   0.77   0.77   0.79   0.81      2  11.25\n",
      "delta_max[1]         0.22  5.2e-3 7.6e-3   0.21   0.21   0.21   0.22   0.23      2   4.58\n",
      "delta_max[2]         1.25    0.03   0.04   1.22   1.22   1.23   1.28   1.33      2  11.46\n",
      "delta_max[3]         1.54    0.02   0.03   1.51   1.51   1.52   1.55    1.6      2   6.06\n",
      "delta_max[4]         2.09    0.03   0.04   2.05   2.06   2.07   2.11   2.18      2   5.29\n",
      "delta_max[5]         2.61    0.03   0.04   2.57   2.58   2.59   2.63    2.7      2   4.77\n",
      "delta_max[6]         2.99    0.05   0.07   2.93   2.94   2.96   3.04   3.13      2   7.49\n",
      "delta_max[7]         3.01    0.05   0.06   2.96   2.97   2.98   3.05   3.14      2   6.85\n",
      "delta_max[8]         3.03    0.04   0.06   2.97   2.99    3.0   3.06   3.15      2   6.44\n",
      "delta_max[9]         3.06    0.04   0.05    3.0   3.02   3.04   3.09   3.17      2   4.92\n",
      "delta_max[10]        4.03    0.08   0.11   3.91   3.95   3.97   4.05   4.29      2   3.85\n",
      "delta_max[11]        5.24    0.12   0.18   5.04   5.08    5.2   5.37   5.61      2   4.05\n",
      "delta_max[12]        8.52    0.34    0.5   7.79   8.07   8.44   9.11   9.21      2   4.36\n",
      "delta_max[13]        11.5     0.9   1.29   9.49  10.05  11.64  12.78  13.24      2   6.62\n",
      "delta_max[14]       13.71    0.12   0.38  13.11  13.39  13.75  13.95  14.55     10   1.35\n",
      "delta_max[15]       18.32     2.3    3.3  13.48  14.98  18.55   21.6  22.95      2   8.46\n",
      "delta_max[16]        66.8    5.27   7.74  48.25  62.97  71.02  71.55   71.8      2   6.95\n",
      "delta_max[17]       71.71    0.02   0.29  70.93  71.59   71.8  71.92  71.99    300   1.01\n",
      "lp__               -6.4e6  128.93 182.64 -6.4e6 -6.4e6 -6.4e6 -6.4e6 -6.4e6      2  33.06\n",
      "\n",
      "Samples were drawn using NUTS at Tue Jun 16 07:36:00 2020.\n",
      "For each parameter, n_eff is a crude measure of effective sample size,\n",
      "and Rhat is the potential scale reduction factor on split chains (at \n",
      "convergence, Rhat=1).\n",
      "s1 (m5)\n",
      "Inference for Stan model: s1.\n",
      "4 chains, each with iter=2000; warmup=1000; thin=1; \n",
      "post-warmup draws per chain=1000, total post-warmup draws=4000.\n",
      "\n",
      "                     mean se_mean     sd   2.5%    25%    50%    75%  97.5%  n_eff   Rhat\n",
      "delta_lambda         1.47  4.9e-3   0.32    0.9   1.24   1.45   1.66   2.17   4336    1.0\n",
      "gamma_max            4.22  1.8e-4 9.3e-3    4.2   4.21   4.22   4.22   4.23   2586    1.0\n",
      "rho_max               1.5  5.9e-5 3.6e-3   1.49    1.5    1.5    1.5   1.51   3653    1.0\n",
      "E_star              70.46    0.02    0.8  68.88  69.91  70.48  70.98  72.05   2146    1.0\n",
      "divrate              0.67  4.0e-5 2.6e-3   0.66   0.67   0.67   0.67   0.67   4160    1.0\n",
      "delta_max[1]         0.15  1.3e-5 8.5e-4   0.15   0.15   0.15   0.15   0.15   4038    1.0\n",
      "delta_max[2]         0.15  1.3e-5 8.4e-4   0.15   0.15   0.15   0.15   0.15   4261    1.0\n",
      "delta_max[3]         0.15  1.3e-5 8.3e-4   0.15   0.15   0.15   0.15   0.15   4269    1.0\n",
      "delta_max[4]         0.15  1.3e-5 8.3e-4   0.15   0.15   0.15   0.15   0.15   4248    1.0\n",
      "delta_max[5]         0.15  1.3e-5 8.3e-4   0.15   0.15   0.15   0.15   0.15   4287    1.0\n",
      "delta_max[6]         0.15  1.3e-5 8.3e-4   0.15   0.15   0.15   0.15   0.15   4349    1.0\n",
      "delta_max[7]         0.15  1.3e-5 8.3e-4   0.15   0.15   0.15   0.15   0.15   4373    1.0\n",
      "delta_max[8]         0.15  1.3e-5 8.3e-4   0.15   0.15   0.15   0.15   0.15   4372    1.0\n",
      "delta_max[9]         0.15  1.3e-5 8.3e-4   0.15   0.15   0.15   0.15   0.15   4377    1.0\n",
      "delta_max[10]        0.15  1.3e-5 8.5e-4   0.15   0.15   0.15   0.15   0.16   4451    1.0\n",
      "delta_max[11]        0.15  1.5e-5 9.7e-4   0.15   0.15   0.15   0.15   0.16   4193    1.0\n",
      "delta_max[12]        0.16  6.7e-5 3.6e-3   0.15   0.16   0.16   0.16   0.17   2914    1.0\n",
      "delta_max[13]        0.22  2.0e-4 9.3e-3    0.2   0.22   0.22   0.23   0.24   2112    1.0\n",
      "delta_max[14]        0.57  2.6e-4   0.01   0.55   0.57   0.57   0.58    0.6   2084    1.0\n",
      "delta_max[15]        0.86  3.7e-4   0.02   0.83   0.85   0.86   0.88    0.9   2354    1.0\n",
      "delta_max[16]        1.59  6.3e-4   0.03   1.53   1.57   1.59   1.61   1.64   1852    1.0\n",
      "delta_max[17]         3.6  1.1e-3   0.05   3.51   3.57    3.6   3.63   3.69   1893    1.0\n",
      "delta_max[18]        4.69  9.4e-4   0.04    4.6   4.66   4.69   4.72   4.78   2257    1.0\n",
      "delta_max[19]        4.71  9.6e-4   0.05   4.62   4.68   4.71   4.74    4.8   2289    1.0\n",
      "delta_max[20]       11.24  1.9e-3    0.1  11.03  11.17  11.24  11.31  11.44   3006    1.0\n",
      "lp__               -6.5e6     0.1   3.84 -6.5e6 -6.5e6 -6.5e6 -6.5e6 -6.5e6   1494    1.0\n",
      "\n",
      "Samples were drawn using NUTS at Tue Jun 16 07:50:05 2020.\n",
      "For each parameter, n_eff is a crude measure of effective sample size,\n",
      "and Rhat is the potential scale reduction factor on split chains (at \n",
      "convergence, Rhat=1).\n"
     ]
    },
    {
     "name": "stderr",
     "output_type": "stream",
     "text": [
      "WARNING:pystan:n_eff / iter below 0.001 indicates that the effective sample size has likely been overestimated\n",
      "WARNING:pystan:Rhat above 1.1 or below 0.9 indicates that the chains very likely have not mixed\n",
      "WARNING:pystan:4000 of 4000 iterations ended with a divergence (100 %).\n",
      "WARNING:pystan:Try running with adapt_delta larger than 0.8 to remove the divergences.\n",
      "WARNING:pystan:Chain 1: E-BFMI = 0.0128\n",
      "WARNING:pystan:Chain 3: E-BFMI = 0.139\n",
      "WARNING:pystan:Chain 4: E-BFMI = 0.105\n",
      "WARNING:pystan:E-BFMI below 0.2 indicates you may need to reparameterize your model\n"
     ]
    },
    {
     "name": "stdout",
     "output_type": "stream",
     "text": [
      "s1: in try 1/3 found Rhat=1031.981, trying again\n"
     ]
    },
    {
     "name": "stderr",
     "output_type": "stream",
     "text": [
      "WARNING:pystan:n_eff / iter below 0.001 indicates that the effective sample size has likely been overestimated\n",
      "WARNING:pystan:Rhat above 1.1 or below 0.9 indicates that the chains very likely have not mixed\n",
      "WARNING:pystan:4000 of 4000 iterations ended with a divergence (100 %).\n",
      "WARNING:pystan:Try running with adapt_delta larger than 0.8 to remove the divergences.\n",
      "WARNING:pystan:Chain 1: E-BFMI = 0.094\n",
      "WARNING:pystan:Chain 2: E-BFMI = 0.000111\n",
      "WARNING:pystan:Chain 3: E-BFMI = 0.0105\n",
      "WARNING:pystan:Chain 4: E-BFMI = 0.013\n",
      "WARNING:pystan:E-BFMI below 0.2 indicates you may need to reparameterize your model\n"
     ]
    },
    {
     "name": "stdout",
     "output_type": "stream",
     "text": [
      "s1: in try 2/3 found Rhat=2034.419, trying again\n"
     ]
    },
    {
     "name": "stderr",
     "output_type": "stream",
     "text": [
      "WARNING:pystan:n_eff / iter below 0.001 indicates that the effective sample size has likely been overestimated\n",
      "WARNING:pystan:Rhat above 1.1 or below 0.9 indicates that the chains very likely have not mixed\n",
      "WARNING:pystan:4000 of 4000 iterations ended with a divergence (100 %).\n",
      "WARNING:pystan:Try running with adapt_delta larger than 0.8 to remove the divergences.\n",
      "WARNING:pystan:Chain 2: E-BFMI = 0.083\n",
      "WARNING:pystan:Chain 3: E-BFMI = 0.00117\n",
      "WARNING:pystan:E-BFMI below 0.2 indicates you may need to reparameterize your model\n"
     ]
    },
    {
     "name": "stdout",
     "output_type": "stream",
     "text": [
      "s1: in try 3/3 found Rhat=692.339, trying again\n",
      "s1 (m5)\n",
      "Inference for Stan model: s1.\n",
      "4 chains, each with iter=2000; warmup=1000; thin=1; \n",
      "post-warmup draws per chain=1000, total post-warmup draws=4000.\n",
      "\n",
      "                     mean se_mean     sd   2.5%    25%    50%    75%  97.5%  n_eff   Rhat\n",
      "delta_lambda         1.46    1.43   2.02   0.19   0.24   0.34    2.7    5.3      2   37.8\n",
      "gamma_max            1.98    0.72   1.01   1.39    1.4    1.4   2.65   3.77      2 123.82\n",
      "rho_max            6.6e-5  6.2e-5 8.7e-5 3.6e-7 2.0e-6 2.5e-5 1.4e-4 2.1e-4      2 391.29\n",
      "E_star             929.73  1106.2 1564.9   0.57  17.42  39.55 1977.4 3688.8      2 160.56\n",
      "divrate              0.75    0.04   0.05   0.66   0.71   0.77   0.79   0.81      2 133.13\n",
      "delta_max[1]         0.21    0.02   0.02   0.17   0.19   0.21   0.22   0.23      2  49.09\n",
      "delta_max[2]          1.2    0.08   0.11   1.02   1.11   1.23   1.28   1.33      2   98.8\n",
      "delta_max[3]         1.48    0.08   0.11   1.29   1.39   1.52   1.56    1.6      2   86.4\n",
      "delta_max[4]         2.02    0.09   0.13   1.81   1.92   2.07   2.11   2.16      2  62.38\n",
      "delta_max[5]         2.54     0.1   0.15   2.29   2.42   2.59   2.64    2.7      2  62.99\n",
      "delta_max[6]         2.92    0.13   0.19    2.6   2.77   2.97   3.06   3.12      2  84.98\n",
      "delta_max[7]         2.92    0.14   0.19    2.6   2.77   2.98   3.06   3.12      2  85.42\n",
      "delta_max[8]         2.92    0.13   0.19   2.61   2.78   2.98   3.06   3.12      2  83.17\n",
      "delta_max[9]         2.94    0.12   0.17   2.65    2.8   2.99   3.06   3.12      2  76.03\n",
      "delta_max[10]        3.78    0.34   0.49   2.94   3.41   3.98   4.12   4.23      2  63.68\n",
      "delta_max[11]        5.48    0.22   0.31   5.22   5.22   5.37   5.74   6.01      2  23.83\n",
      "delta_max[12]        8.02    0.57    0.8   6.67   7.35   8.33    8.6   8.85      2  54.74\n",
      "delta_max[13]       10.06    1.27    1.8   7.01   8.56  10.83   11.4  11.47      2  71.27\n",
      "delta_max[14]       14.36    0.77   1.09  13.06  13.34  14.31  15.48   15.6      2  30.06\n",
      "delta_max[15]       18.59    2.16   3.05  15.98  16.12  17.35  21.09   23.8      2  40.57\n",
      "delta_max[16]        59.6   14.41  20.39  24.02  45.44  71.12  71.49  71.73      2 280.07\n",
      "delta_max[17]       71.95    0.01   0.06  71.79  71.94  71.97  71.99   72.0     31   1.09\n",
      "lp__               -6.4e7   1.1e4  1.5e4 -6.4e7 -6.4e7 -6.4e7 -6.4e7 -6.4e7      2 429.96\n",
      "\n",
      "Samples were drawn using NUTS at Tue Jun 16 07:56:55 2020.\n",
      "For each parameter, n_eff is a crude measure of effective sample size,\n",
      "and Rhat is the potential scale reduction factor on split chains (at \n",
      "convergence, Rhat=1).\n"
     ]
    },
    {
     "name": "stderr",
     "output_type": "stream",
     "text": [
      "WARNING:pystan:n_eff / iter below 0.001 indicates that the effective sample size has likely been overestimated\n",
      "WARNING:pystan:Rhat above 1.1 or below 0.9 indicates that the chains very likely have not mixed\n",
      "WARNING:pystan:2000 of 4000 iterations saturated the maximum tree depth of 10 (50 %)\n",
      "WARNING:pystan:Run again with max_treedepth larger than 10 to avoid saturation\n",
      "WARNING:pystan:Chain 3: E-BFMI = 0.000108\n",
      "WARNING:pystan:E-BFMI below 0.2 indicates you may need to reparameterize your model\n"
     ]
    },
    {
     "name": "stdout",
     "output_type": "stream",
     "text": [
      "s1: in try 1/3 found Rhat=18.966, trying again\n"
     ]
    },
    {
     "name": "stderr",
     "output_type": "stream",
     "text": [
      "WARNING:pystan:n_eff / iter below 0.001 indicates that the effective sample size has likely been overestimated\n",
      "WARNING:pystan:Rhat above 1.1 or below 0.9 indicates that the chains very likely have not mixed\n",
      "WARNING:pystan:4 of 4000 iterations ended with a divergence (0.1 %).\n",
      "WARNING:pystan:Try running with adapt_delta larger than 0.8 to remove the divergences.\n",
      "WARNING:pystan:2179 of 4000 iterations saturated the maximum tree depth of 10 (54.5 %)\n",
      "WARNING:pystan:Run again with max_treedepth larger than 10 to avoid saturation\n",
      "WARNING:pystan:Chain 1: E-BFMI = 0.0237\n",
      "WARNING:pystan:Chain 3: E-BFMI = 0.0004\n",
      "WARNING:pystan:Chain 4: E-BFMI = 0.00173\n",
      "WARNING:pystan:E-BFMI below 0.2 indicates you may need to reparameterize your model\n"
     ]
    },
    {
     "name": "stdout",
     "output_type": "stream",
     "text": [
      "s1: in try 2/3 found Rhat=19.810, trying again\n"
     ]
    },
    {
     "name": "stderr",
     "output_type": "stream",
     "text": [
      "WARNING:pystan:n_eff / iter below 0.001 indicates that the effective sample size has likely been overestimated\n",
      "WARNING:pystan:Rhat above 1.1 or below 0.9 indicates that the chains very likely have not mixed\n",
      "WARNING:pystan:1079 of 4000 iterations saturated the maximum tree depth of 10 (27 %)\n",
      "WARNING:pystan:Run again with max_treedepth larger than 10 to avoid saturation\n"
     ]
    },
    {
     "name": "stdout",
     "output_type": "stream",
     "text": [
      "s1: in try 3/3 found Rhat=2.141, trying again\n",
      "s1 (m5)\n",
      "Inference for Stan model: s1.\n",
      "4 chains, each with iter=2000; warmup=1000; thin=1; \n",
      "post-warmup draws per chain=1000, total post-warmup draws=4000.\n",
      "\n",
      "                     mean se_mean     sd   2.5%    25%    50%    75%  97.5%  n_eff   Rhat\n",
      "delta_lambda         1.15    0.33   0.53   0.24   0.54   1.28   1.53   2.03      3   2.14\n",
      "gamma_max            4.21  4.1e-5 3.0e-3   4.21   4.21   4.21   4.22   4.22   5436    1.0\n",
      "rho_max               1.5  1.8e-5 1.1e-3    1.5    1.5    1.5    1.5    1.5   3893    1.0\n",
      "E_star               70.4  3.3e-3   0.26  69.89  70.23   70.4  70.58  70.92   6063    1.0\n",
      "divrate              0.67  1.3e-5 8.2e-4   0.67   0.67   0.67   0.67   0.67   4058    1.0\n",
      "delta_max[1]         0.15  3.8e-6 2.7e-4   0.15   0.15   0.15   0.15   0.15   4988    1.0\n",
      "delta_max[2]         0.15  3.8e-6 2.6e-4   0.15   0.15   0.15   0.15   0.15   4972    1.0\n",
      "delta_max[3]         0.15  3.8e-6 2.6e-4   0.15   0.15   0.15   0.15   0.15   4982    1.0\n",
      "delta_max[4]         0.15  3.8e-6 2.6e-4   0.15   0.15   0.15   0.15   0.15   4974    1.0\n",
      "delta_max[5]         0.15  3.7e-6 2.6e-4   0.15   0.15   0.15   0.15   0.15   4987    1.0\n",
      "delta_max[6]         0.15  3.7e-6 2.6e-4   0.15   0.15   0.15   0.15   0.15   4985    1.0\n",
      "delta_max[7]         0.15  3.7e-6 2.6e-4   0.15   0.15   0.15   0.15   0.15   4987    1.0\n",
      "delta_max[8]         0.15  3.7e-6 2.6e-4   0.15   0.15   0.15   0.15   0.15   4995    1.0\n",
      "delta_max[9]         0.15  3.8e-6 2.6e-4   0.15   0.15   0.15   0.15   0.15   4979    1.0\n",
      "delta_max[10]        0.15  3.8e-6 2.7e-4   0.15   0.15   0.15   0.15   0.15   4979    1.0\n",
      "delta_max[11]        0.15  3.8e-6 2.7e-4   0.15   0.15   0.15   0.15   0.15   5058    1.0\n",
      "delta_max[12]        0.15  1.6e-5 8.3e-4   0.15   0.15   0.15   0.15   0.16   2585    1.0\n",
      "delta_max[13]        0.23  4.8e-5 2.8e-3   0.22   0.22   0.23   0.23   0.23   3539    1.0\n",
      "delta_max[14]        0.57  6.3e-5 3.7e-3   0.57   0.57   0.57   0.58   0.58   3511    1.0\n",
      "delta_max[15]        0.86  1.1e-4 5.7e-3   0.85   0.86   0.86   0.87   0.87   2889    1.0\n",
      "delta_max[16]        1.59  1.5e-4 9.0e-3   1.57   1.58   1.59   1.59   1.61   3816    1.0\n",
      "delta_max[17]        3.59  2.2e-4   0.02   3.57   3.58   3.59    3.6   3.62   4557    1.0\n",
      "delta_max[18]        4.69  2.1e-4   0.01   4.66   4.68   4.69    4.7   4.72   4420    1.0\n",
      "delta_max[19]        4.69  2.1e-4   0.01   4.67   4.68   4.69    4.7   4.72   4351    1.0\n",
      "delta_max[20]       11.23  4.8e-4   0.03  11.16  11.21  11.23  11.25   11.3   4917    1.0\n",
      "lp__               -6.5e7    4.25   7.38 -6.5e7 -6.5e7 -6.5e7 -6.5e7 -6.5e7      3   1.87\n",
      "\n",
      "Samples were drawn using NUTS at Tue Jun 16 10:15:58 2020.\n",
      "For each parameter, n_eff is a crude measure of effective sample size,\n",
      "and Rhat is the potential scale reduction factor on split chains (at \n",
      "convergence, Rhat=1).\n"
     ]
    },
    {
     "name": "stderr",
     "output_type": "stream",
     "text": [
      "WARNING:pystan:Maximum (flat) parameter count (1000) exceeded: skipping diagnostic tests for n_eff and Rhat.\n",
      "To run all diagnostics call pystan.check_hmc_diagnostics(fit)\n",
      "WARNING:pystan:3942 of 4000 iterations ended with a divergence (98.5 %).\n",
      "WARNING:pystan:Try running with adapt_delta larger than 0.8 to remove the divergences.\n",
      "WARNING:pystan:Chain 1: E-BFMI = 0.188\n",
      "WARNING:pystan:Chain 2: E-BFMI = 0.154\n",
      "WARNING:pystan:Chain 3: E-BFMI = 0.154\n",
      "WARNING:pystan:Chain 4: E-BFMI = 0.0987\n",
      "WARNING:pystan:E-BFMI below 0.2 indicates you may need to reparameterize your model\n"
     ]
    },
    {
     "name": "stdout",
     "output_type": "stream",
     "text": [
      "s2: in try 1/3 found Rhat=1.817, trying again\n"
     ]
    },
    {
     "name": "stderr",
     "output_type": "stream",
     "text": [
      "WARNING:pystan:Maximum (flat) parameter count (1000) exceeded: skipping diagnostic tests for n_eff and Rhat.\n",
      "To run all diagnostics call pystan.check_hmc_diagnostics(fit)\n",
      "WARNING:pystan:3975 of 4000 iterations ended with a divergence (99.4 %).\n",
      "WARNING:pystan:Try running with adapt_delta larger than 0.8 to remove the divergences.\n",
      "WARNING:pystan:Chain 1: E-BFMI = 0.161\n",
      "WARNING:pystan:E-BFMI below 0.2 indicates you may need to reparameterize your model\n"
     ]
    },
    {
     "name": "stdout",
     "output_type": "stream",
     "text": [
      "s2: in try 2/3 found Rhat=2.000, trying again\n"
     ]
    },
    {
     "name": "stderr",
     "output_type": "stream",
     "text": [
      "WARNING:pystan:Maximum (flat) parameter count (1000) exceeded: skipping diagnostic tests for n_eff and Rhat.\n",
      "To run all diagnostics call pystan.check_hmc_diagnostics(fit)\n",
      "WARNING:pystan:3968 of 4000 iterations ended with a divergence (99.2 %).\n",
      "WARNING:pystan:Try running with adapt_delta larger than 0.8 to remove the divergences.\n",
      "WARNING:pystan:Chain 2: E-BFMI = 0.179\n",
      "WARNING:pystan:Chain 3: E-BFMI = 0.153\n",
      "WARNING:pystan:Chain 4: E-BFMI = 0.0514\n",
      "WARNING:pystan:E-BFMI below 0.2 indicates you may need to reparameterize your model\n"
     ]
    },
    {
     "name": "stdout",
     "output_type": "stream",
     "text": [
      "s2: in try 3/3 found Rhat=1.831, trying again\n",
      "s2 (m5 mlmn)\n",
      "Inference for Stan model: s2.\n",
      "4 chains, each with iter=2000; warmup=1000; thin=1; \n",
      "post-warmup draws per chain=1000, total post-warmup draws=4000.\n",
      "\n",
      "                     mean se_mean     sd   2.5%    25%    50%    75%  97.5%  n_eff   Rhat\n",
      "delta_lambda         1.69    0.04    0.4    1.0   1.41   1.67   1.94   2.52     90   1.05\n",
      "gamma_max            1.94    0.13    0.6   1.32   1.55   1.76   2.15    3.9     21   1.21\n",
      "rho_max              0.02  2.3e-3   0.02 2.3e-3 9.6e-3   0.02   0.03   0.06     49   1.05\n",
      "E_star             965.59  167.56 768.75  85.58 397.87 813.73 1327.8 3277.0     21   1.18\n",
      "sigma              1259.2   73.04 286.13 574.61 1096.2 1265.5 1424.9 1821.2     15   1.28\n",
      "divrate              0.73    0.02   0.06   0.63   0.69   0.73   0.77   0.87     14   1.35\n",
      "delta_max[1]         0.03  6.6e-3   0.02 2.5e-3   0.01   0.02   0.04   0.07      8   1.38\n",
      "delta_max[2]         1.16    0.04   0.18   0.82   1.05   1.16   1.28   1.52     17   1.29\n",
      "delta_max[3]         1.52    0.04   0.21   1.13   1.37   1.52   1.67   1.95     23   1.15\n",
      "delta_max[4]         2.08    0.07   0.26   1.66   1.87   2.05   2.28   2.57     14   1.22\n",
      "delta_max[5]         2.71    0.05   0.28   2.23   2.51   2.69   2.87   3.34     29   1.12\n",
      "delta_max[6]         3.63    0.12   0.48   2.77    3.3   3.58   3.91    4.7     16    1.3\n",
      "delta_max[7]         4.27    0.21   0.65   3.09   3.82   4.24   4.73   5.56     10   1.45\n",
      "delta_max[8]         5.01    0.16    0.6    3.9   4.61   4.96   5.35   6.41     14   1.27\n",
      "delta_max[9]         5.47    0.16   0.57   4.53   5.07   5.42   5.78   6.81     13   1.28\n",
      "delta_max[10]         5.9    0.14   0.55   4.96    5.5   5.85   6.27   7.08     16    1.2\n",
      "delta_max[11]        6.19    0.14   0.56    5.2   5.78   6.14   6.56   7.37     16   1.21\n",
      "delta_max[12]        6.44    0.14   0.58    5.4   6.03    6.4   6.82   7.68     16    1.2\n",
      "delta_max[13]        6.71    0.13   0.59   5.63   6.29   6.68   7.09   7.92     21   1.16\n",
      "delta_max[14]        6.98    0.14   0.63   5.79   6.56   6.95   7.41   8.27     20    1.2\n",
      "delta_max[15]        7.22    0.12   0.62   6.03   6.79   7.21   7.65   8.46     26   1.16\n",
      "delta_max[16]        7.46    0.12   0.64   6.27   7.01   7.46   7.93   8.68     27   1.14\n",
      "delta_max[17]        7.76    0.12    0.7   6.51   7.27   7.74   8.22   9.14     32   1.12\n",
      "lp__                -5925   23.44  78.49  -6144  -5966  -5914  -5871  -5798     11   1.52\n",
      "\n",
      "Samples were drawn using NUTS at Tue Jun 16 10:34:42 2020.\n",
      "For each parameter, n_eff is a crude measure of effective sample size,\n",
      "and Rhat is the potential scale reduction factor on split chains (at \n",
      "convergence, Rhat=1).\n"
     ]
    },
    {
     "name": "stderr",
     "output_type": "stream",
     "text": [
      "WARNING:pystan:Maximum (flat) parameter count (1000) exceeded: skipping diagnostic tests for n_eff and Rhat.\n",
      "To run all diagnostics call pystan.check_hmc_diagnostics(fit)\n",
      "WARNING:pystan:3979 of 4000 iterations ended with a divergence (99.5 %).\n",
      "WARNING:pystan:Try running with adapt_delta larger than 0.8 to remove the divergences.\n",
      "WARNING:pystan:Chain 2: E-BFMI = 0.136\n",
      "WARNING:pystan:E-BFMI below 0.2 indicates you may need to reparameterize your model\n"
     ]
    },
    {
     "name": "stdout",
     "output_type": "stream",
     "text": [
      "s2: in try 1/3 found Rhat=2.665, trying again\n"
     ]
    },
    {
     "name": "stderr",
     "output_type": "stream",
     "text": [
      "WARNING:pystan:Maximum (flat) parameter count (1000) exceeded: skipping diagnostic tests for n_eff and Rhat.\n",
      "To run all diagnostics call pystan.check_hmc_diagnostics(fit)\n",
      "WARNING:pystan:3984 of 4000 iterations ended with a divergence (99.6 %).\n",
      "WARNING:pystan:Try running with adapt_delta larger than 0.8 to remove the divergences.\n"
     ]
    },
    {
     "name": "stdout",
     "output_type": "stream",
     "text": [
      "s2: in try 2/3 found Rhat=2.328, trying again\n"
     ]
    },
    {
     "name": "stderr",
     "output_type": "stream",
     "text": [
      "WARNING:pystan:Maximum (flat) parameter count (1000) exceeded: skipping diagnostic tests for n_eff and Rhat.\n",
      "To run all diagnostics call pystan.check_hmc_diagnostics(fit)\n",
      "WARNING:pystan:3978 of 4000 iterations ended with a divergence (99.5 %).\n",
      "WARNING:pystan:Try running with adapt_delta larger than 0.8 to remove the divergences.\n",
      "WARNING:pystan:Chain 1: E-BFMI = 0.128\n",
      "WARNING:pystan:Chain 3: E-BFMI = 0.146\n",
      "WARNING:pystan:Chain 4: E-BFMI = 0.101\n",
      "WARNING:pystan:E-BFMI below 0.2 indicates you may need to reparameterize your model\n"
     ]
    },
    {
     "name": "stdout",
     "output_type": "stream",
     "text": [
      "s2: in try 3/3 found Rhat=3.616, trying again\n",
      "s2 (m5 mlmn)\n",
      "Inference for Stan model: s2.\n",
      "4 chains, each with iter=2000; warmup=1000; thin=1; \n",
      "post-warmup draws per chain=1000, total post-warmup draws=4000.\n",
      "\n",
      "                     mean se_mean     sd   2.5%    25%    50%    75%  97.5%  n_eff   Rhat\n",
      "delta_lambda         1.74    0.04   0.36   1.08   1.49   1.72   1.98   2.43    101   1.07\n",
      "gamma_max            5.57     1.2   1.82   4.02   4.33   4.49   6.53   9.65      2   3.46\n",
      "rho_max              1.36    0.04   0.12    1.1   1.29   1.38   1.44   1.57      9   1.83\n",
      "E_star             138.49   71.74 108.79  42.98  59.28  74.53 210.53 371.33      2   3.62\n",
      "sigma              1624.5   71.52 367.68 1027.8 1382.6 1580.6 1850.8 2535.0     26   1.19\n",
      "divrate              0.81    0.03   0.08   0.63   0.76   0.82   0.86   0.97     10   1.67\n",
      "delta_max[1]         0.03  2.7e-3   0.01   0.02   0.03   0.03   0.04   0.06     18   1.28\n",
      "delta_max[2]         0.04  2.2e-3   0.01   0.02   0.03   0.04   0.05   0.07     34   1.18\n",
      "delta_max[3]         0.05  3.1e-3   0.01   0.03   0.04   0.05   0.06   0.08     18   1.27\n",
      "delta_max[4]         0.06  4.3e-3   0.02   0.04   0.05   0.06   0.07    0.1     13   1.35\n",
      "delta_max[5]         0.07  5.8e-3   0.02   0.04   0.06   0.07   0.09   0.11      9   1.43\n",
      "delta_max[6]         0.08  5.7e-3   0.02   0.05   0.07   0.08    0.1   0.12     10   1.31\n",
      "delta_max[7]          0.1  6.7e-3   0.02   0.06   0.08    0.1   0.11   0.14     11   1.36\n",
      "delta_max[8]         0.11  7.7e-3   0.03   0.06   0.09   0.11   0.13   0.17     11   1.37\n",
      "delta_max[9]         0.13  8.4e-3   0.03   0.07   0.11   0.13   0.15   0.19     12   1.39\n",
      "delta_max[10]        0.15  7.9e-3   0.03   0.09   0.13   0.15   0.18   0.22     19   1.27\n",
      "delta_max[11]         0.2    0.01   0.05   0.12   0.16   0.19   0.23   0.32     23   1.25\n",
      "delta_max[12]        0.26    0.01   0.07   0.15   0.21   0.26    0.3   0.41     31   1.21\n",
      "delta_max[13]        0.38    0.02    0.1   0.23   0.31   0.36   0.44   0.61     22   1.21\n",
      "delta_max[14]        0.59    0.03   0.16   0.34   0.47   0.58    0.7   0.93     25   1.25\n",
      "delta_max[15]        1.06    0.07   0.33   0.48   0.81   1.04   1.29   1.73     23   1.25\n",
      "delta_max[16]        2.34    0.13   0.56   1.08   1.97   2.35   2.71   3.38     18   1.24\n",
      "delta_max[17]        4.41    0.19   0.87   2.86   3.76   4.36   5.03   6.17     22   1.22\n",
      "delta_max[18]        7.26    0.61   1.39   4.83   6.21   7.08   8.27   10.1      5   1.65\n",
      "delta_max[19]        9.03    0.55   1.39   6.59    8.0   8.97   9.83  12.14      6   1.72\n",
      "delta_max[20]        9.67     0.5   1.34   7.36   8.76   9.58  10.48  12.77      7   1.63\n",
      "lp__                -5812    16.2  73.57  -5956  -5864  -5814  -5760  -5661     21   1.29\n",
      "\n",
      "Samples were drawn using NUTS at Tue Jun 16 11:28:46 2020.\n",
      "For each parameter, n_eff is a crude measure of effective sample size,\n",
      "and Rhat is the potential scale reduction factor on split chains (at \n",
      "convergence, Rhat=1).\n"
     ]
    },
    {
     "name": "stderr",
     "output_type": "stream",
     "text": [
      "WARNING:pystan:Maximum (flat) parameter count (1000) exceeded: skipping diagnostic tests for n_eff and Rhat.\n",
      "To run all diagnostics call pystan.check_hmc_diagnostics(fit)\n",
      "WARNING:pystan:3999 of 4000 iterations ended with a divergence (100 %).\n",
      "WARNING:pystan:Try running with adapt_delta larger than 0.8 to remove the divergences.\n"
     ]
    },
    {
     "name": "stdout",
     "output_type": "stream",
     "text": [
      "s2: in try 1/3 found Rhat=1.404, trying again\n"
     ]
    },
    {
     "name": "stderr",
     "output_type": "stream",
     "text": [
      "WARNING:pystan:Maximum (flat) parameter count (1000) exceeded: skipping diagnostic tests for n_eff and Rhat.\n",
      "To run all diagnostics call pystan.check_hmc_diagnostics(fit)\n",
      "WARNING:pystan:4000 of 4000 iterations ended with a divergence (100 %).\n",
      "WARNING:pystan:Try running with adapt_delta larger than 0.8 to remove the divergences.\n"
     ]
    },
    {
     "name": "stdout",
     "output_type": "stream",
     "text": [
      "s2: in try 2/3 found Rhat=1.338, trying again\n"
     ]
    },
    {
     "name": "stderr",
     "output_type": "stream",
     "text": [
      "WARNING:pystan:Maximum (flat) parameter count (1000) exceeded: skipping diagnostic tests for n_eff and Rhat.\n",
      "To run all diagnostics call pystan.check_hmc_diagnostics(fit)\n",
      "WARNING:pystan:4000 of 4000 iterations ended with a divergence (100 %).\n",
      "WARNING:pystan:Try running with adapt_delta larger than 0.8 to remove the divergences.\n"
     ]
    },
    {
     "name": "stdout",
     "output_type": "stream",
     "text": [
      "s2: in try 3/3 found Rhat=1.305, trying again\n",
      "s2 (m5 mlmn)\n",
      "Inference for Stan model: s2.\n",
      "4 chains, each with iter=2000; warmup=1000; thin=1; \n",
      "post-warmup draws per chain=1000, total post-warmup draws=4000.\n",
      "\n",
      "                     mean se_mean     sd   2.5%    25%    50%    75%  97.5%  n_eff   Rhat\n",
      "delta_lambda         1.56    0.05   0.36    1.0   1.29   1.52   1.75   2.46     61   1.07\n",
      "gamma_max            1.42    0.01   0.07   1.28   1.37   1.42   1.47   1.56     25   1.22\n",
      "rho_max              0.01  1.7e-3   0.01 6.9e-4 4.1e-3 9.0e-3   0.02   0.04     45   1.09\n",
      "E_star              56.23    7.91  63.73   0.68  21.07  41.44  67.54 238.92     65   1.06\n",
      "sigma              559.88    8.72  56.45 459.98 518.55 555.52 597.61 682.74     42   1.09\n",
      "divrate              0.74  5.4e-3   0.04   0.67   0.72   0.74   0.77   0.81     45   1.11\n",
      "delta_max[1]         0.19  4.6e-3   0.03   0.13   0.17   0.19   0.21   0.24     44   1.08\n",
      "delta_max[2]         1.17    0.01   0.09   0.99   1.11   1.18   1.23   1.36     49   1.06\n",
      "delta_max[3]         1.53    0.02   0.13    1.3   1.44   1.51   1.61   1.81     41    1.1\n",
      "delta_max[4]         2.05    0.03   0.17   1.72   1.93   2.06   2.15   2.35     33   1.14\n",
      "delta_max[5]          2.6    0.02   0.16   2.29    2.5    2.6    2.7   2.94     67    1.1\n",
      "delta_max[6]         2.93    0.03   0.19   2.56    2.8   2.93   3.06    3.3     57   1.11\n",
      "delta_max[7]         3.09    0.03    0.2   2.69   2.95   3.09   3.22   3.48     63   1.07\n",
      "delta_max[8]         3.23    0.03   0.24   2.81   3.06    3.2   3.39   3.72     50   1.09\n",
      "delta_max[9]         3.47    0.03   0.28   2.95   3.26   3.47   3.67   4.01     67   1.13\n",
      "delta_max[10]        4.04    0.06   0.46   3.28   3.71   3.99   4.33   5.07     61   1.08\n",
      "delta_max[11]        4.75     0.1   0.62   3.72   4.31   4.66   5.12   6.14     39    1.1\n",
      "delta_max[12]        6.18    0.14   0.84   4.63   5.56   6.18   6.76   7.83     36   1.08\n",
      "delta_max[13]        7.26    0.18    0.7   5.89   6.79   7.23   7.73   8.63     15   1.17\n",
      "delta_max[14]        7.57    0.19   0.67   6.28   7.13   7.54   8.02   8.91     12    1.2\n",
      "delta_max[15]        7.84    0.16   0.66   6.53    7.4   7.81   8.28   9.16     18   1.19\n",
      "delta_max[16]        8.09    0.14   0.69   6.68   7.66   8.04   8.53    9.5     26   1.15\n",
      "delta_max[17]        8.45    0.13   0.72   7.14   7.95    8.4   8.91   9.91     30   1.11\n",
      "lp__               -6.3e4    5.52  25.88 -6.3e4 -6.3e4 -6.3e4 -6.3e4 -6.3e4     22   1.19\n",
      "\n",
      "Samples were drawn using NUTS at Tue Jun 16 11:43:46 2020.\n",
      "For each parameter, n_eff is a crude measure of effective sample size,\n",
      "and Rhat is the potential scale reduction factor on split chains (at \n",
      "convergence, Rhat=1).\n"
     ]
    },
    {
     "name": "stderr",
     "output_type": "stream",
     "text": [
      "WARNING:pystan:Maximum (flat) parameter count (1000) exceeded: skipping diagnostic tests for n_eff and Rhat.\n",
      "To run all diagnostics call pystan.check_hmc_diagnostics(fit)\n",
      "WARNING:pystan:2477 of 4000 iterations ended with a divergence (61.9 %).\n",
      "WARNING:pystan:Try running with adapt_delta larger than 0.8 to remove the divergences.\n"
     ]
    },
    {
     "name": "stdout",
     "output_type": "stream",
     "text": [
      "s2 (m5 mlmn)\n",
      "Inference for Stan model: s2.\n",
      "4 chains, each with iter=2000; warmup=1000; thin=1; \n",
      "post-warmup draws per chain=1000, total post-warmup draws=4000.\n",
      "\n",
      "                     mean se_mean     sd   2.5%    25%    50%    75%  97.5%  n_eff   Rhat\n",
      "delta_lambda         2.04    0.01   0.47   1.23   1.71   1.99   2.33   3.05   1372    1.0\n",
      "gamma_max            4.31    0.02   0.33    3.9   4.09   4.24   4.45   5.11    304   1.02\n",
      "rho_max               1.4  2.7e-3   0.07   1.27   1.35    1.4   1.44   1.53    605    1.0\n",
      "E_star              89.01    1.44  25.74   50.7   71.8  85.06 102.05 147.29    318   1.01\n",
      "sigma              394.32    1.43  38.63 324.94 368.51  391.6 417.94  479.5    728    1.0\n",
      "divrate              0.65  1.3e-3   0.05   0.57   0.62   0.65   0.68   0.75   1262    1.0\n",
      "delta_max[1]          0.1  1.0e-3   0.02   0.05   0.08    0.1   0.11   0.14    511    1.0\n",
      "delta_max[2]         0.12  5.9e-4   0.02   0.09   0.11   0.12   0.13   0.16    899    1.0\n",
      "delta_max[3]         0.13  3.9e-4   0.02    0.1   0.12   0.13   0.14   0.17   1617    1.0\n",
      "delta_max[4]         0.14  4.2e-4   0.02   0.11   0.13   0.14   0.15   0.17   1327    1.0\n",
      "delta_max[5]         0.15  4.2e-4   0.02   0.12   0.14   0.15   0.16   0.18   1374    1.0\n",
      "delta_max[6]         0.16  4.5e-4   0.02   0.13   0.15   0.16   0.17   0.19   1232    1.0\n",
      "delta_max[7]         0.16  4.5e-4   0.02   0.13   0.15   0.16   0.17   0.19   1265    1.0\n",
      "delta_max[8]         0.17  4.8e-4   0.02   0.14   0.16   0.17   0.18    0.2   1228    1.0\n",
      "delta_max[9]         0.18  4.7e-4   0.02   0.14   0.16   0.18   0.19   0.21   1484    1.0\n",
      "delta_max[10]        0.19  5.0e-4   0.02   0.15   0.17   0.18    0.2   0.23   1624    1.0\n",
      "delta_max[11]         0.2  6.1e-4   0.02   0.16   0.18    0.2   0.22   0.25   1571    1.0\n",
      "delta_max[12]        0.23  8.4e-4   0.03   0.17    0.2   0.22   0.24    0.3   1461    1.0\n",
      "delta_max[13]        0.28  1.4e-3   0.06    0.2   0.24   0.28   0.32   0.41   1646    1.0\n",
      "delta_max[14]        0.47  3.9e-3   0.13   0.27   0.37   0.46   0.55   0.75   1049    1.0\n",
      "delta_max[15]        0.93  7.4e-3   0.24    0.5   0.75   0.92   1.09   1.42   1080    1.0\n",
      "delta_max[16]        1.77    0.01    0.4   1.06   1.48   1.74   2.02   2.62   1078    1.0\n",
      "delta_max[17]        3.57    0.03   0.66   2.37   3.09   3.56   4.02   4.93    685    1.0\n",
      "delta_max[18]        5.39    0.03   0.76   3.93   4.88    5.4   5.92   6.86    889    1.0\n",
      "delta_max[19]        6.53    0.03   0.74   5.22   6.03    6.5    7.0   8.09    662    1.0\n",
      "delta_max[20]         7.3    0.03   0.82   5.95   6.74    7.2    7.8   9.09    713    1.0\n",
      "lp__               -6.3e4    1.19  22.36 -6.3e4 -6.3e4 -6.3e4 -6.3e4 -6.3e4    354    1.0\n",
      "\n",
      "Samples were drawn using NUTS at Tue Jun 16 12:23:59 2020.\n",
      "For each parameter, n_eff is a crude measure of effective sample size,\n",
      "and Rhat is the potential scale reduction factor on split chains (at \n",
      "convergence, Rhat=1).\n"
     ]
    },
    {
     "name": "stderr",
     "output_type": "stream",
     "text": [
      "WARNING:pystan:Maximum (flat) parameter count (1000) exceeded: skipping diagnostic tests for n_eff and Rhat.\n",
      "To run all diagnostics call pystan.check_hmc_diagnostics(fit)\n",
      "WARNING:pystan:3930 of 4000 iterations ended with a divergence (98.2 %).\n",
      "WARNING:pystan:Try running with adapt_delta larger than 0.8 to remove the divergences.\n"
     ]
    },
    {
     "name": "stdout",
     "output_type": "stream",
     "text": [
      "s2 (m5 mlmn)\n",
      "Inference for Stan model: s2.\n",
      "4 chains, each with iter=2000; warmup=1000; thin=1; \n",
      "post-warmup draws per chain=1000, total post-warmup draws=4000.\n",
      "\n",
      "                     mean se_mean     sd   2.5%    25%    50%    75%  97.5%  n_eff   Rhat\n",
      "delta_lambda         1.92    0.03   0.47    1.1    1.6   1.88   2.21    2.9    224   1.03\n",
      "gamma_max            1.36  4.5e-3   0.06   1.24   1.32   1.36   1.41   1.49    196   1.02\n",
      "rho_max            9.2e-3  6.3e-4 8.4e-3 3.4e-4 2.8e-3 6.6e-3   0.01   0.03    178   1.03\n",
      "E_star              25.43    2.39  41.17   0.19   1.83  10.06  37.37 110.72    298   1.01\n",
      "sigma              414.54    2.07  27.81 367.07 395.79 412.76 431.29 474.67    181   1.02\n",
      "divrate              0.73  2.7e-3   0.03   0.67   0.71   0.73   0.76    0.8    155   1.02\n",
      "delta_max[1]         0.21  3.6e-3   0.03   0.15   0.19   0.21   0.24   0.28     82   1.06\n",
      "delta_max[2]         1.17  8.8e-3    0.1   0.98    1.1   1.16   1.23   1.37    119   1.03\n",
      "delta_max[3]          1.5    0.02   0.14   1.22   1.41   1.51   1.59   1.76     60   1.07\n",
      "delta_max[4]         2.12    0.01   0.16   1.82   2.01   2.12   2.22   2.44    166   1.01\n",
      "delta_max[5]         2.63    0.01   0.16   2.31   2.53   2.64   2.75   2.94    236   1.01\n",
      "delta_max[6]         2.85    0.01   0.16   2.55   2.74   2.85   2.96   3.18    236   1.01\n",
      "delta_max[7]         2.95    0.01   0.17   2.63   2.84   2.95   3.07   3.29    251   1.01\n",
      "delta_max[8]         3.05    0.01   0.18   2.73   2.92   3.04   3.17    3.4    244   1.01\n",
      "delta_max[9]         3.15    0.01    0.2    2.8   3.02   3.14   3.28   3.57    274   1.01\n",
      "delta_max[10]        3.31    0.01   0.24   2.91   3.15   3.29   3.45   3.81    293   1.01\n",
      "delta_max[11]        3.55    0.02   0.32   3.03   3.33   3.52   3.73   4.28    265   1.01\n",
      "delta_max[12]        3.88    0.02   0.37   3.23   3.62   3.84   4.12   4.68    306   1.01\n",
      "delta_max[13]        4.25    0.03   0.45   3.51   3.91   4.21   4.53   5.21    323   1.01\n",
      "delta_max[14]        4.67    0.03   0.53   3.75   4.28   4.64   5.02   5.77    278   1.01\n",
      "delta_max[15]        5.22    0.04   0.64   4.11   4.76   5.16   5.63   6.62    220   1.01\n",
      "delta_max[16]        6.11    0.08    0.8    4.7   5.55   6.08   6.61    7.9    111   1.03\n",
      "delta_max[17]        6.58    0.06   0.84   5.01   5.99   6.54    7.1   8.37    216   1.02\n",
      "lp__               -6.4e5    1.32  19.04 -6.4e5 -6.4e5 -6.4e5 -6.4e5 -6.4e5    208   1.02\n",
      "\n",
      "Samples were drawn using NUTS at Tue Jun 16 12:28:31 2020.\n",
      "For each parameter, n_eff is a crude measure of effective sample size,\n",
      "and Rhat is the potential scale reduction factor on split chains (at \n",
      "convergence, Rhat=1).\n"
     ]
    },
    {
     "name": "stderr",
     "output_type": "stream",
     "text": [
      "WARNING:pystan:Maximum (flat) parameter count (1000) exceeded: skipping diagnostic tests for n_eff and Rhat.\n",
      "To run all diagnostics call pystan.check_hmc_diagnostics(fit)\n"
     ]
    },
    {
     "name": "stdout",
     "output_type": "stream",
     "text": [
      "s2 (m5 mlmn)\n",
      "Inference for Stan model: s2.\n",
      "4 chains, each with iter=2000; warmup=1000; thin=1; \n",
      "post-warmup draws per chain=1000, total post-warmup draws=4000.\n",
      "\n",
      "                     mean se_mean     sd   2.5%    25%    50%    75%  97.5%  n_eff   Rhat\n",
      "delta_lambda         2.14  6.0e-3    0.5   1.31   1.79    2.1   2.45   3.21   6906    1.0\n",
      "gamma_max            3.84  3.8e-3   0.16   3.61   3.73   3.82   3.92   4.24   1833    1.0\n",
      "rho_max              1.33  1.3e-3   0.07   1.19   1.28   1.33   1.38   1.48   2991    1.0\n",
      "E_star              63.69    0.41   17.7  37.79  50.72  60.65  74.17 105.28   1855    1.0\n",
      "sigma              265.94    0.29  19.07 230.22 252.89 265.55 278.86 304.71   4335    1.0\n",
      "divrate              0.67  7.0e-4   0.05   0.59   0.64   0.67    0.7   0.77   4692    1.0\n",
      "delta_max[1]         0.18  2.7e-4   0.02   0.14   0.17   0.18   0.19   0.22   5282    1.0\n",
      "delta_max[2]         0.19  2.6e-4   0.02   0.15   0.17   0.19    0.2   0.23   5245    1.0\n",
      "delta_max[3]         0.19  2.5e-4   0.02   0.16   0.18   0.19   0.21   0.23   5370    1.0\n",
      "delta_max[4]          0.2  2.5e-4   0.02   0.17   0.19    0.2   0.21   0.24   5249    1.0\n",
      "delta_max[5]          0.2  2.5e-4   0.02   0.17   0.19    0.2   0.21   0.24   5242    1.0\n",
      "delta_max[6]         0.21  2.6e-4   0.02   0.17   0.19    0.2   0.22   0.24   5049    1.0\n",
      "delta_max[7]         0.21  2.6e-4   0.02   0.18    0.2   0.21   0.22   0.25   5111    1.0\n",
      "delta_max[8]         0.21  2.7e-4   0.02   0.18    0.2   0.21   0.23   0.25   5172    1.0\n",
      "delta_max[9]         0.22  2.8e-4   0.02   0.18    0.2   0.22   0.23   0.26   5162    1.0\n",
      "delta_max[10]        0.22  2.9e-4   0.02   0.19   0.21   0.22   0.24   0.27   5153    1.0\n",
      "delta_max[11]        0.23  3.2e-4   0.02   0.19   0.22   0.23   0.25   0.28   5043    1.0\n",
      "delta_max[12]        0.25  3.9e-4   0.03    0.2   0.23   0.25   0.27   0.32   5607    1.0\n",
      "delta_max[13]         0.3  6.9e-4   0.05   0.22   0.26   0.29   0.33   0.42   5569    1.0\n",
      "delta_max[14]        0.46  1.9e-3   0.13   0.27   0.36   0.45   0.54   0.75   4620    1.0\n",
      "delta_max[15]        0.99  4.2e-3   0.26   0.53    0.8   0.99   1.17    1.5   3777    1.0\n",
      "delta_max[16]        1.94  7.6e-3   0.42   1.19   1.63   1.91   2.22   2.82   3099    1.0\n",
      "delta_max[17]        3.95    0.01   0.66   2.66   3.48   3.96   4.41   5.22   2865    1.0\n",
      "delta_max[18]        5.36  9.3e-3   0.64   4.15   4.93   5.34   5.78   6.64   4698    1.0\n",
      "delta_max[19]        6.13  9.5e-3   0.66   4.91   5.67   6.11   6.56   7.48   4855    1.0\n",
      "delta_max[20]        6.86    0.01   0.76   5.58   6.33   6.78   7.31   8.54   4397    1.0\n",
      "lp__               -6.3e5    0.46   17.8 -6.3e5 -6.3e5 -6.3e5 -6.3e5 -6.3e5   1527    1.0\n",
      "\n",
      "Samples were drawn using NUTS at Tue Jun 16 12:41:40 2020.\n",
      "For each parameter, n_eff is a crude measure of effective sample size,\n",
      "and Rhat is the potential scale reduction factor on split chains (at \n",
      "convergence, Rhat=1).\n"
     ]
    },
    {
     "name": "stderr",
     "output_type": "stream",
     "text": [
      "WARNING:pystan:Maximum (flat) parameter count (1000) exceeded: skipping diagnostic tests for n_eff and Rhat.\n",
      "To run all diagnostics call pystan.check_hmc_diagnostics(fit)\n",
      "WARNING:pystan:3960 of 4000 iterations ended with a divergence (99 %).\n",
      "WARNING:pystan:Try running with adapt_delta larger than 0.8 to remove the divergences.\n"
     ]
    },
    {
     "name": "stdout",
     "output_type": "stream",
     "text": [
      "s2: in try 1/3 found Rhat=1.123, trying again\n"
     ]
    },
    {
     "name": "stderr",
     "output_type": "stream",
     "text": [
      "WARNING:pystan:Maximum (flat) parameter count (1000) exceeded: skipping diagnostic tests for n_eff and Rhat.\n",
      "To run all diagnostics call pystan.check_hmc_diagnostics(fit)\n",
      "WARNING:pystan:3964 of 4000 iterations ended with a divergence (99.1 %).\n",
      "WARNING:pystan:Try running with adapt_delta larger than 0.8 to remove the divergences.\n"
     ]
    },
    {
     "name": "stdout",
     "output_type": "stream",
     "text": [
      "s2: in try 2/3 found Rhat=1.102, trying again\n"
     ]
    },
    {
     "name": "stderr",
     "output_type": "stream",
     "text": [
      "WARNING:pystan:Maximum (flat) parameter count (1000) exceeded: skipping diagnostic tests for n_eff and Rhat.\n",
      "To run all diagnostics call pystan.check_hmc_diagnostics(fit)\n",
      "WARNING:pystan:3976 of 4000 iterations ended with a divergence (99.4 %).\n",
      "WARNING:pystan:Try running with adapt_delta larger than 0.8 to remove the divergences.\n"
     ]
    },
    {
     "name": "stdout",
     "output_type": "stream",
     "text": [
      "s2: in try 3/3 found Rhat=1.122, trying again\n",
      "s2 (m5 mlmn)\n",
      "Inference for Stan model: s2.\n",
      "4 chains, each with iter=2000; warmup=1000; thin=1; \n",
      "post-warmup draws per chain=1000, total post-warmup draws=4000.\n",
      "\n",
      "                     mean se_mean     sd   2.5%    25%    50%    75%  97.5%  n_eff   Rhat\n",
      "delta_lambda         1.82    0.04   0.46   1.05   1.49   1.78   2.12   2.79    150   1.02\n",
      "gamma_max            1.35  4.7e-3   0.06   1.21   1.31   1.35   1.39   1.47    180   1.04\n",
      "rho_max            8.0e-3  6.6e-4 7.4e-3 2.7e-4 2.6e-3 5.7e-3   0.01   0.03    124   1.06\n",
      "E_star              26.27    3.05  39.12   0.16   2.04  10.49  38.74 114.91    164   1.01\n",
      "sigma              392.37    1.61  22.87 350.05 376.62 392.04 406.55 441.23    202   1.03\n",
      "divrate              0.73  3.2e-3   0.03   0.66   0.71   0.73   0.75   0.79    102   1.03\n",
      "delta_max[1]         0.22  2.2e-3   0.03   0.16    0.2   0.22   0.24   0.28    174   1.03\n",
      "delta_max[2]         1.14    0.01   0.09   0.94   1.08   1.14    1.2   1.31     75   1.02\n",
      "delta_max[3]          1.5  9.8e-3   0.12   1.29   1.42    1.5   1.58   1.75    146   1.02\n",
      "delta_max[4]          2.1    0.01   0.15   1.83    2.0   2.11    2.2   2.39    194   1.02\n",
      "delta_max[5]         2.63    0.02   0.16   2.31   2.52   2.63   2.74   2.95     90   1.06\n",
      "delta_max[6]         2.81    0.02   0.16    2.5    2.7   2.81   2.92   3.12    109   1.03\n",
      "delta_max[7]         2.92    0.02   0.17   2.56   2.81   2.93   3.04   3.25    108   1.04\n",
      "delta_max[8]          3.0    0.02   0.18   2.66   2.89   3.01   3.13   3.35    108   1.03\n",
      "delta_max[9]         3.09    0.02   0.19   2.72   2.96   3.09   3.22   3.47    128   1.03\n",
      "delta_max[10]        3.24    0.02   0.22   2.82    3.1   3.23   3.39   3.71    150   1.02\n",
      "delta_max[11]        3.45    0.02   0.27   2.96   3.26   3.43   3.63   4.03    124   1.02\n",
      "delta_max[12]        3.75    0.03   0.34   3.14    3.5   3.74   3.98   4.45    138   1.02\n",
      "delta_max[13]        4.12    0.04   0.43   3.36   3.83   4.09   4.37   5.04    142   1.02\n",
      "delta_max[14]        4.56    0.05   0.49   3.69   4.21   4.52   4.87   5.63    113   1.03\n",
      "delta_max[15]        5.36    0.09   0.72   4.15   4.82    5.3   5.84   6.94     70   1.02\n",
      "delta_max[16]        6.58    0.07    0.8   5.15   6.01   6.53   7.07   8.29    115   1.03\n",
      "delta_max[17]        7.15    0.06   0.87   5.66   6.55   7.06   7.68   9.08    187   1.01\n",
      "lp__               -6.4e6     1.5  18.06 -6.4e6 -6.4e6 -6.4e6 -6.4e6 -6.4e6    145   1.03\n",
      "\n",
      "Samples were drawn using NUTS at Tue Jun 16 12:57:19 2020.\n",
      "For each parameter, n_eff is a crude measure of effective sample size,\n",
      "and Rhat is the potential scale reduction factor on split chains (at \n",
      "convergence, Rhat=1).\n"
     ]
    },
    {
     "name": "stderr",
     "output_type": "stream",
     "text": [
      "WARNING:pystan:Maximum (flat) parameter count (1000) exceeded: skipping diagnostic tests for n_eff and Rhat.\n",
      "To run all diagnostics call pystan.check_hmc_diagnostics(fit)\n"
     ]
    },
    {
     "name": "stdout",
     "output_type": "stream",
     "text": [
      "s2 (m5 mlmn)\n",
      "Inference for Stan model: s2.\n",
      "4 chains, each with iter=2000; warmup=1000; thin=1; \n",
      "post-warmup draws per chain=1000, total post-warmup draws=4000.\n",
      "\n",
      "                     mean se_mean     sd   2.5%    25%    50%    75%  97.5%  n_eff   Rhat\n",
      "delta_lambda         2.16  8.0e-3   0.52    1.3   1.78   2.11   2.48   3.35   4247    1.0\n",
      "gamma_max            3.83  4.4e-3   0.17   3.58   3.72    3.8    3.9   4.24   1453    1.0\n",
      "rho_max              1.33  1.6e-3   0.07   1.18   1.28   1.33   1.38   1.47   2178    1.0\n",
      "E_star               63.5     0.5  18.29  37.12  50.04  60.27  73.91  105.7   1352    1.0\n",
      "sigma              254.76    0.29  17.28 221.26  242.7 254.31 266.33 290.15   3540    1.0\n",
      "divrate              0.67  7.1e-4   0.05   0.59   0.64   0.67    0.7   0.77   4284    1.0\n",
      "delta_max[1]         0.18  3.2e-4   0.02   0.15   0.17   0.18   0.19   0.22   3555    1.0\n",
      "delta_max[2]         0.19  2.8e-4   0.02   0.16   0.18   0.19    0.2   0.23   4246    1.0\n",
      "delta_max[3]          0.2  2.7e-4   0.02   0.16   0.18    0.2   0.21   0.23   4499    1.0\n",
      "delta_max[4]          0.2  2.6e-4   0.02   0.17   0.19    0.2   0.21   0.24   4647    1.0\n",
      "delta_max[5]          0.2  2.6e-4   0.02   0.17   0.19    0.2   0.22   0.24   4742    1.0\n",
      "delta_max[6]         0.21  2.7e-4   0.02   0.18    0.2   0.21   0.22   0.25   4751    1.0\n",
      "delta_max[7]         0.21  2.7e-4   0.02   0.18    0.2   0.21   0.22   0.25   4695    1.0\n",
      "delta_max[8]         0.22  2.7e-4   0.02   0.18    0.2   0.21   0.23   0.26   4765    1.0\n",
      "delta_max[9]         0.22  2.8e-4   0.02   0.19   0.21   0.22   0.23   0.26   4671    1.0\n",
      "delta_max[10]        0.23  3.1e-4   0.02   0.19   0.21   0.23   0.24   0.27   4462    1.0\n",
      "delta_max[11]        0.24  3.4e-4   0.02    0.2   0.22   0.23   0.25   0.29   4495    1.0\n",
      "delta_max[12]        0.25  4.2e-4   0.03   0.21   0.23   0.25   0.27   0.32   4634    1.0\n",
      "delta_max[13]         0.3  7.4e-4   0.05   0.22   0.26   0.29   0.33   0.42   4561    1.0\n",
      "delta_max[14]        0.46  2.2e-3   0.12   0.27   0.37   0.44   0.54   0.75   3300    1.0\n",
      "delta_max[15]        0.99  4.9e-3   0.26   0.52    0.8   0.98   1.17   1.52   2856    1.0\n",
      "delta_max[16]        1.96  8.9e-3   0.44   1.19   1.64   1.92   2.25   2.91   2419    1.0\n",
      "delta_max[17]        3.94    0.02   0.68   2.62   3.46   3.94   4.42   5.23   2013    1.0\n",
      "delta_max[18]        5.34    0.01   0.65   4.07    4.9   5.33   5.76   6.67   3400    1.0\n",
      "delta_max[19]        6.12  9.8e-3   0.66   4.95   5.66   6.09   6.52   7.52   4476    1.0\n",
      "delta_max[20]        6.82    0.01   0.78    5.5   6.28   6.75   7.27   8.55   4447    1.0\n",
      "lp__               -6.4e6    0.42  17.98 -6.4e6 -6.4e6 -6.4e6 -6.4e6 -6.4e6   1874    1.0\n",
      "\n",
      "Samples were drawn using NUTS at Tue Jun 16 13:08:41 2020.\n",
      "For each parameter, n_eff is a crude measure of effective sample size,\n",
      "and Rhat is the potential scale reduction factor on split chains (at \n",
      "convergence, Rhat=1).\n"
     ]
    },
    {
     "name": "stderr",
     "output_type": "stream",
     "text": [
      "WARNING:pystan:Maximum (flat) parameter count (1000) exceeded: skipping diagnostic tests for n_eff and Rhat.\n",
      "To run all diagnostics call pystan.check_hmc_diagnostics(fit)\n",
      "WARNING:pystan:3994 of 4000 iterations ended with a divergence (99.8 %).\n",
      "WARNING:pystan:Try running with adapt_delta larger than 0.8 to remove the divergences.\n"
     ]
    },
    {
     "name": "stdout",
     "output_type": "stream",
     "text": [
      "s2: in try 1/3 found Rhat=1.189, trying again\n"
     ]
    },
    {
     "name": "stderr",
     "output_type": "stream",
     "text": [
      "WARNING:pystan:Maximum (flat) parameter count (1000) exceeded: skipping diagnostic tests for n_eff and Rhat.\n",
      "To run all diagnostics call pystan.check_hmc_diagnostics(fit)\n",
      "WARNING:pystan:3994 of 4000 iterations ended with a divergence (99.8 %).\n",
      "WARNING:pystan:Try running with adapt_delta larger than 0.8 to remove the divergences.\n"
     ]
    },
    {
     "name": "stdout",
     "output_type": "stream",
     "text": [
      "s2: in try 2/3 found Rhat=1.199, trying again\n"
     ]
    },
    {
     "name": "stderr",
     "output_type": "stream",
     "text": [
      "WARNING:pystan:Maximum (flat) parameter count (1000) exceeded: skipping diagnostic tests for n_eff and Rhat.\n",
      "To run all diagnostics call pystan.check_hmc_diagnostics(fit)\n",
      "WARNING:pystan:3990 of 4000 iterations ended with a divergence (99.8 %).\n",
      "WARNING:pystan:Try running with adapt_delta larger than 0.8 to remove the divergences.\n"
     ]
    },
    {
     "name": "stdout",
     "output_type": "stream",
     "text": [
      "s2: in try 3/3 found Rhat=1.169, trying again\n",
      "s2 (m5 mlmn)\n",
      "Inference for Stan model: s2.\n",
      "4 chains, each with iter=2000; warmup=1000; thin=1; \n",
      "post-warmup draws per chain=1000, total post-warmup draws=4000.\n",
      "\n",
      "                     mean se_mean     sd   2.5%    25%    50%    75%  97.5%  n_eff   Rhat\n",
      "delta_lambda         1.66    0.05   0.41   0.95   1.34   1.65   1.94    2.5     71   1.04\n",
      "gamma_max            1.35  5.4e-3   0.07   1.22   1.31   1.35   1.39   1.48    148   1.04\n",
      "rho_max            8.1e-3  6.2e-4 7.7e-3 3.0e-4 2.6e-3 5.8e-3   0.01   0.03    152   1.01\n",
      "E_star              16.08     2.3  26.21   0.35   1.78    4.5  21.04  84.35    129   1.04\n",
      "sigma              385.56    2.54  26.01 328.44 368.55 388.13 403.91 430.77    105   1.02\n",
      "divrate              0.74  2.8e-3   0.03   0.67   0.71   0.74   0.76    0.8    131   1.02\n",
      "delta_max[1]         0.22  2.7e-3   0.03   0.17    0.2   0.22   0.24   0.28    114   1.03\n",
      "delta_max[2]         1.16  9.0e-3   0.09   0.98    1.1   1.16   1.22   1.35    105   1.05\n",
      "delta_max[3]         1.52    0.02   0.12    1.3   1.43   1.51    1.6   1.75     44   1.09\n",
      "delta_max[4]         2.15    0.02   0.16   1.85   2.04   2.15   2.25   2.47     43   1.14\n",
      "delta_max[5]         2.61    0.02   0.16    2.3   2.49   2.61   2.73   2.93     91   1.03\n",
      "delta_max[6]         2.84    0.01   0.17   2.48   2.73   2.84   2.96   3.18    137   1.01\n",
      "delta_max[7]         2.94    0.02   0.18    2.6   2.82   2.94   3.06   3.29    103   1.02\n",
      "delta_max[8]         3.02    0.02   0.18   2.69   2.89   3.01   3.14   3.37    136   1.02\n",
      "delta_max[9]         3.12    0.02    0.2   2.74   2.98   3.11   3.25   3.52    146   1.01\n",
      "delta_max[10]        3.27    0.02   0.23   2.85   3.11   3.25   3.41   3.75    136   1.03\n",
      "delta_max[11]        3.47    0.02   0.29   2.97   3.28   3.45   3.64   4.09    163   1.01\n",
      "delta_max[12]         3.8    0.03   0.34   3.21   3.56   3.78   4.02   4.52    135   1.03\n",
      "delta_max[13]         4.2    0.04   0.43   3.45   3.89   4.16   4.47   5.15    109   1.05\n",
      "delta_max[14]         4.8    0.04   0.54   3.87   4.39   4.79   5.15   5.97    161   1.02\n",
      "delta_max[15]        5.69    0.12   0.83   4.21   5.09   5.62   6.26   7.42     50   1.04\n",
      "delta_max[16]        7.12    0.14   0.93   5.44   6.48   7.04   7.72   9.08     42    1.1\n",
      "delta_max[17]        7.67    0.11   0.94   6.02    7.0   7.61   8.29   9.68     70   1.06\n",
      "lp__               -6.4e7    1.37   17.6 -6.4e7 -6.4e7 -6.4e7 -6.4e7 -6.4e7    166   1.04\n",
      "\n",
      "Samples were drawn using NUTS at Tue Jun 16 13:25:12 2020.\n",
      "For each parameter, n_eff is a crude measure of effective sample size,\n",
      "and Rhat is the potential scale reduction factor on split chains (at \n",
      "convergence, Rhat=1).\n"
     ]
    },
    {
     "name": "stderr",
     "output_type": "stream",
     "text": [
      "WARNING:pystan:Maximum (flat) parameter count (1000) exceeded: skipping diagnostic tests for n_eff and Rhat.\n",
      "To run all diagnostics call pystan.check_hmc_diagnostics(fit)\n"
     ]
    },
    {
     "name": "stdout",
     "output_type": "stream",
     "text": [
      "s2 (m5 mlmn)\n",
      "Inference for Stan model: s2.\n",
      "4 chains, each with iter=2000; warmup=1000; thin=1; \n",
      "post-warmup draws per chain=1000, total post-warmup draws=4000.\n",
      "\n",
      "                     mean se_mean     sd   2.5%    25%    50%    75%  97.5%  n_eff   Rhat\n",
      "delta_lambda         2.16  6.9e-3   0.51   1.28   1.81   2.11   2.48   3.25   5302    1.0\n",
      "gamma_max            3.83  5.0e-3   0.17   3.58   3.72    3.8    3.9   4.25   1143    1.0\n",
      "rho_max              1.32  1.6e-3   0.08   1.18   1.27   1.32   1.37   1.47   2294    1.0\n",
      "E_star              63.91    0.55  18.72   36.8  50.26  60.84  74.34 107.32   1179    1.0\n",
      "sigma              253.59     0.3  17.54 219.65 241.82 253.27 265.44 289.06   3434    1.0\n",
      "divrate              0.67  7.0e-4   0.05   0.58   0.64   0.67    0.7   0.77   4554    1.0\n",
      "delta_max[1]         0.18  3.2e-4   0.02   0.15   0.17   0.18   0.19   0.22   3663    1.0\n",
      "delta_max[2]         0.19  2.8e-4   0.02   0.16   0.18   0.19    0.2   0.23   4245    1.0\n",
      "delta_max[3]          0.2  2.8e-4   0.02   0.16   0.18    0.2   0.21   0.23   4323    1.0\n",
      "delta_max[4]          0.2  2.8e-4   0.02   0.17   0.19    0.2   0.21   0.24   4282    1.0\n",
      "delta_max[5]          0.2  2.8e-4   0.02   0.17   0.19    0.2   0.22   0.24   4390    1.0\n",
      "delta_max[6]         0.21  2.8e-4   0.02   0.18    0.2   0.21   0.22   0.25   4381    1.0\n",
      "delta_max[7]         0.21  2.8e-4   0.02   0.18    0.2   0.21   0.22   0.25   4578    1.0\n",
      "delta_max[8]         0.22  2.8e-4   0.02   0.18    0.2   0.21   0.23   0.26   4669    1.0\n",
      "delta_max[9]         0.22  2.9e-4   0.02   0.19   0.21   0.22   0.23   0.26   4569    1.0\n",
      "delta_max[10]        0.23  3.1e-4   0.02   0.19   0.21   0.23   0.24   0.27   4538    1.0\n",
      "delta_max[11]        0.24  3.4e-4   0.02    0.2   0.22   0.23   0.25   0.29   4576    1.0\n",
      "delta_max[12]        0.25  4.4e-4   0.03    0.2   0.23   0.25   0.27   0.32   4286    1.0\n",
      "delta_max[13]         0.3  7.2e-4   0.05   0.22   0.26   0.29   0.33   0.42   5197    1.0\n",
      "delta_max[14]        0.47  1.9e-3   0.12   0.28   0.37   0.45   0.54   0.74   4321    1.0\n",
      "delta_max[15]        0.99  4.9e-3   0.26   0.53    0.8   0.98   1.16   1.52   2814    1.0\n",
      "delta_max[16]        1.95  9.0e-3   0.43    1.2   1.64   1.92   2.23   2.88   2316    1.0\n",
      "delta_max[17]        3.95    0.01   0.66   2.65   3.48   3.98   4.41   5.18   2213    1.0\n",
      "delta_max[18]        5.34    0.01   0.65   4.13    4.9   5.32   5.75   6.68   3272    1.0\n",
      "delta_max[19]        6.09  9.5e-3   0.68   4.85   5.61   6.05   6.54   7.55   5036    1.0\n",
      "delta_max[20]        6.81    0.01   0.76   5.48   6.28   6.74   7.26    8.5   4988    1.0\n",
      "lp__               -6.4e7    0.44  17.61 -6.4e7 -6.4e7 -6.4e7 -6.4e7 -6.4e7   1576    1.0\n",
      "\n",
      "Samples were drawn using NUTS at Tue Jun 16 13:36:07 2020.\n",
      "For each parameter, n_eff is a crude measure of effective sample size,\n",
      "and Rhat is the potential scale reduction factor on split chains (at \n",
      "convergence, Rhat=1).\n"
     ]
    }
   ],
   "source": [
    "import time\n",
    "refit_all = False\n",
    "\n",
    "def get_max_rhat(fit):\n",
    "    s = fit.summary()\n",
    "    irhat = s['summary_colnames'].index(\"Rhat\")\n",
    "    return np.nanmax(s['summary'][:,irhat])\n",
    "\n",
    "def get_mean_rhat(fit):\n",
    "    s = fit.summary()\n",
    "    irhat = s['summary_colnames'].index(\"Rhat\")\n",
    "    return np.nanmean(s['summary'][:,irhat])\n",
    "\n",
    "if 'maxrhats' not in globals():\n",
    "    maxrhats = {}\n",
    "if 'meanrhats' not in globals():\n",
    "    meanrhats = {}\n",
    "if 'sampling_time' not in globals():\n",
    "    sampling_time = {}\n",
    "\n",
    "    \n",
    "try_again = False\n",
    "\n",
    "# run a bunch of experiments -- this may take a while\n",
    "for name in models:\n",
    "    if name not in maxrhats:\n",
    "        maxrhats[name] = {}\n",
    "    if name not in meanrhats:\n",
    "        meanrhats[name] = {}\n",
    "    if name not in sampling_time:\n",
    "        sampling_time[name] = {}\n",
    "    for dataname in data:\n",
    "        if dataname not in maxrhats[name]:\n",
    "            maxrhats[name][dataname] = []\n",
    "        if dataname not in meanrhats[name]:\n",
    "            meanrhats[name][dataname] = []\n",
    "        if dataname not in sampling_time[name]:\n",
    "            sampling_time[name][dataname] = []\n",
    "        if name in mcmcs:\n",
    "            if dataname in mcmcs[name] and not refit_all and not refit_required[name]:\n",
    "                print('{} ({})'.format(name, desc_model[name])) \n",
    "                print('\\n'.join(x for x in mcmcs[name][dataname].__str__().split('\\n') if 'mod_obspos' not in x and 'theta' not in x and 'w_ini' not in x and 'incr' not in x))\n",
    "                rhat_max = get_max_rhat(mcmcs[name][dataname])\n",
    "                if try_again and rhat_max >= 1.1:\n",
    "                    print('{}: found Rhat={:.3f}, trying again'.format(name,rhat_max))\n",
    "                else:\n",
    "                    continue\n",
    "        else:\n",
    "            mcmcs[name] = {}\n",
    "        for itry in range(3):\n",
    "            t0 = time.time()\n",
    "            mcmcs[name][dataname] = models[name].sampling(data=data[dataname], iter=2000)\n",
    "            sampling_time[name][dataname].append(time.time() - t0) # in seconds\n",
    "            meanrhats[name][dataname].append(get_mean_rhat(mcmcs[name][dataname]))\n",
    "            # get max Rhat\n",
    "            rhat_max = get_max_rhat(mcmcs[name][dataname])\n",
    "            maxrhats[name][dataname].append(rhat_max)\n",
    "            if rhat_max < 1.1:\n",
    "                break\n",
    "            print('{}: in try {}/3 found Rhat={:.3f}, trying again'.format(name,itry+1,rhat_max))\n",
    "        print('{} ({})'.format(name, desc_model[name])) \n",
    "        print('\\n'.join(x for x in mcmcs[name][dataname].__str__().split('\\n') if 'mod_obspos' not in x and 'theta' not in x and 'w_ini' not in x and 'incr' not in x))"
   ]
  },
  {
   "cell_type": "markdown",
   "metadata": {},
   "source": [
    "## plot the results"
   ]
  },
  {
   "cell_type": "code",
   "execution_count": 7,
   "metadata": {},
   "outputs": [],
   "source": [
    "mpl.rcParams['axes.labelsize'] = 20\n",
    "mpl.rcParams['legend.fontsize'] = 16\n",
    "mpl.rcParams['axes.titlesize'] = 26\n",
    "mpl.rcParams['figure.figsize'] = (24,12)\n",
    "mpl.rcParams['xtick.labelsize'] = 16\n",
    "mpl.rcParams['ytick.labelsize'] = 16\n",
    "\n",
    "maxrhats_final = {name:{dataname:get_max_rhat(mcmcs[name][dataname]) for dataname in data} for name in mcmcs}        "
   ]
  },
  {
   "cell_type": "code",
   "execution_count": 8,
   "metadata": {
    "scrolled": false
   },
   "outputs": [
    {
     "data": {
      "image/png": "[encoded data removed]",
      "text/plain": [
       "<Figure size 1728x1296 with 2 Axes>"
      ]
     },
     "metadata": {
      "needs_background": "light"
     },
     "output_type": "display_data"
    }
   ],
   "source": [
    "ylim_top = 0\n",
    "for dataname in data:\n",
    "    for name in mcmcs:\n",
    "        ylim_top = max(ylim_top, len(maxrhats[name][dataname]))\n",
    "ylim_top += 1\n",
    "\n",
    "fig, axs = plt.subplots(nrows=2, figsize=(max(24,len(mcmcs)*4.5),2*9), sharey=True)\n",
    "\n",
    "xticks = ([],[])\n",
    "xticklabels = ([],[])\n",
    "\n",
    "for idata,dataname in enumerate(data):\n",
    "    if 'zinser' in dataname:\n",
    "        iax = 0\n",
    "    else:\n",
    "        iax = 1\n",
    "    \n",
    "    ax = axs[iax]\n",
    "    for i,name in enumerate(mcmcs):\n",
    "        \n",
    "        height_bad = sum(rh > 1.1 for rh in maxrhats[name][dataname])\n",
    "        height_good = len(maxrhats[name][dataname]) - height_bad\n",
    "        x = idata//2*len(mcmcs)+i\n",
    "        \n",
    "        ax.bar(x=x, height=height_bad, color='tab:red', label='max $\\\\\\\\hat{R}$ > 1.1')\n",
    "        ax.bar(x=x, height=height_good, bottom=height_bad, color='tab:green', label='max $\\\\hat{R} \\le$ 1.1')\n",
    "        xticks[iax].append(x)\n",
    "        xticklabels[iax].append(desc_model[name].replace(',',',\\n') + '\\ncount=\\n' + dataname.split()[1])\n",
    "\n",
    "for iax,ax in enumerate(axs.flat): \n",
    "    ax.set(ylabel='number of Stan sampling runs', xticks=xticks[iax], ylim=(0, ylim_top))\n",
    "    ax.set_title('convergence/$\\hat{{R}}$ statistics for {} dataset'.format(('Zinser','SeaFlow')[iax]), size=20)\n",
    "    ax.set_xticklabels(xticklabels[iax])#, rotation=8)\n",
    "    ax.grid(axis='y')\n",
    "\n",
    "None"
   ]
  },
  {
   "cell_type": "code",
   "execution_count": null,
   "metadata": {},
   "outputs": [],
   "source": []
  }
 ],
 "metadata": {
  "kernelspec": {
   "display_name": "Python 3",
   "language": "python",
   "name": "python3"
  },
  "language_info": {
   "codemirror_mode": {
    "name": "ipython",
    "version": 3
   },
   "file_extension": ".py",
   "mimetype": "text/x-python",
   "name": "python",
   "nbconvert_exporter": "python",
   "pygments_lexer": "ipython3",
   "version": "3.6.9"
  }
 },
 "nbformat": 4,
 "nbformat_minor": 2
}
